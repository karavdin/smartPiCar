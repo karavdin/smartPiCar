{
  "cells": [
    {
      "cell_type": "markdown",
      "metadata": {
        "id": "view-in-github",
        "colab_type": "text"
      },
      "source": [
        "<a href=\"https://colab.research.google.com/github/karavdin/smartPiCar/blob/main/code/training_tensorflow_lite_LEGO_object_detection.ipynb\" target=\"_parent\"><img src=\"https://colab.research.google.com/assets/colab-badge.svg\" alt=\"Open In Colab\"/></a>"
      ]
    },
    {
      "cell_type": "markdown",
      "metadata": {
        "id": "uQCnYPVDrsgx"
      },
      "source": [
        "# Training a model to detect LEGO objects with Raspberry Pi in Real Time\n",
        "\n",
        "This notebook is based on tutorial and Colab Notebook [\"Training a Raspberry Pi to Detect Traffic Signs and People in Real Time\"](https://github.com/dctian/DeepPiCar/blob/master/models/object_detection/code/tensorflow_traffic_sign_detection.ipynb). The original notebook was written 4 years ago and does not work. Therefore is was updated following methods used in \n",
        "[\"TensorFlow Lite Python object detection example with Raspberry Pi\"](https://github.com/tensorflow/examples/tree/master/lite/examples/object_detection/raspberry_pi) from Tensorflow-Lite team.  \n",
        "\n",
        "As the Raspberry Pi is fairly limited on CPU power and can only run object detection at 1-2 FPS (frames/sec), Google's [EdgeTPU USB Accelarator](https://coral.withgoogle.com/products/accelerator), which can detect objects at 12 FPS, will be used for the model inference."
      ]
    },
    {
      "cell_type": "markdown",
      "metadata": {
        "id": "Zk1-8_tshY7_"
      },
      "source": [
        "# Section 0: Check GPU connection"
      ]
    },
    {
      "cell_type": "code",
      "execution_count": 1,
      "metadata": {
        "colab": {
          "base_uri": "https://localhost:8080/"
        },
        "id": "cHErm8TDhdmj",
        "outputId": "795a0613-d506-46ea-e3f8-36a147674089",
        "vscode": {
          "languageId": "python"
        }
      },
      "outputs": [
        {
          "output_type": "stream",
          "name": "stdout",
          "text": [
            "Mon Apr 10 10:31:00 2023       \n",
            "+-----------------------------------------------------------------------------+\n",
            "| NVIDIA-SMI 525.85.12    Driver Version: 525.85.12    CUDA Version: 12.0     |\n",
            "|-------------------------------+----------------------+----------------------+\n",
            "| GPU  Name        Persistence-M| Bus-Id        Disp.A | Volatile Uncorr. ECC |\n",
            "| Fan  Temp  Perf  Pwr:Usage/Cap|         Memory-Usage | GPU-Util  Compute M. |\n",
            "|                               |                      |               MIG M. |\n",
            "|===============================+======================+======================|\n",
            "|   0  Tesla T4            Off  | 00000000:00:04.0 Off |                    0 |\n",
            "| N/A   48C    P8    10W /  70W |      0MiB / 15360MiB |      0%      Default |\n",
            "|                               |                      |                  N/A |\n",
            "+-------------------------------+----------------------+----------------------+\n",
            "                                                                               \n",
            "+-----------------------------------------------------------------------------+\n",
            "| Processes:                                                                  |\n",
            "|  GPU   GI   CI        PID   Type   Process name                  GPU Memory |\n",
            "|        ID   ID                                                   Usage      |\n",
            "|=============================================================================|\n",
            "|  No running processes found                                                 |\n",
            "+-----------------------------------------------------------------------------+\n"
          ]
        }
      ],
      "source": [
        "gpu_info = !nvidia-smi\n",
        "gpu_info = '\\n'.join(gpu_info)\n",
        "if gpu_info.find('failed') >= 0:\n",
        "  print('Not connected to a GPU')\n",
        "else:\n",
        "  print(gpu_info)"
      ]
    },
    {
      "cell_type": "code",
      "execution_count": 2,
      "metadata": {
        "colab": {
          "base_uri": "https://localhost:8080/"
        },
        "id": "uNaf5LPHi60k",
        "outputId": "fb9ca5c4-6a13-4b58-db6e-ae1c7a8b6659",
        "vscode": {
          "languageId": "python"
        }
      },
      "outputs": [
        {
          "output_type": "stream",
          "name": "stdout",
          "text": [
            "Your runtime has 13.6 gigabytes of available RAM\n",
            "\n",
            "Not using a high-RAM runtime\n"
          ]
        }
      ],
      "source": [
        "from psutil import virtual_memory\n",
        "ram_gb = virtual_memory().total / 1e9\n",
        "print('Your runtime has {:.1f} gigabytes of available RAM\\n'.format(ram_gb))\n",
        "\n",
        "if ram_gb < 20:\n",
        "  print('Not using a high-RAM runtime')\n",
        "else:\n",
        "  print('You are using a high-RAM runtime!')"
      ]
    },
    {
      "cell_type": "markdown",
      "metadata": {
        "id": "eGFLFkv6Bvbc"
      },
      "source": [
        "# Section 1: Install and import packages"
      ]
    },
    {
      "cell_type": "code",
      "execution_count": 3,
      "metadata": {
        "id": "nlZui85hBvbc",
        "vscode": {
          "languageId": "python"
        },
        "outputId": "7ce7b89d-3b09-4a72-a791-0706509d4290",
        "colab": {
          "base_uri": "https://localhost:8080/"
        }
      },
      "outputs": [
        {
          "output_type": "stream",
          "name": "stdout",
          "text": [
            "\u001b[2K     \u001b[90m━━━━━━━━━━━━━━━━━━━━━━━━━━━━━━━━━━━━━━\u001b[0m \u001b[32m577.3/577.3 KB\u001b[0m \u001b[31m13.0 MB/s\u001b[0m eta \u001b[36m0:00:00\u001b[0m\n",
            "\u001b[2K     \u001b[90m━━━━━━━━━━━━━━━━━━━━━━━━━━━━━━━━━━━━━━━━\u001b[0m \u001b[32m10.3/10.3 MB\u001b[0m \u001b[31m45.7 MB/s\u001b[0m eta \u001b[36m0:00:00\u001b[0m\n",
            "\u001b[2K     \u001b[90m━━━━━━━━━━━━━━━━━━━━━━━━━━━━━━━━━━━━━━━━\u001b[0m \u001b[32m3.4/3.4 MB\u001b[0m \u001b[31m89.8 MB/s\u001b[0m eta \u001b[36m0:00:00\u001b[0m\n",
            "\u001b[2K     \u001b[90m━━━━━━━━━━━━━━━━━━━━━━━━━━━━━━━━━━━━━━\u001b[0m \u001b[32m840.9/840.9 KB\u001b[0m \u001b[31m63.6 MB/s\u001b[0m eta \u001b[36m0:00:00\u001b[0m\n",
            "\u001b[2K     \u001b[90m━━━━━━━━━━━━━━━━━━━━━━━━━━━━━━━━━━━━━━━━\u001b[0m \u001b[32m60.9/60.9 MB\u001b[0m \u001b[31m13.8 MB/s\u001b[0m eta \u001b[36m0:00:00\u001b[0m\n",
            "\u001b[2K     \u001b[90m━━━━━━━━━━━━━━━━━━━━━━━━━━━━━━━━━━━━━━\u001b[0m \u001b[32m591.0/591.0 KB\u001b[0m \u001b[31m52.6 MB/s\u001b[0m eta \u001b[36m0:00:00\u001b[0m\n",
            "\u001b[2K     \u001b[90m━━━━━━━━━━━━━━━━━━━━━━━━━━━━━━━━━━━━━━\u001b[0m \u001b[32m203.8/203.8 KB\u001b[0m \u001b[31m22.2 MB/s\u001b[0m eta \u001b[36m0:00:00\u001b[0m\n",
            "\u001b[2K     \u001b[90m━━━━━━━━━━━━━━━━━━━━━━━━━━━━━━━━━━━━━━\u001b[0m \u001b[32m240.6/240.6 KB\u001b[0m \u001b[31m27.1 MB/s\u001b[0m eta \u001b[36m0:00:00\u001b[0m\n",
            "\u001b[2K     \u001b[90m━━━━━━━━━━━━━━━━━━━━━━━━━━━━━━━━━━━━━━━━\u001b[0m \u001b[32m10.9/10.9 MB\u001b[0m \u001b[31m91.8 MB/s\u001b[0m eta \u001b[36m0:00:00\u001b[0m\n",
            "\u001b[2K     \u001b[90m━━━━━━━━━━━━━━━━━━━━━━━━━━━━━━━━━━━━━━━━\u001b[0m \u001b[32m77.5/77.5 KB\u001b[0m \u001b[31m10.5 MB/s\u001b[0m eta \u001b[36m0:00:00\u001b[0m\n",
            "\u001b[2K     \u001b[90m━━━━━━━━━━━━━━━━━━━━━━━━━━━━━━━━━━━━━━\u001b[0m \u001b[32m128.6/128.6 KB\u001b[0m \u001b[31m16.7 MB/s\u001b[0m eta \u001b[36m0:00:00\u001b[0m\n",
            "\u001b[2K     \u001b[90m━━━━━━━━━━━━━━━━━━━━━━━━━━━━━━━━━━━━━━\u001b[0m \u001b[32m108.8/108.8 KB\u001b[0m \u001b[31m14.5 MB/s\u001b[0m eta \u001b[36m0:00:00\u001b[0m\n",
            "\u001b[2K     \u001b[90m━━━━━━━━━━━━━━━━━━━━━━━━━━━━━━━━━━━━━━━━\u001b[0m \u001b[32m1.3/1.3 MB\u001b[0m \u001b[31m62.6 MB/s\u001b[0m eta \u001b[36m0:00:00\u001b[0m\n",
            "\u001b[2K     \u001b[90m━━━━━━━━━━━━━━━━━━━━━━━━━━━━━━━━━━━━━━━━\u001b[0m \u001b[32m88.3/88.3 KB\u001b[0m \u001b[31m11.1 MB/s\u001b[0m eta \u001b[36m0:00:00\u001b[0m\n",
            "\u001b[?25h  Preparing metadata (setup.py) ... \u001b[?25l\u001b[?25hdone\n",
            "\u001b[2K     \u001b[90m━━━━━━━━━━━━━━━━━━━━━━━━━━━━━━━━━━━━━━\u001b[0m \u001b[32m128.0/128.0 KB\u001b[0m \u001b[31m14.5 MB/s\u001b[0m eta \u001b[36m0:00:00\u001b[0m\n",
            "\u001b[2K     \u001b[90m━━━━━━━━━━━━━━━━━━━━━━━━━━━━━━━━━━━━━━━━\u001b[0m \u001b[32m3.1/3.1 MB\u001b[0m \u001b[31m86.9 MB/s\u001b[0m eta \u001b[36m0:00:00\u001b[0m\n",
            "\u001b[2K     \u001b[90m━━━━━━━━━━━━━━━━━━━━━━━━━━━━━━━━━━━━━━━━\u001b[0m \u001b[32m25.3/25.3 MB\u001b[0m \u001b[31m48.5 MB/s\u001b[0m eta \u001b[36m0:00:00\u001b[0m\n",
            "\u001b[2K     \u001b[90m━━━━━━━━━━━━━━━━━━━━━━━━━━━━━━━━━━━━━━━\u001b[0m \u001b[32m498.1/498.1 MB\u001b[0m \u001b[31m3.4 MB/s\u001b[0m eta \u001b[36m0:00:00\u001b[0m\n",
            "\u001b[2K     \u001b[90m━━━━━━━━━━━━━━━━━━━━━━━━━━━━━━━━━━━━━━━━\u001b[0m \u001b[32m1.4/1.4 MB\u001b[0m \u001b[31m81.2 MB/s\u001b[0m eta \u001b[36m0:00:00\u001b[0m\n",
            "\u001b[2K     \u001b[90m━━━━━━━━━━━━━━━━━━━━━━━━━━━━━━━━━━━━━━━━\u001b[0m \u001b[32m1.1/1.1 MB\u001b[0m \u001b[31m69.1 MB/s\u001b[0m eta \u001b[36m0:00:00\u001b[0m\n",
            "\u001b[2K     \u001b[90m━━━━━━━━━━━━━━━━━━━━━━━━━━━━━━━━━━━━━━━━\u001b[0m \u001b[32m42.6/42.6 KB\u001b[0m \u001b[31m5.0 MB/s\u001b[0m eta \u001b[36m0:00:00\u001b[0m\n",
            "\u001b[2K     \u001b[90m━━━━━━━━━━━━━━━━━━━━━━━━━━━━━━━━━━━━━━━━\u001b[0m \u001b[32m5.8/5.8 MB\u001b[0m \u001b[31m110.1 MB/s\u001b[0m eta \u001b[36m0:00:00\u001b[0m\n",
            "\u001b[2K     \u001b[90m━━━━━━━━━━━━━━━━━━━━━━━━━━━━━━━━━━━━━━\u001b[0m \u001b[32m462.3/462.3 KB\u001b[0m \u001b[31m37.4 MB/s\u001b[0m eta \u001b[36m0:00:00\u001b[0m\n",
            "\u001b[2K     \u001b[90m━━━━━━━━━━━━━━━━━━━━━━━━━━━━━━━━━━━━━━━━\u001b[0m \u001b[32m17.3/17.3 MB\u001b[0m \u001b[31m87.7 MB/s\u001b[0m eta \u001b[36m0:00:00\u001b[0m\n",
            "\u001b[2K     \u001b[90m━━━━━━━━━━━━━━━━━━━━━━━━━━━━━━━━━━━━━━━━\u001b[0m \u001b[32m40.9/40.9 KB\u001b[0m \u001b[31m5.1 MB/s\u001b[0m eta \u001b[36m0:00:00\u001b[0m\n",
            "\u001b[2K     \u001b[90m━━━━━━━━━━━━━━━━━━━━━━━━━━━━━━━━━━━━━━\u001b[0m \u001b[32m222.3/222.3 KB\u001b[0m \u001b[31m25.2 MB/s\u001b[0m eta \u001b[36m0:00:00\u001b[0m\n",
            "\u001b[2K     \u001b[90m━━━━━━━━━━━━━━━━━━━━━━━━━━━━━━━━━━━━━━━━\u001b[0m \u001b[32m4.9/4.9 MB\u001b[0m \u001b[31m80.1 MB/s\u001b[0m eta \u001b[36m0:00:00\u001b[0m\n",
            "\u001b[?25h  Building wheel for fire (setup.py) ... \u001b[?25l\u001b[?25hdone\n",
            "\u001b[31mERROR: pip's dependency resolver does not currently take into account all the packages that are installed. This behaviour is the source of the following dependency conflicts.\n",
            "xarray 2022.12.0 requires packaging>=21.3, but you have packaging 20.9 which is incompatible.\n",
            "statsmodels 0.13.5 requires packaging>=21.3, but you have packaging 20.9 which is incompatible.\n",
            "plotnine 0.10.1 requires matplotlib>=3.5.0, but you have matplotlib 3.4.3 which is incompatible.\n",
            "mizani 0.8.1 requires matplotlib>=3.5.0, but you have matplotlib 3.4.3 which is incompatible.\u001b[0m\u001b[31m\n",
            "\u001b[0m"
          ]
        }
      ],
      "source": [
        "!pip install -q tflite-model-maker\n",
        "!pip install -q tflite-support"
      ]
    },
    {
      "cell_type": "code",
      "execution_count": 4,
      "metadata": {
        "id": "6oX41b7rBvbd",
        "vscode": {
          "languageId": "python"
        },
        "outputId": "1f1469eb-f1ca-4d62-f254-116afbf7a3b0",
        "colab": {
          "base_uri": "https://localhost:8080/",
          "height": 468
        }
      },
      "outputs": [
        {
          "output_type": "stream",
          "name": "stderr",
          "text": [
            "/usr/local/lib/python3.9/dist-packages/tensorflow_addons/utils/tfa_eol_msg.py:23: UserWarning: \n",
            "\n",
            "TensorFlow Addons (TFA) has ended development and introduction of new features.\n",
            "TFA has entered a minimal maintenance and release mode until a planned end of life in May 2024.\n",
            "Please modify downstream libraries to take dependencies from other repositories in our TensorFlow community (e.g. Keras, Keras-CV, and Keras-NLP). \n",
            "\n",
            "For more information see: https://github.com/tensorflow/addons/issues/2807 \n",
            "\n",
            "  warnings.warn(\n",
            "/usr/local/lib/python3.9/dist-packages/tensorflow_addons/utils/ensure_tf_install.py:53: UserWarning: Tensorflow Addons supports using Python ops for all Tensorflow versions above or equal to 2.10.0 and strictly below 2.13.0 (nightly versions are not supported). \n",
            " The versions of TensorFlow you are currently using is 2.8.4 and is not supported. \n",
            "Some things might work, some things might not.\n",
            "If you were to encounter a bug, do not file an issue.\n",
            "If you want to make sure you're using a tested and supported configuration, either change the TensorFlow version or the TensorFlow Addons's version. \n",
            "You can find the compatibility matrix in TensorFlow Addon's readme:\n",
            "https://github.com/tensorflow/addons\n",
            "  warnings.warn(\n"
          ]
        },
        {
          "output_type": "error",
          "ename": "RuntimeError",
          "evalue": "ignored",
          "traceback": [
            "\u001b[0;31m---------------------------------------------------------------------------\u001b[0m",
            "\u001b[0;31mRuntimeError\u001b[0m                              Traceback (most recent call last)",
            "\u001b[0;31mRuntimeError\u001b[0m: module compiled against API version 0x10 but this version of numpy is 0xf . Check the section C-API incompatibility at the Troubleshooting ImportError section at https://numpy.org/devdocs/user/troubleshooting-importerror.html#c-api-incompatibility for indications on how to solve this problem ."
          ]
        }
      ],
      "source": [
        "import numpy as np\n",
        "import os\n",
        "\n",
        "from tflite_model_maker.config import ExportFormat, QuantizationConfig\n",
        "from tflite_model_maker import model_spec\n",
        "from tflite_model_maker import object_detector\n",
        "\n",
        "from tflite_support import metadata\n",
        "\n",
        "import tensorflow as tf\n",
        "assert tf.__version__.startswith('2')\n",
        "\n",
        "tf.get_logger().setLevel('ERROR')\n",
        "from absl import logging\n",
        "logging.set_verbosity(logging.ERROR)"
      ]
    },
    {
      "cell_type": "markdown",
      "metadata": {
        "id": "xH6FF0-xBvbd"
      },
      "source": [
        "# Section 2: Prepare dataset"
      ]
    },
    {
      "cell_type": "markdown",
      "metadata": {
        "id": "5CWgcW__Bvbe"
      },
      "source": [
        "## Clone repository with data and labels"
      ]
    },
    {
      "cell_type": "code",
      "execution_count": 5,
      "metadata": {
        "id": "aoe-AuGvBvbf",
        "vscode": {
          "languageId": "python"
        }
      },
      "outputs": [],
      "source": [
        "# If you forked the repository, you can replace the link.\n",
        "repo_url = 'https://github.com/karavdin/smartPiCar'"
      ]
    },
    {
      "cell_type": "code",
      "execution_count": 6,
      "metadata": {
        "id": "Ji4fiTxoBvbg",
        "vscode": {
          "languageId": "python"
        },
        "outputId": "93ba6d33-5890-4dda-a8ff-e2fe36b07688",
        "colab": {
          "base_uri": "https://localhost:8080/"
        }
      },
      "outputs": [
        {
          "output_type": "stream",
          "name": "stdout",
          "text": [
            "/content\n",
            "Cloning into 'smartPiCar'...\n",
            "remote: Enumerating objects: 608, done.\u001b[K\n",
            "remote: Counting objects: 100% (84/84), done.\u001b[K\n",
            "remote: Compressing objects: 100% (54/54), done.\u001b[K\n",
            "remote: Total 608 (delta 57), reused 56 (delta 30), pack-reused 524\u001b[K\n",
            "Receiving objects: 100% (608/608), 123.77 MiB | 37.17 MiB/s, done.\n",
            "Resolving deltas: 100% (331/331), done.\n",
            "Updating files: 100% (239/239), done.\n",
            "/content/smartPiCar\n",
            "Pull it so that we have the latest code/data\n",
            "Already up to date.\n"
          ]
        }
      ],
      "source": [
        "import os\n",
        "import pandas as pd\n",
        "\n",
        "%cd /content\n",
        "\n",
        "repo_dir_path = os.path.abspath(os.path.join('.', os.path.basename(repo_url)))\n",
        "\n",
        "!git clone {repo_url}\n",
        "%cd {repo_dir_path}\n",
        "\n",
        "print('Pull it so that we have the latest code/data')\n",
        "!git pull"
      ]
    },
    {
      "cell_type": "code",
      "execution_count": 7,
      "metadata": {
        "id": "7-wQciusBvbh",
        "vscode": {
          "languageId": "python"
        },
        "outputId": "f7409c81-7111-42b8-db77-18041e141db9",
        "colab": {
          "base_uri": "https://localhost:8080/"
        }
      },
      "outputs": [
        {
          "output_type": "stream",
          "name": "stdout",
          "text": [
            "Successfully converted xml to csv.\n",
            "Generate `data/annotations/label_map.pbtxt`\n"
          ]
        }
      ],
      "source": [
        "#%cd {repo_dir_path}/models/object_detection\n",
        "\n",
        "# Convert train folder annotation xml files to a single csv file,\n",
        "# generate the `label_map.pbtxt` file to `data/` directory as well.\n",
        "!python code/xml_to_csv.py -i data/images/train -o data/annotations/train_labels.csv -l data/annotations"
      ]
    },
    {
      "cell_type": "code",
      "execution_count": 8,
      "metadata": {
        "id": "sb5mPmyIBvbi",
        "vscode": {
          "languageId": "python"
        },
        "outputId": "9394a16b-6484-49f2-cb21-ad69ec8075d4",
        "colab": {
          "base_uri": "https://localhost:8080/"
        }
      },
      "outputs": [
        {
          "output_type": "stream",
          "name": "stdout",
          "text": [
            "['bike', 'clock', 'Babushka', 'e-bike station', 'Sheila', 'Capitan', 'Bob', 'Phil', 'Nastya', 'Cam', 'ukulele', 'disko', 'Ukulele']\n"
          ]
        }
      ],
      "source": [
        "df_train_labels = pd.read_csv('data/annotations/train_labels.csv')\n",
        "labels = list(df_train_labels['class'].unique())\n",
        "print(labels)\n"
      ]
    },
    {
      "cell_type": "code",
      "execution_count": 9,
      "metadata": {
        "id": "LWUEH8GHBvbi",
        "vscode": {
          "languageId": "python"
        }
      },
      "outputs": [],
      "source": [
        "train_data = object_detector.DataLoader.from_pascal_voc(\n",
        "    'data/images/train',\n",
        "    'data/images/train',\n",
        "    labels\n",
        ")\n",
        "\n",
        "val_data = object_detector.DataLoader.from_pascal_voc(\n",
        "    'data/images/test',\n",
        "    'data/images/test',\n",
        "    labels\n",
        ")"
      ]
    },
    {
      "cell_type": "markdown",
      "metadata": {
        "id": "24xzPFaqDBaS"
      },
      "source": [
        "# Section 3: Select a model architecture\n",
        "\n",
        "EfficientDet-Lite[0-4] are a family of mobile/IoT-friendly object detection models derived from the [EfficientDet](https://arxiv.org/abs/1911.09070) architecture.\n",
        "\n",
        "Here is the performance of each EfficientDet-Lite models compared to each others.\n",
        "\n",
        "| Model architecture | Size(MB)* | Latency(ms)** | Average Precision*** |\n",
        "|--------------------|-----------|---------------|----------------------|\n",
        "| EfficientDet-Lite0 | 4.4       | 146           | 25.69%               |\n",
        "| EfficientDet-Lite1 | 5.8       | 259           | 30.55%               |\n",
        "| EfficientDet-Lite2 | 7.2       | 396           | 33.97%               |\n",
        "| EfficientDet-Lite3 | 11.4      | 716           | 37.70%               |\n",
        "| EfficientDet-Lite4 | 19.9      | 1886          | 41.96%               |\n",
        "\n",
        "<i> * Size of the integer quantized models. <br/>\n",
        "** Latency measured on Raspberry Pi 4 using 4 threads on CPU. <br/>\n",
        "*** Average Precision is the mAP (mean Average Precision) on the COCO 2017 validation dataset.\n",
        "</i>\n",
        "\n",
        "In this notebook, we use EfficientDet-Lite0 to train our model. You can choose other model architectures depending on whether speed or accuracy is more important to you."
      ]
    },
    {
      "cell_type": "code",
      "execution_count": 10,
      "metadata": {
        "id": "ZbdRYQ7-DNeN",
        "vscode": {
          "languageId": "python"
        }
      },
      "outputs": [],
      "source": [
        "spec = model_spec.get('efficientdet_lite4')\n",
        "output_name = 'lego_400_efficientdet_lite4_wholemodelRetune'"
      ]
    },
    {
      "cell_type": "markdown",
      "metadata": {
        "id": "7zVPgRPlDVTi"
      },
      "source": [
        "# Section 4: Train the TensorFlow model with the training data.\n",
        "\n",
        "* Set `epochs = 500`, which means it will go through the training dataset 500 times. You can look at the validation accuracy during training and stop when you see validation loss (`val_loss`) stop decreasing to avoid overfitting.\n",
        "* Set `batch_size = 5` here so you will see that it takes 18 steps to go through the 90 images in the training dataset.\n",
        "* Set `train_whole_model=True` to fine-tune the whole model instead of just training the head layer to improve accuracy. The trade-off is that it may take longer to train the model."
      ]
    },
    {
      "cell_type": "code",
      "execution_count": null,
      "metadata": {
        "id": "eqxc89PaDZ0_",
        "vscode": {
          "languageId": "python"
        },
        "outputId": "64899d4f-07f9-4e34-eab0-b815c674c256",
        "colab": {
          "base_uri": "https://localhost:8080/"
        }
      },
      "outputs": [
        {
          "output_type": "stream",
          "name": "stdout",
          "text": [
            "Epoch 1/400\n",
            "31/31 [==============================] - 116s 1s/step - det_loss: 1.8902 - cls_loss: 1.3015 - box_loss: 0.0118 - reg_l2_loss: 0.1098 - loss: 2.0000 - learning_rate: 0.0059 - gradient_norm: 1.6404 - val_det_loss: 1.5176 - val_cls_loss: 1.2069 - val_box_loss: 0.0062 - val_reg_l2_loss: 0.1098 - val_loss: 1.6274\n",
            "Epoch 2/400\n",
            "31/31 [==============================] - 35s 1s/step - det_loss: 1.5343 - cls_loss: 1.2149 - box_loss: 0.0064 - reg_l2_loss: 0.1098 - loss: 1.6441 - learning_rate: 0.0037 - gradient_norm: 2.3668 - val_det_loss: 1.4068 - val_cls_loss: 1.1798 - val_box_loss: 0.0045 - val_reg_l2_loss: 0.1098 - val_loss: 1.5166\n",
            "Epoch 3/400\n",
            "31/31 [==============================] - 36s 1s/step - det_loss: 1.3916 - cls_loss: 1.1485 - box_loss: 0.0049 - reg_l2_loss: 0.1098 - loss: 1.5013 - learning_rate: 0.0037 - gradient_norm: 2.2739 - val_det_loss: 1.2097 - val_cls_loss: 1.0714 - val_box_loss: 0.0028 - val_reg_l2_loss: 0.1098 - val_loss: 1.3195\n",
            "Epoch 4/400\n",
            "31/31 [==============================] - 35s 1s/step - det_loss: 1.2129 - cls_loss: 0.9903 - box_loss: 0.0045 - reg_l2_loss: 0.1098 - loss: 1.3227 - learning_rate: 0.0037 - gradient_norm: 2.8498 - val_det_loss: 1.0170 - val_cls_loss: 0.8746 - val_box_loss: 0.0028 - val_reg_l2_loss: 0.1098 - val_loss: 1.1268\n",
            "Epoch 5/400\n",
            "31/31 [==============================] - 47s 2s/step - det_loss: 1.0094 - cls_loss: 0.8238 - box_loss: 0.0037 - reg_l2_loss: 0.1098 - loss: 1.1192 - learning_rate: 0.0037 - gradient_norm: 2.7793 - val_det_loss: 0.8580 - val_cls_loss: 0.7235 - val_box_loss: 0.0027 - val_reg_l2_loss: 0.1098 - val_loss: 0.9678\n",
            "Epoch 6/400\n",
            "31/31 [==============================] - 35s 1s/step - det_loss: 0.9243 - cls_loss: 0.7359 - box_loss: 0.0038 - reg_l2_loss: 0.1098 - loss: 1.0341 - learning_rate: 0.0037 - gradient_norm: 3.6526 - val_det_loss: 0.7974 - val_cls_loss: 0.6538 - val_box_loss: 0.0029 - val_reg_l2_loss: 0.1098 - val_loss: 0.9072\n",
            "Epoch 7/400\n",
            "31/31 [==============================] - 36s 1s/step - det_loss: 0.7947 - cls_loss: 0.6244 - box_loss: 0.0034 - reg_l2_loss: 0.1098 - loss: 0.9045 - learning_rate: 0.0037 - gradient_norm: 3.1523 - val_det_loss: 0.7096 - val_cls_loss: 0.5774 - val_box_loss: 0.0026 - val_reg_l2_loss: 0.1098 - val_loss: 0.8194\n",
            "Epoch 8/400\n",
            "31/31 [==============================] - 36s 1s/step - det_loss: 0.6803 - cls_loss: 0.5265 - box_loss: 0.0031 - reg_l2_loss: 0.1098 - loss: 0.7901 - learning_rate: 0.0037 - gradient_norm: 2.8342 - val_det_loss: 0.6540 - val_cls_loss: 0.5257 - val_box_loss: 0.0026 - val_reg_l2_loss: 0.1098 - val_loss: 0.7638\n",
            "Epoch 9/400\n",
            "31/31 [==============================] - 36s 1s/step - det_loss: 0.6998 - cls_loss: 0.5338 - box_loss: 0.0033 - reg_l2_loss: 0.1098 - loss: 0.8096 - learning_rate: 0.0037 - gradient_norm: 3.4813 - val_det_loss: 0.6338 - val_cls_loss: 0.4914 - val_box_loss: 0.0028 - val_reg_l2_loss: 0.1098 - val_loss: 0.7436\n",
            "Epoch 10/400\n",
            "31/31 [==============================] - 42s 1s/step - det_loss: 0.5802 - cls_loss: 0.4467 - box_loss: 0.0027 - reg_l2_loss: 0.1098 - loss: 0.6900 - learning_rate: 0.0037 - gradient_norm: 2.9055 - val_det_loss: 0.5908 - val_cls_loss: 0.4645 - val_box_loss: 0.0025 - val_reg_l2_loss: 0.1098 - val_loss: 0.7007\n",
            "Epoch 11/400\n",
            "31/31 [==============================] - 36s 1s/step - det_loss: 0.5568 - cls_loss: 0.4157 - box_loss: 0.0028 - reg_l2_loss: 0.1098 - loss: 0.6666 - learning_rate: 0.0037 - gradient_norm: 3.0612 - val_det_loss: 0.5235 - val_cls_loss: 0.3980 - val_box_loss: 0.0025 - val_reg_l2_loss: 0.1098 - val_loss: 0.6333\n",
            "Epoch 12/400\n",
            "31/31 [==============================] - 37s 1s/step - det_loss: 0.5065 - cls_loss: 0.3851 - box_loss: 0.0024 - reg_l2_loss: 0.1098 - loss: 0.6163 - learning_rate: 0.0037 - gradient_norm: 3.2815 - val_det_loss: 0.4894 - val_cls_loss: 0.3671 - val_box_loss: 0.0024 - val_reg_l2_loss: 0.1099 - val_loss: 0.5992\n",
            "Epoch 13/400\n",
            "31/31 [==============================] - 38s 1s/step - det_loss: 0.5249 - cls_loss: 0.3854 - box_loss: 0.0028 - reg_l2_loss: 0.1099 - loss: 0.6347 - learning_rate: 0.0037 - gradient_norm: 3.6075 - val_det_loss: 0.4734 - val_cls_loss: 0.3396 - val_box_loss: 0.0027 - val_reg_l2_loss: 0.1099 - val_loss: 0.5833\n",
            "Epoch 14/400\n",
            "31/31 [==============================] - 35s 1s/step - det_loss: 0.4810 - cls_loss: 0.3351 - box_loss: 0.0029 - reg_l2_loss: 0.1099 - loss: 0.5909 - learning_rate: 0.0037 - gradient_norm: 3.6582 - val_det_loss: 0.4104 - val_cls_loss: 0.3092 - val_box_loss: 0.0020 - val_reg_l2_loss: 0.1099 - val_loss: 0.5202\n",
            "Epoch 15/400\n",
            "31/31 [==============================] - 41s 1s/step - det_loss: 0.4398 - cls_loss: 0.3065 - box_loss: 0.0027 - reg_l2_loss: 0.1099 - loss: 0.5497 - learning_rate: 0.0037 - gradient_norm: 3.5136 - val_det_loss: 0.4362 - val_cls_loss: 0.3027 - val_box_loss: 0.0027 - val_reg_l2_loss: 0.1099 - val_loss: 0.5461\n",
            "Epoch 16/400\n",
            "31/31 [==============================] - 36s 1s/step - det_loss: 0.3786 - cls_loss: 0.2667 - box_loss: 0.0022 - reg_l2_loss: 0.1099 - loss: 0.4885 - learning_rate: 0.0037 - gradient_norm: 2.7339 - val_det_loss: 0.4513 - val_cls_loss: 0.3265 - val_box_loss: 0.0025 - val_reg_l2_loss: 0.1099 - val_loss: 0.5612\n",
            "Epoch 17/400\n",
            "31/31 [==============================] - 38s 1s/step - det_loss: 0.4036 - cls_loss: 0.2936 - box_loss: 0.0022 - reg_l2_loss: 0.1099 - loss: 0.5135 - learning_rate: 0.0037 - gradient_norm: 3.5889 - val_det_loss: 0.5703 - val_cls_loss: 0.4124 - val_box_loss: 0.0032 - val_reg_l2_loss: 0.1099 - val_loss: 0.6802\n",
            "Epoch 18/400\n",
            "31/31 [==============================] - 38s 1s/step - det_loss: 0.3858 - cls_loss: 0.2671 - box_loss: 0.0024 - reg_l2_loss: 0.1099 - loss: 0.4957 - learning_rate: 0.0037 - gradient_norm: 3.0329 - val_det_loss: 0.4661 - val_cls_loss: 0.3243 - val_box_loss: 0.0028 - val_reg_l2_loss: 0.1099 - val_loss: 0.5760\n",
            "Epoch 19/400\n",
            "31/31 [==============================] - 36s 1s/step - det_loss: 0.3659 - cls_loss: 0.2460 - box_loss: 0.0024 - reg_l2_loss: 0.1099 - loss: 0.4758 - learning_rate: 0.0037 - gradient_norm: 3.2291 - val_det_loss: 0.4613 - val_cls_loss: 0.3457 - val_box_loss: 0.0023 - val_reg_l2_loss: 0.1099 - val_loss: 0.5712\n",
            "Epoch 20/400\n",
            "31/31 [==============================] - 40s 1s/step - det_loss: 0.3571 - cls_loss: 0.2437 - box_loss: 0.0023 - reg_l2_loss: 0.1099 - loss: 0.4670 - learning_rate: 0.0037 - gradient_norm: 2.8191 - val_det_loss: 0.4458 - val_cls_loss: 0.3059 - val_box_loss: 0.0028 - val_reg_l2_loss: 0.1099 - val_loss: 0.5557\n",
            "Epoch 21/400\n",
            "31/31 [==============================] - 36s 1s/step - det_loss: 0.3457 - cls_loss: 0.2453 - box_loss: 0.0020 - reg_l2_loss: 0.1099 - loss: 0.4556 - learning_rate: 0.0037 - gradient_norm: 2.9441 - val_det_loss: 0.4371 - val_cls_loss: 0.3228 - val_box_loss: 0.0023 - val_reg_l2_loss: 0.1099 - val_loss: 0.5471\n",
            "Epoch 22/400\n",
            "31/31 [==============================] - 37s 1s/step - det_loss: 0.4007 - cls_loss: 0.2713 - box_loss: 0.0026 - reg_l2_loss: 0.1099 - loss: 0.5106 - learning_rate: 0.0037 - gradient_norm: 3.0211 - val_det_loss: 0.4696 - val_cls_loss: 0.3489 - val_box_loss: 0.0024 - val_reg_l2_loss: 0.1099 - val_loss: 0.5795\n",
            "Epoch 23/400\n",
            "31/31 [==============================] - 36s 1s/step - det_loss: 0.3566 - cls_loss: 0.2410 - box_loss: 0.0023 - reg_l2_loss: 0.1099 - loss: 0.4665 - learning_rate: 0.0037 - gradient_norm: 2.9011 - val_det_loss: 0.4448 - val_cls_loss: 0.3562 - val_box_loss: 0.0018 - val_reg_l2_loss: 0.1099 - val_loss: 0.5547\n",
            "Epoch 24/400\n",
            "31/31 [==============================] - 35s 1s/step - det_loss: 0.3241 - cls_loss: 0.2225 - box_loss: 0.0020 - reg_l2_loss: 0.1099 - loss: 0.4340 - learning_rate: 0.0037 - gradient_norm: 2.6236 - val_det_loss: 0.3247 - val_cls_loss: 0.2319 - val_box_loss: 0.0019 - val_reg_l2_loss: 0.1099 - val_loss: 0.4346\n",
            "Epoch 25/400\n",
            "31/31 [==============================] - 43s 1s/step - det_loss: 0.3663 - cls_loss: 0.2483 - box_loss: 0.0024 - reg_l2_loss: 0.1099 - loss: 0.4763 - learning_rate: 0.0037 - gradient_norm: 3.3015 - val_det_loss: 0.4247 - val_cls_loss: 0.2943 - val_box_loss: 0.0026 - val_reg_l2_loss: 0.1099 - val_loss: 0.5346\n",
            "Epoch 26/400\n",
            "31/31 [==============================] - 36s 1s/step - det_loss: 0.3172 - cls_loss: 0.2141 - box_loss: 0.0021 - reg_l2_loss: 0.1099 - loss: 0.4271 - learning_rate: 0.0037 - gradient_norm: 2.5897 - val_det_loss: 0.4534 - val_cls_loss: 0.3291 - val_box_loss: 0.0025 - val_reg_l2_loss: 0.1099 - val_loss: 0.5633\n",
            "Epoch 27/400\n",
            "31/31 [==============================] - 36s 1s/step - det_loss: 0.3265 - cls_loss: 0.2231 - box_loss: 0.0021 - reg_l2_loss: 0.1099 - loss: 0.4364 - learning_rate: 0.0037 - gradient_norm: 2.9923 - val_det_loss: 0.3997 - val_cls_loss: 0.2998 - val_box_loss: 0.0020 - val_reg_l2_loss: 0.1099 - val_loss: 0.5096\n",
            "Epoch 28/400\n",
            "31/31 [==============================] - 36s 1s/step - det_loss: 0.3043 - cls_loss: 0.2014 - box_loss: 0.0021 - reg_l2_loss: 0.1099 - loss: 0.4143 - learning_rate: 0.0037 - gradient_norm: 2.5549 - val_det_loss: 0.4061 - val_cls_loss: 0.3042 - val_box_loss: 0.0020 - val_reg_l2_loss: 0.1099 - val_loss: 0.5160\n",
            "Epoch 29/400\n",
            "31/31 [==============================] - 38s 1s/step - det_loss: 0.3184 - cls_loss: 0.2145 - box_loss: 0.0021 - reg_l2_loss: 0.1099 - loss: 0.4283 - learning_rate: 0.0037 - gradient_norm: 2.8849 - val_det_loss: 0.3852 - val_cls_loss: 0.2836 - val_box_loss: 0.0020 - val_reg_l2_loss: 0.1099 - val_loss: 0.4951\n",
            "Epoch 30/400\n",
            "31/31 [==============================] - 42s 1s/step - det_loss: 0.2842 - cls_loss: 0.1943 - box_loss: 0.0018 - reg_l2_loss: 0.1099 - loss: 0.3942 - learning_rate: 0.0037 - gradient_norm: 2.0768 - val_det_loss: 0.3814 - val_cls_loss: 0.2751 - val_box_loss: 0.0021 - val_reg_l2_loss: 0.1099 - val_loss: 0.4914\n",
            "Epoch 31/400\n",
            "31/31 [==============================] - 35s 1s/step - det_loss: 0.3249 - cls_loss: 0.2248 - box_loss: 0.0020 - reg_l2_loss: 0.1099 - loss: 0.4348 - learning_rate: 0.0037 - gradient_norm: 3.1406 - val_det_loss: 0.3766 - val_cls_loss: 0.2679 - val_box_loss: 0.0022 - val_reg_l2_loss: 0.1099 - val_loss: 0.4866\n",
            "Epoch 32/400\n",
            "31/31 [==============================] - 37s 1s/step - det_loss: 0.3088 - cls_loss: 0.2109 - box_loss: 0.0020 - reg_l2_loss: 0.1099 - loss: 0.4187 - learning_rate: 0.0037 - gradient_norm: 2.7471 - val_det_loss: 0.3635 - val_cls_loss: 0.2208 - val_box_loss: 0.0029 - val_reg_l2_loss: 0.1099 - val_loss: 0.4735\n",
            "Epoch 33/400\n",
            "31/31 [==============================] - 36s 1s/step - det_loss: 0.3384 - cls_loss: 0.2433 - box_loss: 0.0019 - reg_l2_loss: 0.1099 - loss: 0.4483 - learning_rate: 0.0037 - gradient_norm: 3.0960 - val_det_loss: 0.3070 - val_cls_loss: 0.2152 - val_box_loss: 0.0018 - val_reg_l2_loss: 0.1099 - val_loss: 0.4169\n",
            "Epoch 34/400\n",
            "31/31 [==============================] - 36s 1s/step - det_loss: 0.3499 - cls_loss: 0.2425 - box_loss: 0.0021 - reg_l2_loss: 0.1099 - loss: 0.4598 - learning_rate: 0.0037 - gradient_norm: 2.8502 - val_det_loss: 0.4263 - val_cls_loss: 0.3299 - val_box_loss: 0.0019 - val_reg_l2_loss: 0.1099 - val_loss: 0.5362\n",
            "Epoch 35/400\n",
            "31/31 [==============================] - 40s 1s/step - det_loss: 0.2879 - cls_loss: 0.1965 - box_loss: 0.0018 - reg_l2_loss: 0.1099 - loss: 0.3978 - learning_rate: 0.0037 - gradient_norm: 2.1061 - val_det_loss: 0.4646 - val_cls_loss: 0.3473 - val_box_loss: 0.0023 - val_reg_l2_loss: 0.1099 - val_loss: 0.5745\n",
            "Epoch 36/400\n",
            "31/31 [==============================] - 36s 1s/step - det_loss: 0.3187 - cls_loss: 0.2064 - box_loss: 0.0022 - reg_l2_loss: 0.1099 - loss: 0.4286 - learning_rate: 0.0037 - gradient_norm: 2.3188 - val_det_loss: 0.4147 - val_cls_loss: 0.3078 - val_box_loss: 0.0021 - val_reg_l2_loss: 0.1099 - val_loss: 0.5246\n",
            "Epoch 37/400\n",
            "31/31 [==============================] - 36s 1s/step - det_loss: 0.3011 - cls_loss: 0.1963 - box_loss: 0.0021 - reg_l2_loss: 0.1099 - loss: 0.4110 - learning_rate: 0.0037 - gradient_norm: 2.6431 - val_det_loss: 0.4448 - val_cls_loss: 0.3222 - val_box_loss: 0.0025 - val_reg_l2_loss: 0.1099 - val_loss: 0.5547\n",
            "Epoch 38/400\n",
            "31/31 [==============================] - 35s 1s/step - det_loss: 0.2833 - cls_loss: 0.1897 - box_loss: 0.0019 - reg_l2_loss: 0.1099 - loss: 0.3933 - learning_rate: 0.0037 - gradient_norm: 2.5139 - val_det_loss: 0.4570 - val_cls_loss: 0.3223 - val_box_loss: 0.0027 - val_reg_l2_loss: 0.1099 - val_loss: 0.5669\n",
            "Epoch 39/400\n",
            "31/31 [==============================] - 36s 1s/step - det_loss: 0.2702 - cls_loss: 0.1805 - box_loss: 0.0018 - reg_l2_loss: 0.1099 - loss: 0.3801 - learning_rate: 0.0037 - gradient_norm: 2.4132 - val_det_loss: 0.4575 - val_cls_loss: 0.3111 - val_box_loss: 0.0029 - val_reg_l2_loss: 0.1099 - val_loss: 0.5674\n",
            "Epoch 40/400\n",
            "31/31 [==============================] - 40s 1s/step - det_loss: 0.3127 - cls_loss: 0.2021 - box_loss: 0.0022 - reg_l2_loss: 0.1099 - loss: 0.4226 - learning_rate: 0.0037 - gradient_norm: 3.2010 - val_det_loss: 0.4454 - val_cls_loss: 0.3595 - val_box_loss: 0.0017 - val_reg_l2_loss: 0.1099 - val_loss: 0.5553\n",
            "Epoch 41/400\n",
            "31/31 [==============================] - 36s 1s/step - det_loss: 0.2816 - cls_loss: 0.1891 - box_loss: 0.0018 - reg_l2_loss: 0.1099 - loss: 0.3915 - learning_rate: 0.0037 - gradient_norm: 2.7292 - val_det_loss: 0.3840 - val_cls_loss: 0.2656 - val_box_loss: 0.0024 - val_reg_l2_loss: 0.1099 - val_loss: 0.4939\n",
            "Epoch 42/400\n",
            "31/31 [==============================] - 36s 1s/step - det_loss: 0.2717 - cls_loss: 0.1833 - box_loss: 0.0018 - reg_l2_loss: 0.1099 - loss: 0.3817 - learning_rate: 0.0037 - gradient_norm: 2.4116 - val_det_loss: 0.4479 - val_cls_loss: 0.3302 - val_box_loss: 0.0024 - val_reg_l2_loss: 0.1099 - val_loss: 0.5578\n",
            "Epoch 43/400\n",
            "31/31 [==============================] - 36s 1s/step - det_loss: 0.2680 - cls_loss: 0.1803 - box_loss: 0.0018 - reg_l2_loss: 0.1099 - loss: 0.3780 - learning_rate: 0.0036 - gradient_norm: 2.4722 - val_det_loss: 0.4461 - val_cls_loss: 0.2996 - val_box_loss: 0.0029 - val_reg_l2_loss: 0.1099 - val_loss: 0.5560\n",
            "Epoch 44/400\n",
            "31/31 [==============================] - 36s 1s/step - det_loss: 0.2742 - cls_loss: 0.1861 - box_loss: 0.0018 - reg_l2_loss: 0.1099 - loss: 0.3841 - learning_rate: 0.0036 - gradient_norm: 2.3908 - val_det_loss: 0.4462 - val_cls_loss: 0.3087 - val_box_loss: 0.0028 - val_reg_l2_loss: 0.1099 - val_loss: 0.5562\n",
            "Epoch 45/400\n",
            "31/31 [==============================] - 40s 1s/step - det_loss: 0.2816 - cls_loss: 0.1883 - box_loss: 0.0019 - reg_l2_loss: 0.1099 - loss: 0.3915 - learning_rate: 0.0036 - gradient_norm: 2.5336 - val_det_loss: 0.4037 - val_cls_loss: 0.3138 - val_box_loss: 0.0018 - val_reg_l2_loss: 0.1099 - val_loss: 0.5136\n",
            "Epoch 46/400\n",
            "31/31 [==============================] - 37s 1s/step - det_loss: 0.2948 - cls_loss: 0.2087 - box_loss: 0.0017 - reg_l2_loss: 0.1099 - loss: 0.4047 - learning_rate: 0.0036 - gradient_norm: 2.8500 - val_det_loss: 0.4028 - val_cls_loss: 0.3108 - val_box_loss: 0.0018 - val_reg_l2_loss: 0.1099 - val_loss: 0.5127\n",
            "Epoch 47/400\n",
            "31/31 [==============================] - 35s 1s/step - det_loss: 0.2832 - cls_loss: 0.1898 - box_loss: 0.0019 - reg_l2_loss: 0.1099 - loss: 0.3931 - learning_rate: 0.0036 - gradient_norm: 2.8128 - val_det_loss: 0.4791 - val_cls_loss: 0.2926 - val_box_loss: 0.0037 - val_reg_l2_loss: 0.1099 - val_loss: 0.5890\n",
            "Epoch 48/400\n",
            "31/31 [==============================] - 37s 1s/step - det_loss: 0.2685 - cls_loss: 0.1790 - box_loss: 0.0018 - reg_l2_loss: 0.1099 - loss: 0.3784 - learning_rate: 0.0036 - gradient_norm: 2.6185 - val_det_loss: 0.2657 - val_cls_loss: 0.1734 - val_box_loss: 0.0018 - val_reg_l2_loss: 0.1099 - val_loss: 0.3756\n",
            "Epoch 49/400\n",
            "31/31 [==============================] - 39s 1s/step - det_loss: 0.2531 - cls_loss: 0.1693 - box_loss: 0.0017 - reg_l2_loss: 0.1099 - loss: 0.3631 - learning_rate: 0.0036 - gradient_norm: 2.2719 - val_det_loss: 0.3228 - val_cls_loss: 0.2005 - val_box_loss: 0.0024 - val_reg_l2_loss: 0.1099 - val_loss: 0.4327\n",
            "Epoch 50/400\n",
            "31/31 [==============================] - 46s 2s/step - det_loss: 0.2697 - cls_loss: 0.1889 - box_loss: 0.0016 - reg_l2_loss: 0.1099 - loss: 0.3796 - learning_rate: 0.0036 - gradient_norm: 2.3772 - val_det_loss: 0.4931 - val_cls_loss: 0.3678 - val_box_loss: 0.0025 - val_reg_l2_loss: 0.1099 - val_loss: 0.6030\n",
            "Epoch 51/400\n",
            "31/31 [==============================] - 34s 1s/step - det_loss: 0.2618 - cls_loss: 0.1786 - box_loss: 0.0017 - reg_l2_loss: 0.1099 - loss: 0.3717 - learning_rate: 0.0036 - gradient_norm: 2.6460 - val_det_loss: 0.3618 - val_cls_loss: 0.2698 - val_box_loss: 0.0018 - val_reg_l2_loss: 0.1099 - val_loss: 0.4717\n",
            "Epoch 52/400\n",
            "31/31 [==============================] - 37s 1s/step - det_loss: 0.2586 - cls_loss: 0.1776 - box_loss: 0.0016 - reg_l2_loss: 0.1099 - loss: 0.3685 - learning_rate: 0.0036 - gradient_norm: 2.4675 - val_det_loss: 0.5217 - val_cls_loss: 0.3863 - val_box_loss: 0.0027 - val_reg_l2_loss: 0.1099 - val_loss: 0.6316\n",
            "Epoch 53/400\n",
            "31/31 [==============================] - 36s 1s/step - det_loss: 0.2538 - cls_loss: 0.1764 - box_loss: 0.0015 - reg_l2_loss: 0.1099 - loss: 0.3637 - learning_rate: 0.0036 - gradient_norm: 2.2196 - val_det_loss: 0.4761 - val_cls_loss: 0.3598 - val_box_loss: 0.0023 - val_reg_l2_loss: 0.1099 - val_loss: 0.5860\n",
            "Epoch 54/400\n",
            "31/31 [==============================] - 36s 1s/step - det_loss: 0.2640 - cls_loss: 0.1774 - box_loss: 0.0017 - reg_l2_loss: 0.1099 - loss: 0.3739 - learning_rate: 0.0036 - gradient_norm: 2.5484 - val_det_loss: 0.5166 - val_cls_loss: 0.3905 - val_box_loss: 0.0025 - val_reg_l2_loss: 0.1099 - val_loss: 0.6265\n",
            "Epoch 55/400\n",
            "31/31 [==============================] - 41s 1s/step - det_loss: 0.2553 - cls_loss: 0.1758 - box_loss: 0.0016 - reg_l2_loss: 0.1099 - loss: 0.3652 - learning_rate: 0.0036 - gradient_norm: 2.6478 - val_det_loss: 0.4543 - val_cls_loss: 0.3440 - val_box_loss: 0.0022 - val_reg_l2_loss: 0.1099 - val_loss: 0.5642\n",
            "Epoch 56/400\n",
            "31/31 [==============================] - 36s 1s/step - det_loss: 0.2763 - cls_loss: 0.2029 - box_loss: 0.0015 - reg_l2_loss: 0.1099 - loss: 0.3862 - learning_rate: 0.0036 - gradient_norm: 2.4299 - val_det_loss: 0.5160 - val_cls_loss: 0.3813 - val_box_loss: 0.0027 - val_reg_l2_loss: 0.1099 - val_loss: 0.6259\n",
            "Epoch 57/400\n",
            "31/31 [==============================] - 36s 1s/step - det_loss: 0.2246 - cls_loss: 0.1556 - box_loss: 0.0014 - reg_l2_loss: 0.1099 - loss: 0.3345 - learning_rate: 0.0036 - gradient_norm: 2.1033 - val_det_loss: 0.5306 - val_cls_loss: 0.3827 - val_box_loss: 0.0030 - val_reg_l2_loss: 0.1099 - val_loss: 0.6405\n",
            "Epoch 58/400\n",
            "31/31 [==============================] - 36s 1s/step - det_loss: 0.2447 - cls_loss: 0.1714 - box_loss: 0.0015 - reg_l2_loss: 0.1099 - loss: 0.3546 - learning_rate: 0.0036 - gradient_norm: 2.3093 - val_det_loss: 0.4401 - val_cls_loss: 0.3299 - val_box_loss: 0.0022 - val_reg_l2_loss: 0.1099 - val_loss: 0.5500\n",
            "Epoch 59/400\n",
            "31/31 [==============================] - 37s 1s/step - det_loss: 0.2535 - cls_loss: 0.1790 - box_loss: 0.0015 - reg_l2_loss: 0.1099 - loss: 0.3634 - learning_rate: 0.0036 - gradient_norm: 2.8317 - val_det_loss: 0.4546 - val_cls_loss: 0.3572 - val_box_loss: 0.0019 - val_reg_l2_loss: 0.1099 - val_loss: 0.5644\n",
            "Epoch 60/400\n",
            "31/31 [==============================] - 40s 1s/step - det_loss: 0.2607 - cls_loss: 0.1771 - box_loss: 0.0017 - reg_l2_loss: 0.1099 - loss: 0.3706 - learning_rate: 0.0035 - gradient_norm: 2.6298 - val_det_loss: 0.4329 - val_cls_loss: 0.3127 - val_box_loss: 0.0024 - val_reg_l2_loss: 0.1099 - val_loss: 0.5428\n",
            "Epoch 61/400\n",
            "31/31 [==============================] - 36s 1s/step - det_loss: 0.2351 - cls_loss: 0.1625 - box_loss: 0.0015 - reg_l2_loss: 0.1099 - loss: 0.3449 - learning_rate: 0.0035 - gradient_norm: 2.2833 - val_det_loss: 0.4705 - val_cls_loss: 0.3309 - val_box_loss: 0.0028 - val_reg_l2_loss: 0.1099 - val_loss: 0.5804\n",
            "Epoch 62/400\n",
            "31/31 [==============================] - 37s 1s/step - det_loss: 0.2891 - cls_loss: 0.1966 - box_loss: 0.0019 - reg_l2_loss: 0.1099 - loss: 0.3990 - learning_rate: 0.0035 - gradient_norm: 2.7694 - val_det_loss: 0.3478 - val_cls_loss: 0.1997 - val_box_loss: 0.0030 - val_reg_l2_loss: 0.1099 - val_loss: 0.4577\n",
            "Epoch 63/400\n",
            "31/31 [==============================] - 35s 1s/step - det_loss: 0.2480 - cls_loss: 0.1690 - box_loss: 0.0016 - reg_l2_loss: 0.1099 - loss: 0.3579 - learning_rate: 0.0035 - gradient_norm: 2.6459 - val_det_loss: 0.5976 - val_cls_loss: 0.4187 - val_box_loss: 0.0036 - val_reg_l2_loss: 0.1099 - val_loss: 0.7075\n",
            "Epoch 64/400\n",
            "31/31 [==============================] - 35s 1s/step - det_loss: 0.2442 - cls_loss: 0.1673 - box_loss: 0.0015 - reg_l2_loss: 0.1099 - loss: 0.3541 - learning_rate: 0.0035 - gradient_norm: 2.3008 - val_det_loss: 0.4905 - val_cls_loss: 0.3861 - val_box_loss: 0.0021 - val_reg_l2_loss: 0.1099 - val_loss: 0.6004\n",
            "Epoch 65/400\n",
            "31/31 [==============================] - 40s 1s/step - det_loss: 0.2442 - cls_loss: 0.1652 - box_loss: 0.0016 - reg_l2_loss: 0.1099 - loss: 0.3541 - learning_rate: 0.0035 - gradient_norm: 2.7603 - val_det_loss: 0.5129 - val_cls_loss: 0.4107 - val_box_loss: 0.0020 - val_reg_l2_loss: 0.1099 - val_loss: 0.6228\n",
            "Epoch 66/400\n",
            "31/31 [==============================] - 36s 1s/step - det_loss: 0.2485 - cls_loss: 0.1707 - box_loss: 0.0016 - reg_l2_loss: 0.1099 - loss: 0.3584 - learning_rate: 0.0035 - gradient_norm: 2.9560 - val_det_loss: 0.4760 - val_cls_loss: 0.3554 - val_box_loss: 0.0024 - val_reg_l2_loss: 0.1099 - val_loss: 0.5858\n",
            "Epoch 67/400\n",
            "31/31 [==============================] - 36s 1s/step - det_loss: 0.2969 - cls_loss: 0.1946 - box_loss: 0.0020 - reg_l2_loss: 0.1099 - loss: 0.4068 - learning_rate: 0.0035 - gradient_norm: 2.8540 - val_det_loss: 0.4912 - val_cls_loss: 0.3579 - val_box_loss: 0.0027 - val_reg_l2_loss: 0.1099 - val_loss: 0.6011\n",
            "Epoch 68/400\n",
            "31/31 [==============================] - 35s 1s/step - det_loss: 0.2556 - cls_loss: 0.1762 - box_loss: 0.0016 - reg_l2_loss: 0.1099 - loss: 0.3655 - learning_rate: 0.0035 - gradient_norm: 2.6670 - val_det_loss: 0.4300 - val_cls_loss: 0.3157 - val_box_loss: 0.0023 - val_reg_l2_loss: 0.1099 - val_loss: 0.5399\n",
            "Epoch 69/400\n",
            "31/31 [==============================] - 36s 1s/step - det_loss: 0.2553 - cls_loss: 0.1759 - box_loss: 0.0016 - reg_l2_loss: 0.1099 - loss: 0.3652 - learning_rate: 0.0035 - gradient_norm: 2.6166 - val_det_loss: 0.4212 - val_cls_loss: 0.3207 - val_box_loss: 0.0020 - val_reg_l2_loss: 0.1099 - val_loss: 0.5311\n",
            "Epoch 70/400\n",
            "31/31 [==============================] - 40s 1s/step - det_loss: 0.2434 - cls_loss: 0.1711 - box_loss: 0.0014 - reg_l2_loss: 0.1099 - loss: 0.3533 - learning_rate: 0.0035 - gradient_norm: 2.3819 - val_det_loss: 0.5098 - val_cls_loss: 0.3697 - val_box_loss: 0.0028 - val_reg_l2_loss: 0.1099 - val_loss: 0.6197\n",
            "Epoch 71/400\n",
            "31/31 [==============================] - 35s 1s/step - det_loss: 0.2645 - cls_loss: 0.1833 - box_loss: 0.0016 - reg_l2_loss: 0.1099 - loss: 0.3743 - learning_rate: 0.0035 - gradient_norm: 3.0293 - val_det_loss: 0.4278 - val_cls_loss: 0.3098 - val_box_loss: 0.0024 - val_reg_l2_loss: 0.1099 - val_loss: 0.5377\n",
            "Epoch 72/400\n",
            "31/31 [==============================] - 36s 1s/step - det_loss: 0.2264 - cls_loss: 0.1569 - box_loss: 0.0014 - reg_l2_loss: 0.1099 - loss: 0.3362 - learning_rate: 0.0035 - gradient_norm: 2.4498 - val_det_loss: 0.4845 - val_cls_loss: 0.3676 - val_box_loss: 0.0023 - val_reg_l2_loss: 0.1099 - val_loss: 0.5944\n",
            "Epoch 73/400\n",
            "31/31 [==============================] - 38s 1s/step - det_loss: 0.2214 - cls_loss: 0.1534 - box_loss: 0.0014 - reg_l2_loss: 0.1099 - loss: 0.3313 - learning_rate: 0.0035 - gradient_norm: 2.2283 - val_det_loss: 0.4056 - val_cls_loss: 0.3120 - val_box_loss: 0.0019 - val_reg_l2_loss: 0.1099 - val_loss: 0.5155\n",
            "Epoch 74/400\n",
            "31/31 [==============================] - 35s 1s/step - det_loss: 0.2528 - cls_loss: 0.1736 - box_loss: 0.0016 - reg_l2_loss: 0.1099 - loss: 0.3627 - learning_rate: 0.0034 - gradient_norm: 2.7281 - val_det_loss: 0.3911 - val_cls_loss: 0.2793 - val_box_loss: 0.0022 - val_reg_l2_loss: 0.1099 - val_loss: 0.5010\n",
            "Epoch 75/400\n",
            "31/31 [==============================] - 40s 1s/step - det_loss: 0.2233 - cls_loss: 0.1506 - box_loss: 0.0015 - reg_l2_loss: 0.1099 - loss: 0.3331 - learning_rate: 0.0034 - gradient_norm: 2.2443 - val_det_loss: 0.4871 - val_cls_loss: 0.3863 - val_box_loss: 0.0020 - val_reg_l2_loss: 0.1099 - val_loss: 0.5970\n",
            "Epoch 76/400\n",
            "31/31 [==============================] - 36s 1s/step - det_loss: 0.2558 - cls_loss: 0.1758 - box_loss: 0.0016 - reg_l2_loss: 0.1099 - loss: 0.3657 - learning_rate: 0.0034 - gradient_norm: 2.6510 - val_det_loss: 0.4985 - val_cls_loss: 0.3911 - val_box_loss: 0.0021 - val_reg_l2_loss: 0.1099 - val_loss: 0.6083\n",
            "Epoch 77/400\n",
            "31/31 [==============================] - 35s 1s/step - det_loss: 0.2143 - cls_loss: 0.1482 - box_loss: 0.0013 - reg_l2_loss: 0.1099 - loss: 0.3242 - learning_rate: 0.0034 - gradient_norm: 2.2150 - val_det_loss: 0.4165 - val_cls_loss: 0.3292 - val_box_loss: 0.0017 - val_reg_l2_loss: 0.1099 - val_loss: 0.5263\n",
            "Epoch 78/400\n",
            "31/31 [==============================] - 35s 1s/step - det_loss: 0.2251 - cls_loss: 0.1593 - box_loss: 0.0013 - reg_l2_loss: 0.1099 - loss: 0.3349 - learning_rate: 0.0034 - gradient_norm: 2.2317 - val_det_loss: 0.4621 - val_cls_loss: 0.3404 - val_box_loss: 0.0024 - val_reg_l2_loss: 0.1099 - val_loss: 0.5719\n",
            "Epoch 79/400\n",
            "31/31 [==============================] - 35s 1s/step - det_loss: 0.2345 - cls_loss: 0.1636 - box_loss: 0.0014 - reg_l2_loss: 0.1099 - loss: 0.3444 - learning_rate: 0.0034 - gradient_norm: 2.4195 - val_det_loss: 0.3522 - val_cls_loss: 0.2456 - val_box_loss: 0.0021 - val_reg_l2_loss: 0.1099 - val_loss: 0.4621\n",
            "Epoch 80/400\n",
            "31/31 [==============================] - 40s 1s/step - det_loss: 0.2298 - cls_loss: 0.1596 - box_loss: 0.0014 - reg_l2_loss: 0.1099 - loss: 0.3396 - learning_rate: 0.0034 - gradient_norm: 2.3872 - val_det_loss: 0.3663 - val_cls_loss: 0.2374 - val_box_loss: 0.0026 - val_reg_l2_loss: 0.1099 - val_loss: 0.4762\n",
            "Epoch 81/400\n",
            "31/31 [==============================] - 35s 1s/step - det_loss: 0.2007 - cls_loss: 0.1398 - box_loss: 0.0012 - reg_l2_loss: 0.1098 - loss: 0.3105 - learning_rate: 0.0034 - gradient_norm: 1.8892 - val_det_loss: 0.3900 - val_cls_loss: 0.2545 - val_box_loss: 0.0027 - val_reg_l2_loss: 0.1098 - val_loss: 0.4998\n",
            "Epoch 82/400\n",
            "31/31 [==============================] - 39s 1s/step - det_loss: 0.2154 - cls_loss: 0.1521 - box_loss: 0.0013 - reg_l2_loss: 0.1098 - loss: 0.3252 - learning_rate: 0.0034 - gradient_norm: 2.3343 - val_det_loss: 0.3957 - val_cls_loss: 0.2727 - val_box_loss: 0.0025 - val_reg_l2_loss: 0.1098 - val_loss: 0.5056\n",
            "Epoch 83/400\n",
            "31/31 [==============================] - 35s 1s/step - det_loss: 0.2161 - cls_loss: 0.1549 - box_loss: 0.0012 - reg_l2_loss: 0.1098 - loss: 0.3259 - learning_rate: 0.0034 - gradient_norm: 2.3865 - val_det_loss: 0.4331 - val_cls_loss: 0.3096 - val_box_loss: 0.0025 - val_reg_l2_loss: 0.1098 - val_loss: 0.5429\n",
            "Epoch 84/400\n",
            "31/31 [==============================] - 35s 1s/step - det_loss: 0.2149 - cls_loss: 0.1498 - box_loss: 0.0013 - reg_l2_loss: 0.1098 - loss: 0.3247 - learning_rate: 0.0034 - gradient_norm: 2.2396 - val_det_loss: 0.4475 - val_cls_loss: 0.3492 - val_box_loss: 0.0020 - val_reg_l2_loss: 0.1098 - val_loss: 0.5573\n",
            "Epoch 85/400\n",
            "23/31 [=====================>........] - ETA: 6s - det_loss: 0.2076 - cls_loss: 0.1443 - box_loss: 0.0013 - reg_l2_loss: 0.1098 - loss: 0.3175 - learning_rate: 0.0034 - gradient_norm: 2.3753"
          ]
        }
      ],
      "source": [
        "model = object_detector.create(train_data, model_spec=spec, batch_size=3, train_whole_model=True, epochs=400, validation_data=val_data)"
      ]
    },
    {
      "cell_type": "markdown",
      "metadata": {
        "id": "L4aqS4gSDl3G"
      },
      "source": [
        "# Section 5: Evaluate the model with the validation data.\n",
        "\n",
        "After training the object detection model using the images in the training dataset, use the 10 images in the validation dataset to evaluate how the model performs against new data it has never seen before.\n",
        "\n",
        "As the default batch size is 64, it will take 1 step to go through the 10 images in the validation dataset.\n",
        "\n",
        "The evaluation metrics are same as [COCO](https://cocodataset.org/#detection-eval)."
      ]
    },
    {
      "cell_type": "code",
      "execution_count": null,
      "metadata": {
        "id": "GZSOoESdDo1u",
        "vscode": {
          "languageId": "python"
        }
      },
      "outputs": [],
      "source": [
        "model.evaluate(val_data)"
      ]
    },
    {
      "cell_type": "markdown",
      "metadata": {
        "id": "m5wljd0aDxjk"
      },
      "source": [
        "# Section 6: Export as a TensorFlow Lite model.\n",
        "\n",
        "Export the trained object detection model to the TensorFlow Lite format by specifying which folder you want to export the quantized model to. The default post-training quantization technique is [full integer quantization](https://www.tensorflow.org/lite/performance/post_training_integer_quant). This allows the TensorFlow Lite model to be smaller, run faster on Raspberry Pi CPU and also compatible with the Google Coral EdgeTPU."
      ]
    },
    {
      "cell_type": "code",
      "execution_count": null,
      "metadata": {
        "id": "MiijzHHhD8Gs",
        "vscode": {
          "languageId": "python"
        }
      },
      "outputs": [],
      "source": [
        "model.export(export_dir='.', tflite_filename=f'{output_name}.tflite')"
      ]
    },
    {
      "cell_type": "markdown",
      "metadata": {
        "id": "Eg90emK1ECMe"
      },
      "source": [
        "# Section 7:  Evaluate the TensorFlow Lite model.\n",
        "\n",
        "Several factors can affect the model accuracy when exporting to TFLite:\n",
        "* [Quantization](https://www.tensorflow.org/lite/performance/model_optimization) helps shrinking the model size by 4 times at the expense of some accuracy drop.\n",
        "* The original TensorFlow model uses per-class [non-max supression (NMS)](https://www.coursera.org/lecture/convolutional-neural-networks/non-max-suppression-dvrjH) for post-processing, while the TFLite model uses global NMS that's much faster but less accurate.\n",
        "Keras outputs maximum 100 detections while tflite outputs maximum 25 detections.\n",
        "\n",
        "Therefore you'll have to evaluate the exported TFLite model and compare its accuracy with the original TensorFlow model."
      ]
    },
    {
      "cell_type": "code",
      "execution_count": null,
      "metadata": {
        "id": "QOVxiPk_EO-w",
        "vscode": {
          "languageId": "python"
        }
      },
      "outputs": [],
      "source": [
        "model.evaluate_tflite(f'{output_name}.tflite', val_data)"
      ]
    },
    {
      "cell_type": "markdown",
      "metadata": {
        "id": "9OnXkNFuFNsr"
      },
      "source": [
        "# Section 9: Visual validation"
      ]
    },
    {
      "cell_type": "code",
      "execution_count": null,
      "metadata": {
        "id": "un6msowWFQ_H",
        "vscode": {
          "languageId": "python"
        }
      },
      "outputs": [],
      "source": [
        "#@title Load the trained TFLite model and define some visualization functions\n",
        "\n",
        "#@markdown This code comes from the TFLite Object Detection [Raspberry Pi sample](https://github.com/tensorflow/examples/tree/master/lite/examples/object_detection/raspberry_pi).\n",
        "\n",
        "import platform\n",
        "from typing import List, NamedTuple\n",
        "import json\n",
        "\n",
        "import cv2\n",
        "\n",
        "Interpreter = tf.lite.Interpreter\n",
        "load_delegate = tf.lite.experimental.load_delegate\n",
        "\n",
        "# pylint: enable=g-import-not-at-top\n",
        "\n",
        "\n",
        "class ObjectDetectorOptions(NamedTuple):\n",
        "  \"\"\"A config to initialize an object detector.\"\"\"\n",
        "\n",
        "  enable_edgetpu: bool = False\n",
        "  \"\"\"Enable the model to run on EdgeTPU.\"\"\"\n",
        "\n",
        "  label_allow_list: List[str] = None\n",
        "  \"\"\"The optional allow list of labels.\"\"\"\n",
        "\n",
        "  label_deny_list: List[str] = None\n",
        "  \"\"\"The optional deny list of labels.\"\"\"\n",
        "\n",
        "  max_results: int = -1\n",
        "  \"\"\"The maximum number of top-scored detection results to return.\"\"\"\n",
        "\n",
        "  num_threads: int = 1\n",
        "  \"\"\"The number of CPU threads to be used.\"\"\"\n",
        "\n",
        "  score_threshold: float = 0.0\n",
        "  \"\"\"The score threshold of detection results to return.\"\"\"\n",
        "\n",
        "\n",
        "class Rect(NamedTuple):\n",
        "  \"\"\"A rectangle in 2D space.\"\"\"\n",
        "  left: float\n",
        "  top: float\n",
        "  right: float\n",
        "  bottom: float\n",
        "\n",
        "\n",
        "class Category(NamedTuple):\n",
        "  \"\"\"A result of a classification task.\"\"\"\n",
        "  label: str\n",
        "  score: float\n",
        "  index: int\n",
        "\n",
        "\n",
        "class Detection(NamedTuple):\n",
        "  \"\"\"A detected object as the result of an ObjectDetector.\"\"\"\n",
        "  bounding_box: Rect\n",
        "  categories: List[Category]\n",
        "\n",
        "\n",
        "def edgetpu_lib_name():\n",
        "  \"\"\"Returns the library name of EdgeTPU in the current platform.\"\"\"\n",
        "  return {\n",
        "      'Darwin': 'libedgetpu.1.dylib',\n",
        "      'Linux': 'libedgetpu.so.1',\n",
        "      'Windows': 'edgetpu.dll',\n",
        "  }.get(platform.system(), None)\n",
        "\n",
        "\n",
        "class ObjectDetector:\n",
        "  \"\"\"A wrapper class for a TFLite object detection model.\"\"\"\n",
        "\n",
        "  _OUTPUT_LOCATION_NAME = 'location'\n",
        "  _OUTPUT_CATEGORY_NAME = 'category'\n",
        "  _OUTPUT_SCORE_NAME = 'score'\n",
        "  _OUTPUT_NUMBER_NAME = 'number of detections'\n",
        "\n",
        "  def __init__(\n",
        "      self,\n",
        "      model_path: str,\n",
        "      options: ObjectDetectorOptions = ObjectDetectorOptions()\n",
        "  ) -> None:\n",
        "    \"\"\"Initialize a TFLite object detection model.\n",
        "    Args:\n",
        "        model_path: Path to the TFLite model.\n",
        "        options: The config to initialize an object detector. (Optional)\n",
        "    Raises:\n",
        "        ValueError: If the TFLite model is invalid.\n",
        "        OSError: If the current OS isn't supported by EdgeTPU.\n",
        "    \"\"\"\n",
        "\n",
        "    # Load metadata from model.\n",
        "    displayer = metadata.MetadataDisplayer.with_model_file(model_path)\n",
        "\n",
        "    # Save model metadata for preprocessing later.\n",
        "    model_metadata = json.loads(displayer.get_metadata_json())\n",
        "    process_units = model_metadata['subgraph_metadata'][0]['input_tensor_metadata'][0]['process_units']\n",
        "    mean = 0.0\n",
        "    std = 1.0\n",
        "    for option in process_units:\n",
        "      if option['options_type'] == 'NormalizationOptions':\n",
        "        mean = option['options']['mean'][0]\n",
        "        std = option['options']['std'][0]\n",
        "    self._mean = mean\n",
        "    self._std = std\n",
        "\n",
        "    # Load label list from metadata.\n",
        "    file_name = displayer.get_packed_associated_file_list()[0]\n",
        "    label_map_file = displayer.get_associated_file_buffer(file_name).decode()\n",
        "    label_list = list(filter(lambda x: len(x) > 0, label_map_file.splitlines()))\n",
        "    self._label_list = label_list\n",
        "\n",
        "    # Initialize TFLite model.\n",
        "    if options.enable_edgetpu:\n",
        "      if edgetpu_lib_name() is None:\n",
        "        raise OSError(\"The current OS isn't supported by Coral EdgeTPU.\")\n",
        "      interpreter = Interpreter(\n",
        "          model_path=model_path,\n",
        "          experimental_delegates=[load_delegate(edgetpu_lib_name())],\n",
        "          num_threads=options.num_threads)\n",
        "    else:\n",
        "      interpreter = Interpreter(\n",
        "          model_path=model_path, num_threads=options.num_threads)\n",
        "\n",
        "    interpreter.allocate_tensors()\n",
        "    input_detail = interpreter.get_input_details()[0]\n",
        "\n",
        "    # From TensorFlow 2.6, the order of the outputs become undefined.\n",
        "    # Therefore we need to sort the tensor indices of TFLite outputs and to know\n",
        "    # exactly the meaning of each output tensor. For example, if\n",
        "    # output indices are [601, 599, 598, 600], tensor names and indices aligned\n",
        "    # are:\n",
        "    #   - location: 598\n",
        "    #   - category: 599\n",
        "    #   - score: 600\n",
        "    #   - detection_count: 601\n",
        "    # because of the op's ports of TFLITE_DETECTION_POST_PROCESS\n",
        "    # (https://github.com/tensorflow/tensorflow/blob/a4fe268ea084e7d323133ed7b986e0ae259a2bc7/tensorflow/lite/kernels/detection_postprocess.cc#L47-L50).\n",
        "    sorted_output_indices = sorted(\n",
        "        [output['index'] for output in interpreter.get_output_details()])\n",
        "    self._output_indices = {\n",
        "        self._OUTPUT_LOCATION_NAME: sorted_output_indices[0],\n",
        "        self._OUTPUT_CATEGORY_NAME: sorted_output_indices[1],\n",
        "        self._OUTPUT_SCORE_NAME: sorted_output_indices[2],\n",
        "        self._OUTPUT_NUMBER_NAME: sorted_output_indices[3],\n",
        "    }\n",
        "\n",
        "    self._input_size = input_detail['shape'][2], input_detail['shape'][1]\n",
        "    self._is_quantized_input = input_detail['dtype'] == np.uint8\n",
        "    self._interpreter = interpreter\n",
        "    self._options = options\n",
        "\n",
        "  def detect(self, input_image: np.ndarray) -> List[Detection]:\n",
        "    \"\"\"Run detection on an input image.\n",
        "    Args:\n",
        "        input_image: A [height, width, 3] RGB image. Note that height and width\n",
        "          can be anything since the image will be immediately resized according\n",
        "          to the needs of the model within this function.\n",
        "    Returns:\n",
        "        A Person instance.\n",
        "    \"\"\"\n",
        "    image_height, image_width, _ = input_image.shape\n",
        "\n",
        "    input_tensor = self._preprocess(input_image)\n",
        "\n",
        "    self._set_input_tensor(input_tensor)\n",
        "    self._interpreter.invoke()\n",
        "\n",
        "    # Get all output details\n",
        "    boxes = self._get_output_tensor(self._OUTPUT_LOCATION_NAME)\n",
        "    classes = self._get_output_tensor(self._OUTPUT_CATEGORY_NAME)\n",
        "    scores = self._get_output_tensor(self._OUTPUT_SCORE_NAME)\n",
        "    count = int(self._get_output_tensor(self._OUTPUT_NUMBER_NAME))\n",
        "\n",
        "    return self._postprocess(boxes, classes, scores, count, image_width,\n",
        "                             image_height)\n",
        "\n",
        "  def _preprocess(self, input_image: np.ndarray) -> np.ndarray:\n",
        "    \"\"\"Preprocess the input image as required by the TFLite model.\"\"\"\n",
        "\n",
        "    # Resize the input\n",
        "    input_tensor = cv2.resize(input_image, self._input_size)\n",
        "\n",
        "    # Normalize the input if it's a float model (aka. not quantized)\n",
        "    if not self._is_quantized_input:\n",
        "      input_tensor = (np.float32(input_tensor) - self._mean) / self._std\n",
        "\n",
        "    # Add batch dimension\n",
        "    input_tensor = np.expand_dims(input_tensor, axis=0)\n",
        "\n",
        "    return input_tensor\n",
        "\n",
        "  def _set_input_tensor(self, image):\n",
        "    \"\"\"Sets the input tensor.\"\"\"\n",
        "    tensor_index = self._interpreter.get_input_details()[0]['index']\n",
        "    input_tensor = self._interpreter.tensor(tensor_index)()[0]\n",
        "    input_tensor[:, :] = image\n",
        "\n",
        "  def _get_output_tensor(self, name):\n",
        "    \"\"\"Returns the output tensor at the given index.\"\"\"\n",
        "    output_index = self._output_indices[name]\n",
        "    tensor = np.squeeze(self._interpreter.get_tensor(output_index))\n",
        "    return tensor\n",
        "\n",
        "  def _postprocess(self, boxes: np.ndarray, classes: np.ndarray,\n",
        "                   scores: np.ndarray, count: int, image_width: int,\n",
        "                   image_height: int) -> List[Detection]:\n",
        "    \"\"\"Post-process the output of TFLite model into a list of Detection objects.\n",
        "    Args:\n",
        "        boxes: Bounding boxes of detected objects from the TFLite model.\n",
        "        classes: Class index of the detected objects from the TFLite model.\n",
        "        scores: Confidence scores of the detected objects from the TFLite model.\n",
        "        count: Number of detected objects from the TFLite model.\n",
        "        image_width: Width of the input image.\n",
        "        image_height: Height of the input image.\n",
        "    Returns:\n",
        "        A list of Detection objects detected by the TFLite model.\n",
        "    \"\"\"\n",
        "    results = []\n",
        "\n",
        "    # Parse the model output into a list of Detection entities.\n",
        "    for i in range(count):\n",
        "      if scores[i] >= self._options.score_threshold:\n",
        "        y_min, x_min, y_max, x_max = boxes[i]\n",
        "        bounding_box = Rect(\n",
        "            top=int(y_min * image_height),\n",
        "            left=int(x_min * image_width),\n",
        "            bottom=int(y_max * image_height),\n",
        "            right=int(x_max * image_width))\n",
        "        class_id = int(classes[i])\n",
        "        category = Category(\n",
        "            score=scores[i],\n",
        "            label=self._label_list[class_id],  # 0 is reserved for background\n",
        "            index=class_id)\n",
        "        result = Detection(bounding_box=bounding_box, categories=[category])\n",
        "        results.append(result)\n",
        "\n",
        "    # Sort detection results by score ascending\n",
        "    sorted_results = sorted(\n",
        "        results,\n",
        "        key=lambda detection: detection.categories[0].score,\n",
        "        reverse=True)\n",
        "\n",
        "    # Filter out detections in deny list\n",
        "    filtered_results = sorted_results\n",
        "    if self._options.label_deny_list is not None:\n",
        "      filtered_results = list(\n",
        "          filter(\n",
        "              lambda detection: detection.categories[0].label not in self.\n",
        "              _options.label_deny_list, filtered_results))\n",
        "\n",
        "    # Keep only detections in allow list\n",
        "    if self._options.label_allow_list is not None:\n",
        "      filtered_results = list(\n",
        "          filter(\n",
        "              lambda detection: detection.categories[0].label in self._options.\n",
        "              label_allow_list, filtered_results))\n",
        "\n",
        "    # Only return maximum of max_results detection.\n",
        "    if self._options.max_results > 0:\n",
        "      result_count = min(len(filtered_results), self._options.max_results)\n",
        "      filtered_results = filtered_results[:result_count]\n",
        "\n",
        "    return filtered_results\n",
        "\n",
        "\n",
        "_MARGIN = -15  # pixels\n",
        "_ROW_SIZE = 10  # pixels\n",
        "_FONT_SIZE = 1\n",
        "_FONT_THICKNESS = 1\n",
        "#_TEXT_COLOR = (0, 0, 255)  # blue\n",
        "_TEXT_COLOR = (255, 0, 0)  # red\n",
        "\n",
        "\n",
        "def visualize(\n",
        "    image: np.ndarray,\n",
        "    detections: List[Detection],\n",
        ") -> np.ndarray:\n",
        "  \"\"\"Draws bounding boxes on the input image and return it.\n",
        "  Args:\n",
        "    image: The input RGB image.\n",
        "    detections: The list of all \"Detection\" entities to be visualize.\n",
        "  Returns:\n",
        "    Image with bounding boxes.\n",
        "  \"\"\"\n",
        "  for detection in detections:\n",
        "    # Draw bounding_box\n",
        "    start_point = detection.bounding_box.left, detection.bounding_box.top\n",
        "    end_point = detection.bounding_box.right, detection.bounding_box.bottom\n",
        "    cv2.rectangle(image, start_point, end_point, _TEXT_COLOR, 2)\n",
        "\n",
        "    # Draw label and score\n",
        "    category = detection.categories[0]\n",
        "    class_name = category.label\n",
        "    probability = round(category.score, 2)\n",
        "    result_text = class_name + ' (' + str(probability) + ')'\n",
        "    text_location = (_MARGIN + detection.bounding_box.left,\n",
        "                     _MARGIN + _ROW_SIZE + detection.bounding_box.top)\n",
        "    cv2.putText(image, result_text, text_location, cv2.FONT_HERSHEY_PLAIN,\n",
        "                _FONT_SIZE, _TEXT_COLOR, _FONT_THICKNESS)\n",
        "\n",
        "  return image"
      ]
    },
    {
      "cell_type": "code",
      "execution_count": null,
      "metadata": {
        "id": "EJSdc2N6FqAA",
        "vscode": {
          "languageId": "python"
        }
      },
      "outputs": [],
      "source": [
        "#@title Run object detection and show the detection results\n",
        "from matplotlib import pyplot as plt\n",
        "from PIL import Image\n",
        "\n",
        "#INPUT_IMAGE_URL = \"http://download.tensorflow.org/example_images/android_figurine.jpg\" #@param {type:\"string\"}\n",
        "DETECTION_THRESHOLD = 0.7 #@param {type:\"number\"}\n",
        "TFLITE_MODEL_PATH = f'{output_name}.tflite' #@param {type:\"string\"}\n",
        "\n",
        "#TEMP_FILE = '/tmp/image.png'\n",
        "\n",
        "#!wget -q -O $TEMP_FILE $INPUT_IMAGE_URL\n",
        "\n",
        "PATH_TO_TEST_IMAGES_DIR =  os.path.join(repo_dir_path, \"data/images/test/\")\n",
        "\n",
        "# directory = os.fsencode(PATH_TO_TEST_IMAGES_DIR)\n",
        "# for input_file in os.listdir(directory):\n",
        "#   filename = os.fsdecode(input_file)\n",
        "#   #print(filename)\n",
        "#   #if filename.endswith(\".jpeg\") or filename.endswith(\".jpg\"):\n",
        "#   if filename == \"test_6.jpg\":\n",
        "#     print('Running inference for {}... '.format(filename), end='')\n",
        "\n",
        "image = Image.open(PATH_TO_TEST_IMAGES_DIR+\"test_17.jpg\").convert('RGB')\n",
        "image.thumbnail((512, 512), Image.ANTIALIAS)\n",
        "image_np = np.asarray(image)\n",
        "\n",
        "# Load the TFLite model\n",
        "options = ObjectDetectorOptions(\n",
        "    num_threads=4,\n",
        "    score_threshold=DETECTION_THRESHOLD,)\n",
        "detector = ObjectDetector(model_path=TFLITE_MODEL_PATH, options=options)\n",
        "# Run object detection estimation using the model.\n",
        "detections = detector.detect(image_np)\n",
        "\n",
        "# Draw keypoints and edges on input image\n",
        "image_np = visualize(image_np, detections)\n",
        "\n",
        "# Show the detection result\n",
        "Image.fromarray(image_np)"
      ]
    },
    {
      "cell_type": "markdown",
      "metadata": {
        "id": "NEPl01wMEXyX"
      },
      "source": [
        "# Section 10: Download the TFLite model to your local computer."
      ]
    },
    {
      "cell_type": "code",
      "execution_count": null,
      "metadata": {
        "id": "tC87EwwlET_k",
        "vscode": {
          "languageId": "python"
        }
      },
      "outputs": [],
      "source": [
        "from google.colab import files\n",
        "files.download(f'{output_name}.tflite')"
      ]
    },
    {
      "cell_type": "markdown",
      "source": [
        "# Section 11: Compile the model for EdgeTPU\n",
        "\n",
        "Finally, we'll compile the model using `edgetpu_compiler` so that the model can run on [Google Coral EdgeTPU](https://coral.ai/).\n",
        "\n",
        "We start with installing the EdgeTPU compiler on Colab."
      ],
      "metadata": {
        "id": "SUXNGOTua3aK"
      }
    },
    {
      "cell_type": "code",
      "source": [
        "!curl https://packages.cloud.google.com/apt/doc/apt-key.gpg | sudo apt-key add -\n",
        "!echo \"deb https://packages.cloud.google.com/apt coral-edgetpu-stable main\" | sudo tee /etc/apt/sources.list.d/coral-edgetpu.list\n",
        "!sudo apt-get update\n",
        "!sudo apt-get install edgetpu-compiler"
      ],
      "metadata": {
        "id": "O5xgflL-a-mt"
      },
      "execution_count": null,
      "outputs": []
    },
    {
      "cell_type": "markdown",
      "source": [
        "Note: When training the model using a custom dataset, beware that if your dataset includes more than 20 classes, you'll probably have slower inference speeds compared to if you have fewer classes. This is due to an aspect of the EfficientDet architecture in which a certain layer cannot compile for the Edge TPU when it carries more than 20 classes."
      ],
      "metadata": {
        "id": "Sm5YCKs0bF2Q"
      }
    },
    {
      "cell_type": "markdown",
      "source": [
        "Before compiling the `.tflite` file for the Edge TPU, it's important to consider whether your model will fit into the Edge TPU memory. \n",
        "\n",
        "The Edge TPU has approximately 8 MB of SRAM for [caching model paramaters](https://coral.ai/docs/edgetpu/compiler/#parameter-data-caching), so any model close to or over 8 MB will not fit onto the Edge TPU memory. That means the inference times are longer, because some model parameters must be fetched from the host system memory.\n",
        "\n",
        "One way to elimiate the extra latency is to use [model pipelining](https://coral.ai/docs/edgetpu/pipeline/), which splits the model into segments that can run on separate Edge TPUs in series. This can significantly reduce the latency for big models.\n",
        "\n",
        "The following table provides recommendations for the number of Edge TPUs to use with each EfficientDet-Lite model.\n",
        "\n",
        "| Model architecture | Minimum TPUs | Recommended TPUs\n",
        "|--------------------|-------|-------|\n",
        "| EfficientDet-Lite0 | 1     | 1     |\n",
        "| EfficientDet-Lite1 | 1     | 1     |\n",
        "| EfficientDet-Lite2 | 1     | 2     |\n",
        "| EfficientDet-Lite3 | 2     | 2     |\n",
        "| EfficientDet-Lite4 | 2     | 3     |\n",
        "\n",
        "If you need extra Edge TPUs for your model, then update `NUMBER_OF_TPUS` here:"
      ],
      "metadata": {
        "id": "Q1be4OukbMm_"
      }
    },
    {
      "cell_type": "code",
      "source": [
        "NUMBER_OF_TPUS = 1\n",
        "\n",
        "!edgetpu_compiler '{output_name}.tflite' --num_segments=$NUMBER_OF_TPUS"
      ],
      "metadata": {
        "id": "1u3gMuqmbGnf"
      },
      "execution_count": null,
      "outputs": []
    },
    {
      "cell_type": "code",
      "source": [
        "populator_dst = metadata.MetadataPopulator.with_model_file(f'{output_name}_edgetpu.tflite')\n",
        "\n",
        "with open(f'{output_name}.tflite', 'rb') as f:\n",
        "  populator_dst.load_metadata_and_associated_files(f.read())\n",
        "\n",
        "populator_dst.populate()\n",
        "updated_model_buf = populator_dst.get_model_buffer()"
      ],
      "metadata": {
        "id": "SZyW3Sg4bRjN"
      },
      "execution_count": null,
      "outputs": []
    },
    {
      "cell_type": "code",
      "source": [
        "# Download the TFLite model compiled for EdgeTPU to your local computer.\n",
        "from google.colab import files\n",
        "files.download(f'{output_name}_edgetpu.tflite')"
      ],
      "metadata": {
        "id": "htggm1CwbV8-"
      },
      "execution_count": null,
      "outputs": []
    },
    {
      "cell_type": "code",
      "source": [],
      "metadata": {
        "id": "3SYmMbwJpkLx"
      },
      "execution_count": null,
      "outputs": []
    }
  ],
  "metadata": {
    "accelerator": "GPU",
    "colab": {
      "name": "tensorflow_traffic_sign_detection.ipynb",
      "provenance": [],
      "include_colab_link": true
    },
    "gpuClass": "premium",
    "kernelspec": {
      "display_name": "Python 3",
      "name": "python3"
    }
  },
  "nbformat": 4,
  "nbformat_minor": 0
}