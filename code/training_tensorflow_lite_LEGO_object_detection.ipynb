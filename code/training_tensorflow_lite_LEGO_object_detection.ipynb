{
  "cells": [
    {
      "cell_type": "markdown",
      "metadata": {
        "id": "view-in-github",
        "colab_type": "text"
      },
      "source": [
        "<a href=\"https://colab.research.google.com/github/karavdin/smartPiCar/blob/main/code/training_tensorflow_lite_LEGO_object_detection.ipynb\" target=\"_parent\"><img src=\"https://colab.research.google.com/assets/colab-badge.svg\" alt=\"Open In Colab\"/></a>"
      ]
    },
    {
      "cell_type": "markdown",
      "metadata": {
        "id": "uQCnYPVDrsgx"
      },
      "source": [
        "# Training a model to detect LEGO objects with Raspberry Pi in Real Time\n",
        "\n",
        "This notebook is based on tutorial and Colab Notebook [\"Training a Raspberry Pi to Detect Traffic Signs and People in Real Time\"](https://github.com/dctian/DeepPiCar/blob/master/models/object_detection/code/tensorflow_traffic_sign_detection.ipynb). The original notebook was written 4 years ago and does not work. Therefore is was updated following methods used in \n",
        "[\"TensorFlow Lite Python object detection example with Raspberry Pi\"](https://github.com/tensorflow/examples/tree/master/lite/examples/object_detection/raspberry_pi) from Tensorflow-Lite team.  \n",
        "\n",
        "As the Raspberry Pi is fairly limited on CPU power and can only run object detection at 1-2 FPS (frames/sec), Google's [EdgeTPU USB Accelarator](https://coral.withgoogle.com/products/accelerator), which can detect objects at 12 FPS, will be used for the model inference."
      ]
    },
    {
      "cell_type": "markdown",
      "metadata": {
        "id": "Zk1-8_tshY7_"
      },
      "source": [
        "# Section 0: Check GPU connection"
      ]
    },
    {
      "cell_type": "code",
      "execution_count": 24,
      "metadata": {
        "colab": {
          "base_uri": "https://localhost:8080/"
        },
        "id": "cHErm8TDhdmj",
        "outputId": "c395781d-6801-4842-9d90-1fd5bd937454",
        "vscode": {
          "languageId": "python"
        }
      },
      "outputs": [
        {
          "output_type": "stream",
          "name": "stdout",
          "text": [
            "Sat Apr  8 09:15:46 2023       \n",
            "+-----------------------------------------------------------------------------+\n",
            "| NVIDIA-SMI 525.85.12    Driver Version: 525.85.12    CUDA Version: 12.0     |\n",
            "|-------------------------------+----------------------+----------------------+\n",
            "| GPU  Name        Persistence-M| Bus-Id        Disp.A | Volatile Uncorr. ECC |\n",
            "| Fan  Temp  Perf  Pwr:Usage/Cap|         Memory-Usage | GPU-Util  Compute M. |\n",
            "|                               |                      |               MIG M. |\n",
            "|===============================+======================+======================|\n",
            "|   0  NVIDIA A100-SXM...  Off  | 00000000:00:04.0 Off |                    0 |\n",
            "| N/A   33C    P0    52W / 400W |   5447MiB / 40960MiB |      0%      Default |\n",
            "|                               |                      |             Disabled |\n",
            "+-------------------------------+----------------------+----------------------+\n",
            "                                                                               \n",
            "+-----------------------------------------------------------------------------+\n",
            "| Processes:                                                                  |\n",
            "|  GPU   GI   CI        PID   Type   Process name                  GPU Memory |\n",
            "|        ID   ID                                                   Usage      |\n",
            "|=============================================================================|\n",
            "+-----------------------------------------------------------------------------+\n"
          ]
        }
      ],
      "source": [
        "gpu_info = !nvidia-smi\n",
        "gpu_info = '\\n'.join(gpu_info)\n",
        "if gpu_info.find('failed') >= 0:\n",
        "  print('Not connected to a GPU')\n",
        "else:\n",
        "  print(gpu_info)"
      ]
    },
    {
      "cell_type": "code",
      "execution_count": 25,
      "metadata": {
        "colab": {
          "base_uri": "https://localhost:8080/"
        },
        "id": "uNaf5LPHi60k",
        "outputId": "218c1b25-00ea-4c00-aa21-b8bccf37cf17",
        "vscode": {
          "languageId": "python"
        }
      },
      "outputs": [
        {
          "output_type": "stream",
          "name": "stdout",
          "text": [
            "Your runtime has 89.6 gigabytes of available RAM\n",
            "\n",
            "You are using a high-RAM runtime!\n"
          ]
        }
      ],
      "source": [
        "from psutil import virtual_memory\n",
        "ram_gb = virtual_memory().total / 1e9\n",
        "print('Your runtime has {:.1f} gigabytes of available RAM\\n'.format(ram_gb))\n",
        "\n",
        "if ram_gb < 20:\n",
        "  print('Not using a high-RAM runtime')\n",
        "else:\n",
        "  print('You are using a high-RAM runtime!')"
      ]
    },
    {
      "cell_type": "markdown",
      "metadata": {
        "id": "eGFLFkv6Bvbc"
      },
      "source": [
        "# Section 1: Install and import packages"
      ]
    },
    {
      "cell_type": "code",
      "execution_count": 26,
      "metadata": {
        "id": "nlZui85hBvbc",
        "vscode": {
          "languageId": "python"
        }
      },
      "outputs": [],
      "source": [
        "!pip install -q tflite-model-maker\n",
        "!pip install -q tflite-support"
      ]
    },
    {
      "cell_type": "code",
      "execution_count": 27,
      "metadata": {
        "id": "6oX41b7rBvbd",
        "vscode": {
          "languageId": "python"
        }
      },
      "outputs": [],
      "source": [
        "import numpy as np\n",
        "import os\n",
        "\n",
        "from tflite_model_maker.config import ExportFormat, QuantizationConfig\n",
        "from tflite_model_maker import model_spec\n",
        "from tflite_model_maker import object_detector\n",
        "\n",
        "from tflite_support import metadata\n",
        "\n",
        "import tensorflow as tf\n",
        "assert tf.__version__.startswith('2')\n",
        "\n",
        "tf.get_logger().setLevel('ERROR')\n",
        "from absl import logging\n",
        "logging.set_verbosity(logging.ERROR)"
      ]
    },
    {
      "cell_type": "markdown",
      "metadata": {
        "id": "xH6FF0-xBvbd"
      },
      "source": [
        "# Section 2: Prepare dataset"
      ]
    },
    {
      "cell_type": "markdown",
      "metadata": {
        "id": "5CWgcW__Bvbe"
      },
      "source": [
        "## Clone repository with data and labels"
      ]
    },
    {
      "cell_type": "code",
      "execution_count": 28,
      "metadata": {
        "id": "aoe-AuGvBvbf",
        "vscode": {
          "languageId": "python"
        }
      },
      "outputs": [],
      "source": [
        "# If you forked the repository, you can replace the link.\n",
        "repo_url = 'https://github.com/karavdin/smartPiCar'"
      ]
    },
    {
      "cell_type": "code",
      "execution_count": 29,
      "metadata": {
        "id": "Ji4fiTxoBvbg",
        "vscode": {
          "languageId": "python"
        },
        "outputId": "641b1974-1035-472c-f7f3-662451f6e974",
        "colab": {
          "base_uri": "https://localhost:8080/"
        }
      },
      "outputs": [
        {
          "output_type": "stream",
          "name": "stdout",
          "text": [
            "/content\n",
            "fatal: destination path 'smartPiCar' already exists and is not an empty directory.\n",
            "/content/smartPiCar\n",
            "Pull it so that we have the latest code/data\n",
            "remote: Enumerating objects: 10, done.\u001b[K\n",
            "remote: Counting objects: 100% (10/10), done.\u001b[K\n",
            "remote: Compressing objects: 100% (8/8), done.\u001b[K\n",
            "remote: Total 10 (delta 2), reused 10 (delta 2), pack-reused 0\u001b[K\n",
            "Unpacking objects: 100% (10/10), 11.19 MiB | 10.29 MiB/s, done.\n",
            "From https://github.com/karavdin/smartPiCar\n",
            "   d561320..7a3b806  main       -> origin/main\n",
            "Updating d561320..7a3b806\n",
            "Fast-forward\n",
            " ...ing_tensorflow_lite_LEGO_object_detection.ipynb | 1536 \u001b[32m++++++++++++++++++\u001b[m\u001b[31m--\u001b[m\n",
            " ...000_efficientdet_lite0_wholemodelRetune.tflite} |  Bin\n",
            " ..._500_efficientdet_lite2_wholemodelRetune.tflite |  Bin \u001b[31m0\u001b[m -> \u001b[32m7411038\u001b[m bytes\n",
            " ...icientdet_lite2_wholemodelRetune_edgetpu.tflite |  Bin \u001b[31m0\u001b[m -> \u001b[32m9916566\u001b[m bytes\n",
            " ...000_efficientdet_lite0_wholemodelRetune.tflite} |  Bin\n",
            " 5 files changed, 1412 insertions(+), 124 deletions(-)\n",
            " rename data/models/{android_1000_wholemodelRetune.tflite => lego_1000_efficientdet_lite0_wholemodelRetune.tflite} (100%)\n",
            " create mode 100644 data/models/lego_500_efficientdet_lite2_wholemodelRetune.tflite\n",
            " create mode 100644 data/models/lego_500_efficientdet_lite2_wholemodelRetune_edgetpu.tflite\n",
            " rename data/models/{android_edgetpu_1000_wholemodelRetune.tflite => lego_edgetpu_1000_efficientdet_lite0_wholemodelRetune.tflite} (100%)\n"
          ]
        }
      ],
      "source": [
        "import os\n",
        "import pandas as pd\n",
        "\n",
        "%cd /content\n",
        "\n",
        "repo_dir_path = os.path.abspath(os.path.join('.', os.path.basename(repo_url)))\n",
        "\n",
        "!git clone {repo_url}\n",
        "%cd {repo_dir_path}\n",
        "\n",
        "print('Pull it so that we have the latest code/data')\n",
        "!git pull"
      ]
    },
    {
      "cell_type": "code",
      "execution_count": 30,
      "metadata": {
        "id": "7-wQciusBvbh",
        "vscode": {
          "languageId": "python"
        },
        "outputId": "73aa206b-5d5d-44e4-b05a-67925f36fe59",
        "colab": {
          "base_uri": "https://localhost:8080/"
        }
      },
      "outputs": [
        {
          "output_type": "stream",
          "name": "stdout",
          "text": [
            "Successfully converted xml to csv.\n",
            "Generate `data/annotations/label_map.pbtxt`\n"
          ]
        }
      ],
      "source": [
        "#%cd {repo_dir_path}/models/object_detection\n",
        "\n",
        "# Convert train folder annotation xml files to a single csv file,\n",
        "# generate the `label_map.pbtxt` file to `data/` directory as well.\n",
        "!python code/xml_to_csv.py -i data/images/train -o data/annotations/train_labels.csv -l data/annotations"
      ]
    },
    {
      "cell_type": "code",
      "execution_count": 31,
      "metadata": {
        "id": "sb5mPmyIBvbi",
        "vscode": {
          "languageId": "python"
        },
        "outputId": "c5868a42-2057-4342-af9a-6075b849050c",
        "colab": {
          "base_uri": "https://localhost:8080/"
        }
      },
      "outputs": [
        {
          "output_type": "stream",
          "name": "stdout",
          "text": [
            "['bike', 'clock', 'Babushka', 'e-bike station', 'Sheila', 'Capitan', 'Bob', 'Phil', 'Nastya', 'Cam', 'ukulele', 'disko', 'Ukulele']\n"
          ]
        }
      ],
      "source": [
        "df_train_labels = pd.read_csv('data/annotations/train_labels.csv')\n",
        "labels = list(df_train_labels['class'].unique())\n",
        "print(labels)\n"
      ]
    },
    {
      "cell_type": "code",
      "execution_count": 32,
      "metadata": {
        "id": "LWUEH8GHBvbi",
        "vscode": {
          "languageId": "python"
        }
      },
      "outputs": [],
      "source": [
        "train_data = object_detector.DataLoader.from_pascal_voc(\n",
        "    'data/images/train',\n",
        "    'data/images/train',\n",
        "    labels\n",
        ")\n",
        "\n",
        "val_data = object_detector.DataLoader.from_pascal_voc(\n",
        "    'data/images/test',\n",
        "    'data/images/test',\n",
        "    labels\n",
        ")"
      ]
    },
    {
      "cell_type": "markdown",
      "metadata": {
        "id": "24xzPFaqDBaS"
      },
      "source": [
        "# Section 3: Select a model architecture\n",
        "\n",
        "EfficientDet-Lite[0-4] are a family of mobile/IoT-friendly object detection models derived from the [EfficientDet](https://arxiv.org/abs/1911.09070) architecture.\n",
        "\n",
        "Here is the performance of each EfficientDet-Lite models compared to each others.\n",
        "\n",
        "| Model architecture | Size(MB)* | Latency(ms)** | Average Precision*** |\n",
        "|--------------------|-----------|---------------|----------------------|\n",
        "| EfficientDet-Lite0 | 4.4       | 146           | 25.69%               |\n",
        "| EfficientDet-Lite1 | 5.8       | 259           | 30.55%               |\n",
        "| EfficientDet-Lite2 | 7.2       | 396           | 33.97%               |\n",
        "| EfficientDet-Lite3 | 11.4      | 716           | 37.70%               |\n",
        "| EfficientDet-Lite4 | 19.9      | 1886          | 41.96%               |\n",
        "\n",
        "<i> * Size of the integer quantized models. <br/>\n",
        "** Latency measured on Raspberry Pi 4 using 4 threads on CPU. <br/>\n",
        "*** Average Precision is the mAP (mean Average Precision) on the COCO 2017 validation dataset.\n",
        "</i>\n",
        "\n",
        "In this notebook, we use EfficientDet-Lite0 to train our model. You can choose other model architectures depending on whether speed or accuracy is more important to you."
      ]
    },
    {
      "cell_type": "code",
      "execution_count": 33,
      "metadata": {
        "id": "ZbdRYQ7-DNeN",
        "vscode": {
          "languageId": "python"
        }
      },
      "outputs": [],
      "source": [
        "spec = model_spec.get('efficientdet_lite4')\n",
        "output_name = 'lego_500_efficientdet_lite4_wholemodelRetune'"
      ]
    },
    {
      "cell_type": "markdown",
      "metadata": {
        "id": "7zVPgRPlDVTi"
      },
      "source": [
        "# Section 4: Train the TensorFlow model with the training data.\n",
        "\n",
        "* Set `epochs = 500`, which means it will go through the training dataset 500 times. You can look at the validation accuracy during training and stop when you see validation loss (`val_loss`) stop decreasing to avoid overfitting.\n",
        "* Set `batch_size = 5` here so you will see that it takes 18 steps to go through the 90 images in the training dataset.\n",
        "* Set `train_whole_model=True` to fine-tune the whole model instead of just training the head layer to improve accuracy. The trade-off is that it may take longer to train the model."
      ]
    },
    {
      "cell_type": "code",
      "execution_count": 34,
      "metadata": {
        "id": "eqxc89PaDZ0_",
        "vscode": {
          "languageId": "python"
        },
        "outputId": "0c9533fa-5539-4abe-abf7-f35bf52eaccb",
        "colab": {
          "base_uri": "https://localhost:8080/",
          "height": 1000
        }
      },
      "outputs": [
        {
          "output_type": "stream",
          "name": "stdout",
          "text": [
            "Epoch 1/500\n",
            "18/18 [==============================] - 80s 1s/step - det_loss: 1.8756 - cls_loss: 1.2891 - box_loss: 0.0117 - reg_l2_loss: 0.1097 - loss: 1.9853 - learning_rate: 0.0071 - gradient_norm: 1.0181 - val_det_loss: 1.6131 - val_cls_loss: 1.1633 - val_box_loss: 0.0090 - val_reg_l2_loss: 0.1097 - val_loss: 1.7228\n",
            "Epoch 2/500\n",
            "18/18 [==============================] - 18s 997ms/step - det_loss: 1.6710 - cls_loss: 1.2219 - box_loss: 0.0090 - reg_l2_loss: 0.1097 - loss: 1.7807 - learning_rate: 0.0062 - gradient_norm: 1.2295 - val_det_loss: 1.4372 - val_cls_loss: 1.1134 - val_box_loss: 0.0065 - val_reg_l2_loss: 0.1097 - val_loss: 1.5469\n",
            "Epoch 3/500\n",
            "18/18 [==============================] - 18s 998ms/step - det_loss: 1.3997 - cls_loss: 1.1091 - box_loss: 0.0058 - reg_l2_loss: 0.1097 - loss: 1.5094 - learning_rate: 0.0062 - gradient_norm: 1.6875 - val_det_loss: 1.1995 - val_cls_loss: 0.9512 - val_box_loss: 0.0050 - val_reg_l2_loss: 0.1097 - val_loss: 1.3092\n",
            "Epoch 4/500\n",
            "18/18 [==============================] - 18s 991ms/step - det_loss: 1.2849 - cls_loss: 1.0207 - box_loss: 0.0053 - reg_l2_loss: 0.1098 - loss: 1.3946 - learning_rate: 0.0062 - gradient_norm: 2.0371 - val_det_loss: 1.0785 - val_cls_loss: 0.8486 - val_box_loss: 0.0046 - val_reg_l2_loss: 0.1098 - val_loss: 1.1883\n",
            "Epoch 5/500\n",
            "18/18 [==============================] - 25s 1s/step - det_loss: 1.0188 - cls_loss: 0.8084 - box_loss: 0.0042 - reg_l2_loss: 0.1098 - loss: 1.1286 - learning_rate: 0.0062 - gradient_norm: 2.1772 - val_det_loss: 0.8909 - val_cls_loss: 0.6852 - val_box_loss: 0.0041 - val_reg_l2_loss: 0.1098 - val_loss: 1.0007\n",
            "Epoch 6/500\n",
            "18/18 [==============================] - 17s 972ms/step - det_loss: 0.9045 - cls_loss: 0.7137 - box_loss: 0.0038 - reg_l2_loss: 0.1098 - loss: 1.0142 - learning_rate: 0.0062 - gradient_norm: 1.8660 - val_det_loss: 0.8011 - val_cls_loss: 0.6212 - val_box_loss: 0.0036 - val_reg_l2_loss: 0.1098 - val_loss: 0.9109\n",
            "Epoch 7/500\n",
            "18/18 [==============================] - 19s 1s/step - det_loss: 0.8574 - cls_loss: 0.6807 - box_loss: 0.0035 - reg_l2_loss: 0.1098 - loss: 0.9672 - learning_rate: 0.0062 - gradient_norm: 2.1394 - val_det_loss: 0.7264 - val_cls_loss: 0.5658 - val_box_loss: 0.0032 - val_reg_l2_loss: 0.1098 - val_loss: 0.8362\n",
            "Epoch 8/500\n",
            "18/18 [==============================] - 18s 990ms/step - det_loss: 0.7763 - cls_loss: 0.6197 - box_loss: 0.0031 - reg_l2_loss: 0.1098 - loss: 0.8861 - learning_rate: 0.0062 - gradient_norm: 2.3251 - val_det_loss: 0.6994 - val_cls_loss: 0.5330 - val_box_loss: 0.0033 - val_reg_l2_loss: 0.1098 - val_loss: 0.8092\n",
            "Epoch 9/500\n",
            "18/18 [==============================] - 18s 1s/step - det_loss: 0.7207 - cls_loss: 0.5666 - box_loss: 0.0031 - reg_l2_loss: 0.1098 - loss: 0.8305 - learning_rate: 0.0062 - gradient_norm: 2.0710 - val_det_loss: 0.6917 - val_cls_loss: 0.5031 - val_box_loss: 0.0038 - val_reg_l2_loss: 0.1098 - val_loss: 0.8014\n",
            "Epoch 10/500\n",
            "18/18 [==============================] - 20s 1s/step - det_loss: 0.6713 - cls_loss: 0.5205 - box_loss: 0.0030 - reg_l2_loss: 0.1098 - loss: 0.7810 - learning_rate: 0.0062 - gradient_norm: 2.3102 - val_det_loss: 0.6175 - val_cls_loss: 0.4732 - val_box_loss: 0.0029 - val_reg_l2_loss: 0.1098 - val_loss: 0.7273\n",
            "Epoch 11/500\n",
            "18/18 [==============================] - 17s 987ms/step - det_loss: 0.6413 - cls_loss: 0.4857 - box_loss: 0.0031 - reg_l2_loss: 0.1098 - loss: 0.7511 - learning_rate: 0.0062 - gradient_norm: 2.0839 - val_det_loss: 0.5607 - val_cls_loss: 0.4211 - val_box_loss: 0.0028 - val_reg_l2_loss: 0.1098 - val_loss: 0.6705\n",
            "Epoch 12/500\n",
            "18/18 [==============================] - 19s 1s/step - det_loss: 0.5509 - cls_loss: 0.4192 - box_loss: 0.0026 - reg_l2_loss: 0.1098 - loss: 0.6607 - learning_rate: 0.0062 - gradient_norm: 2.2619 - val_det_loss: 0.5478 - val_cls_loss: 0.3935 - val_box_loss: 0.0031 - val_reg_l2_loss: 0.1098 - val_loss: 0.6576\n",
            "Epoch 13/500\n",
            "18/18 [==============================] - 18s 986ms/step - det_loss: 0.5311 - cls_loss: 0.3934 - box_loss: 0.0028 - reg_l2_loss: 0.1098 - loss: 0.6409 - learning_rate: 0.0062 - gradient_norm: 2.3938 - val_det_loss: 0.5074 - val_cls_loss: 0.3669 - val_box_loss: 0.0028 - val_reg_l2_loss: 0.1098 - val_loss: 0.6172\n",
            "Epoch 14/500\n",
            "18/18 [==============================] - 18s 986ms/step - det_loss: 0.5082 - cls_loss: 0.3798 - box_loss: 0.0026 - reg_l2_loss: 0.1098 - loss: 0.6180 - learning_rate: 0.0062 - gradient_norm: 2.7240 - val_det_loss: 0.5260 - val_cls_loss: 0.3901 - val_box_loss: 0.0027 - val_reg_l2_loss: 0.1098 - val_loss: 0.6359\n",
            "Epoch 15/500\n",
            "18/18 [==============================] - 19s 1s/step - det_loss: 0.4542 - cls_loss: 0.3333 - box_loss: 0.0024 - reg_l2_loss: 0.1098 - loss: 0.5640 - learning_rate: 0.0062 - gradient_norm: 2.5471 - val_det_loss: 0.4418 - val_cls_loss: 0.3207 - val_box_loss: 0.0024 - val_reg_l2_loss: 0.1098 - val_loss: 0.5517\n",
            "Epoch 16/500\n",
            "18/18 [==============================] - 18s 989ms/step - det_loss: 0.4351 - cls_loss: 0.3132 - box_loss: 0.0024 - reg_l2_loss: 0.1098 - loss: 0.5450 - learning_rate: 0.0062 - gradient_norm: 2.3088 - val_det_loss: 0.4186 - val_cls_loss: 0.2866 - val_box_loss: 0.0026 - val_reg_l2_loss: 0.1098 - val_loss: 0.5285\n",
            "Epoch 17/500\n",
            "18/18 [==============================] - 17s 981ms/step - det_loss: 0.4065 - cls_loss: 0.2892 - box_loss: 0.0023 - reg_l2_loss: 0.1098 - loss: 0.5163 - learning_rate: 0.0062 - gradient_norm: 2.2910 - val_det_loss: 0.3786 - val_cls_loss: 0.2549 - val_box_loss: 0.0025 - val_reg_l2_loss: 0.1098 - val_loss: 0.4884\n",
            "Epoch 18/500\n",
            "18/18 [==============================] - 19s 1s/step - det_loss: 0.3735 - cls_loss: 0.2649 - box_loss: 0.0022 - reg_l2_loss: 0.1098 - loss: 0.4834 - learning_rate: 0.0062 - gradient_norm: 2.1579 - val_det_loss: 0.3786 - val_cls_loss: 0.2534 - val_box_loss: 0.0025 - val_reg_l2_loss: 0.1098 - val_loss: 0.4885\n",
            "Epoch 19/500\n",
            "18/18 [==============================] - 18s 992ms/step - det_loss: 0.3673 - cls_loss: 0.2577 - box_loss: 0.0022 - reg_l2_loss: 0.1098 - loss: 0.4772 - learning_rate: 0.0062 - gradient_norm: 2.2703 - val_det_loss: 0.3471 - val_cls_loss: 0.2289 - val_box_loss: 0.0024 - val_reg_l2_loss: 0.1098 - val_loss: 0.4569\n",
            "Epoch 20/500\n",
            "18/18 [==============================] - 19s 1s/step - det_loss: 0.3485 - cls_loss: 0.2491 - box_loss: 0.0020 - reg_l2_loss: 0.1098 - loss: 0.4584 - learning_rate: 0.0062 - gradient_norm: 2.5387 - val_det_loss: 0.3695 - val_cls_loss: 0.2465 - val_box_loss: 0.0025 - val_reg_l2_loss: 0.1098 - val_loss: 0.4794\n",
            "Epoch 21/500\n",
            "18/18 [==============================] - 17s 982ms/step - det_loss: 0.3429 - cls_loss: 0.2407 - box_loss: 0.0020 - reg_l2_loss: 0.1098 - loss: 0.4527 - learning_rate: 0.0062 - gradient_norm: 2.1043 - val_det_loss: 0.3657 - val_cls_loss: 0.2434 - val_box_loss: 0.0024 - val_reg_l2_loss: 0.1098 - val_loss: 0.4755\n",
            "Epoch 22/500\n",
            "18/18 [==============================] - 18s 992ms/step - det_loss: 0.3923 - cls_loss: 0.2694 - box_loss: 0.0025 - reg_l2_loss: 0.1098 - loss: 0.5021 - learning_rate: 0.0062 - gradient_norm: 2.9546 - val_det_loss: 0.3697 - val_cls_loss: 0.2573 - val_box_loss: 0.0022 - val_reg_l2_loss: 0.1098 - val_loss: 0.4796\n",
            "Epoch 23/500\n",
            "18/18 [==============================] - 19s 1s/step - det_loss: 0.3653 - cls_loss: 0.2509 - box_loss: 0.0023 - reg_l2_loss: 0.1099 - loss: 0.4751 - learning_rate: 0.0062 - gradient_norm: 2.2662 - val_det_loss: 0.3468 - val_cls_loss: 0.2156 - val_box_loss: 0.0026 - val_reg_l2_loss: 0.1099 - val_loss: 0.4566\n",
            "Epoch 24/500\n",
            "18/18 [==============================] - 18s 994ms/step - det_loss: 0.3298 - cls_loss: 0.2277 - box_loss: 0.0020 - reg_l2_loss: 0.1099 - loss: 0.4397 - learning_rate: 0.0062 - gradient_norm: 2.1399 - val_det_loss: 0.3506 - val_cls_loss: 0.2283 - val_box_loss: 0.0024 - val_reg_l2_loss: 0.1099 - val_loss: 0.4605\n",
            "Epoch 25/500\n",
            "18/18 [==============================] - 19s 1s/step - det_loss: 0.3263 - cls_loss: 0.2299 - box_loss: 0.0019 - reg_l2_loss: 0.1099 - loss: 0.4361 - learning_rate: 0.0062 - gradient_norm: 2.5424 - val_det_loss: 0.3621 - val_cls_loss: 0.2302 - val_box_loss: 0.0026 - val_reg_l2_loss: 0.1099 - val_loss: 0.4720\n",
            "Epoch 26/500\n",
            "18/18 [==============================] - 17s 975ms/step - det_loss: 0.3513 - cls_loss: 0.2390 - box_loss: 0.0022 - reg_l2_loss: 0.1099 - loss: 0.4612 - learning_rate: 0.0062 - gradient_norm: 2.6289 - val_det_loss: 0.3093 - val_cls_loss: 0.1999 - val_box_loss: 0.0022 - val_reg_l2_loss: 0.1099 - val_loss: 0.4192\n",
            "Epoch 27/500\n",
            "18/18 [==============================] - 18s 997ms/step - det_loss: 0.3407 - cls_loss: 0.2374 - box_loss: 0.0021 - reg_l2_loss: 0.1099 - loss: 0.4505 - learning_rate: 0.0062 - gradient_norm: 3.5017 - val_det_loss: 0.3402 - val_cls_loss: 0.2272 - val_box_loss: 0.0023 - val_reg_l2_loss: 0.1099 - val_loss: 0.4500\n",
            "Epoch 28/500\n",
            "18/18 [==============================] - 19s 1s/step - det_loss: 0.3269 - cls_loss: 0.2229 - box_loss: 0.0021 - reg_l2_loss: 0.1099 - loss: 0.4367 - learning_rate: 0.0062 - gradient_norm: 2.6901 - val_det_loss: 0.3320 - val_cls_loss: 0.2180 - val_box_loss: 0.0023 - val_reg_l2_loss: 0.1099 - val_loss: 0.4419\n",
            "Epoch 29/500\n",
            "18/18 [==============================] - 18s 991ms/step - det_loss: 0.3116 - cls_loss: 0.2134 - box_loss: 0.0020 - reg_l2_loss: 0.1099 - loss: 0.4215 - learning_rate: 0.0062 - gradient_norm: 2.0081 - val_det_loss: 0.3340 - val_cls_loss: 0.2098 - val_box_loss: 0.0025 - val_reg_l2_loss: 0.1099 - val_loss: 0.4439\n",
            "Epoch 30/500\n",
            "18/18 [==============================] - 19s 1s/step - det_loss: 0.3310 - cls_loss: 0.2246 - box_loss: 0.0021 - reg_l2_loss: 0.1099 - loss: 0.4409 - learning_rate: 0.0062 - gradient_norm: 2.3741 - val_det_loss: 0.3156 - val_cls_loss: 0.2099 - val_box_loss: 0.0021 - val_reg_l2_loss: 0.1099 - val_loss: 0.4255\n",
            "Epoch 31/500\n",
            "18/18 [==============================] - 17s 975ms/step - det_loss: 0.3150 - cls_loss: 0.2185 - box_loss: 0.0019 - reg_l2_loss: 0.1099 - loss: 0.4249 - learning_rate: 0.0062 - gradient_norm: 2.1148 - val_det_loss: 0.3185 - val_cls_loss: 0.2106 - val_box_loss: 0.0022 - val_reg_l2_loss: 0.1099 - val_loss: 0.4284\n",
            "Epoch 32/500\n",
            "18/18 [==============================] - 18s 987ms/step - det_loss: 0.2939 - cls_loss: 0.2004 - box_loss: 0.0019 - reg_l2_loss: 0.1099 - loss: 0.4038 - learning_rate: 0.0062 - gradient_norm: 1.9635 - val_det_loss: 0.3282 - val_cls_loss: 0.2109 - val_box_loss: 0.0023 - val_reg_l2_loss: 0.1099 - val_loss: 0.4380\n",
            "Epoch 33/500\n",
            "18/18 [==============================] - 18s 999ms/step - det_loss: 0.3038 - cls_loss: 0.2078 - box_loss: 0.0019 - reg_l2_loss: 0.1099 - loss: 0.4137 - learning_rate: 0.0062 - gradient_norm: 2.1437 - val_det_loss: 0.3542 - val_cls_loss: 0.2177 - val_box_loss: 0.0027 - val_reg_l2_loss: 0.1099 - val_loss: 0.4641\n",
            "Epoch 34/500\n",
            "18/18 [==============================] - 19s 1s/step - det_loss: 0.2911 - cls_loss: 0.1933 - box_loss: 0.0020 - reg_l2_loss: 0.1099 - loss: 0.4010 - learning_rate: 0.0062 - gradient_norm: 1.9307 - val_det_loss: 0.3326 - val_cls_loss: 0.2023 - val_box_loss: 0.0026 - val_reg_l2_loss: 0.1099 - val_loss: 0.4424\n",
            "Epoch 35/500\n",
            "18/18 [==============================] - 19s 1s/step - det_loss: 0.2969 - cls_loss: 0.2005 - box_loss: 0.0019 - reg_l2_loss: 0.1099 - loss: 0.4067 - learning_rate: 0.0062 - gradient_norm: 2.3508 - val_det_loss: 0.3438 - val_cls_loss: 0.2166 - val_box_loss: 0.0025 - val_reg_l2_loss: 0.1099 - val_loss: 0.4536\n",
            "Epoch 36/500\n",
            "18/18 [==============================] - 17s 978ms/step - det_loss: 0.2904 - cls_loss: 0.1991 - box_loss: 0.0018 - reg_l2_loss: 0.1099 - loss: 0.4003 - learning_rate: 0.0062 - gradient_norm: 1.9110 - val_det_loss: 0.3008 - val_cls_loss: 0.1939 - val_box_loss: 0.0021 - val_reg_l2_loss: 0.1099 - val_loss: 0.4106\n",
            "Epoch 37/500\n",
            "18/18 [==============================] - 18s 1s/step - det_loss: 0.2871 - cls_loss: 0.1930 - box_loss: 0.0019 - reg_l2_loss: 0.1099 - loss: 0.3969 - learning_rate: 0.0062 - gradient_norm: 1.9908 - val_det_loss: 0.3019 - val_cls_loss: 0.1924 - val_box_loss: 0.0022 - val_reg_l2_loss: 0.1099 - val_loss: 0.4117\n",
            "Epoch 38/500\n",
            "18/18 [==============================] - 17s 973ms/step - det_loss: 0.2845 - cls_loss: 0.1912 - box_loss: 0.0019 - reg_l2_loss: 0.1099 - loss: 0.3943 - learning_rate: 0.0062 - gradient_norm: 2.0371 - val_det_loss: 0.3147 - val_cls_loss: 0.1982 - val_box_loss: 0.0023 - val_reg_l2_loss: 0.1099 - val_loss: 0.4246\n",
            "Epoch 39/500\n",
            "18/18 [==============================] - 19s 1s/step - det_loss: 0.2946 - cls_loss: 0.1972 - box_loss: 0.0019 - reg_l2_loss: 0.1099 - loss: 0.4045 - learning_rate: 0.0062 - gradient_norm: 2.3366 - val_det_loss: 0.3091 - val_cls_loss: 0.1915 - val_box_loss: 0.0024 - val_reg_l2_loss: 0.1099 - val_loss: 0.4190\n",
            "Epoch 40/500\n",
            "18/18 [==============================] - 19s 1s/step - det_loss: 0.2840 - cls_loss: 0.1924 - box_loss: 0.0018 - reg_l2_loss: 0.1099 - loss: 0.3939 - learning_rate: 0.0062 - gradient_norm: 2.2498 - val_det_loss: 0.3021 - val_cls_loss: 0.1854 - val_box_loss: 0.0023 - val_reg_l2_loss: 0.1099 - val_loss: 0.4120\n",
            "Epoch 41/500\n",
            "18/18 [==============================] - 17s 980ms/step - det_loss: 0.4178 - cls_loss: 0.3239 - box_loss: 0.0019 - reg_l2_loss: 0.1099 - loss: 0.5277 - learning_rate: 0.0061 - gradient_norm: 2.2963 - val_det_loss: 0.3225 - val_cls_loss: 0.2114 - val_box_loss: 0.0022 - val_reg_l2_loss: 0.1099 - val_loss: 0.4324\n",
            "Epoch 42/500\n",
            "18/18 [==============================] - 18s 1s/step - det_loss: 0.2811 - cls_loss: 0.2023 - box_loss: 0.0016 - reg_l2_loss: 0.1099 - loss: 0.3909 - learning_rate: 0.0061 - gradient_norm: 1.9830 - val_det_loss: 0.3178 - val_cls_loss: 0.2064 - val_box_loss: 0.0022 - val_reg_l2_loss: 0.1099 - val_loss: 0.4277\n",
            "Epoch 43/500\n",
            "18/18 [==============================] - 18s 992ms/step - det_loss: 0.2916 - cls_loss: 0.2041 - box_loss: 0.0017 - reg_l2_loss: 0.1099 - loss: 0.4014 - learning_rate: 0.0061 - gradient_norm: 2.1072 - val_det_loss: 0.3156 - val_cls_loss: 0.1959 - val_box_loss: 0.0024 - val_reg_l2_loss: 0.1099 - val_loss: 0.4255\n",
            "Epoch 44/500\n",
            "18/18 [==============================] - 17s 972ms/step - det_loss: 0.2772 - cls_loss: 0.1894 - box_loss: 0.0018 - reg_l2_loss: 0.1099 - loss: 0.3870 - learning_rate: 0.0061 - gradient_norm: 1.9301 - val_det_loss: 0.2834 - val_cls_loss: 0.1778 - val_box_loss: 0.0021 - val_reg_l2_loss: 0.1099 - val_loss: 0.3933\n",
            "Epoch 45/500\n",
            "18/18 [==============================] - 20s 1s/step - det_loss: 0.2714 - cls_loss: 0.1788 - box_loss: 0.0019 - reg_l2_loss: 0.1099 - loss: 0.3813 - learning_rate: 0.0061 - gradient_norm: 2.0518 - val_det_loss: 0.2961 - val_cls_loss: 0.1935 - val_box_loss: 0.0021 - val_reg_l2_loss: 0.1099 - val_loss: 0.4060\n",
            "Epoch 46/500\n",
            "18/18 [==============================] - 17s 979ms/step - det_loss: 0.2503 - cls_loss: 0.1750 - box_loss: 0.0015 - reg_l2_loss: 0.1099 - loss: 0.3602 - learning_rate: 0.0061 - gradient_norm: 1.6713 - val_det_loss: 0.2788 - val_cls_loss: 0.1753 - val_box_loss: 0.0021 - val_reg_l2_loss: 0.1099 - val_loss: 0.3886\n",
            "Epoch 47/500\n",
            "18/18 [==============================] - 18s 1s/step - det_loss: 0.2586 - cls_loss: 0.1787 - box_loss: 0.0016 - reg_l2_loss: 0.1099 - loss: 0.3684 - learning_rate: 0.0061 - gradient_norm: 1.8625 - val_det_loss: 0.2927 - val_cls_loss: 0.1858 - val_box_loss: 0.0021 - val_reg_l2_loss: 0.1099 - val_loss: 0.4025\n",
            "Epoch 48/500\n",
            "18/18 [==============================] - 18s 990ms/step - det_loss: 0.2479 - cls_loss: 0.1761 - box_loss: 0.0014 - reg_l2_loss: 0.1099 - loss: 0.3578 - learning_rate: 0.0061 - gradient_norm: 1.6480 - val_det_loss: 0.2949 - val_cls_loss: 0.1833 - val_box_loss: 0.0022 - val_reg_l2_loss: 0.1099 - val_loss: 0.4048\n",
            "Epoch 49/500\n",
            "18/18 [==============================] - 17s 979ms/step - det_loss: 0.2568 - cls_loss: 0.1808 - box_loss: 0.0015 - reg_l2_loss: 0.1099 - loss: 0.3667 - learning_rate: 0.0061 - gradient_norm: 1.8271 - val_det_loss: 0.2840 - val_cls_loss: 0.1826 - val_box_loss: 0.0020 - val_reg_l2_loss: 0.1099 - val_loss: 0.3939\n",
            "Epoch 50/500\n",
            "18/18 [==============================] - 20s 1s/step - det_loss: 0.2699 - cls_loss: 0.1845 - box_loss: 0.0017 - reg_l2_loss: 0.1099 - loss: 0.3798 - learning_rate: 0.0061 - gradient_norm: 2.0151 - val_det_loss: 0.2902 - val_cls_loss: 0.1793 - val_box_loss: 0.0022 - val_reg_l2_loss: 0.1099 - val_loss: 0.4001\n",
            "Epoch 51/500\n",
            "18/18 [==============================] - 18s 988ms/step - det_loss: 0.2608 - cls_loss: 0.1740 - box_loss: 0.0017 - reg_l2_loss: 0.1099 - loss: 0.3707 - learning_rate: 0.0061 - gradient_norm: 1.8240 - val_det_loss: 0.2741 - val_cls_loss: 0.1740 - val_box_loss: 0.0020 - val_reg_l2_loss: 0.1099 - val_loss: 0.3840\n",
            "Epoch 52/500\n",
            "18/18 [==============================] - 17s 975ms/step - det_loss: 0.2511 - cls_loss: 0.1683 - box_loss: 0.0017 - reg_l2_loss: 0.1099 - loss: 0.3610 - learning_rate: 0.0061 - gradient_norm: 1.8544 - val_det_loss: 0.2806 - val_cls_loss: 0.1751 - val_box_loss: 0.0021 - val_reg_l2_loss: 0.1099 - val_loss: 0.3904\n",
            "Epoch 53/500\n",
            "18/18 [==============================] - 17s 978ms/step - det_loss: 0.2390 - cls_loss: 0.1619 - box_loss: 0.0015 - reg_l2_loss: 0.1099 - loss: 0.3489 - learning_rate: 0.0061 - gradient_norm: 1.7804 - val_det_loss: 0.2706 - val_cls_loss: 0.1718 - val_box_loss: 0.0020 - val_reg_l2_loss: 0.1099 - val_loss: 0.3804\n",
            "Epoch 54/500\n",
            "18/18 [==============================] - 17s 958ms/step - det_loss: 0.2392 - cls_loss: 0.1668 - box_loss: 0.0014 - reg_l2_loss: 0.1098 - loss: 0.3490 - learning_rate: 0.0061 - gradient_norm: 1.7842 - val_det_loss: 0.2951 - val_cls_loss: 0.1860 - val_box_loss: 0.0022 - val_reg_l2_loss: 0.1098 - val_loss: 0.4049\n",
            "Epoch 55/500\n",
            "18/18 [==============================] - 20s 1s/step - det_loss: 0.2400 - cls_loss: 0.1634 - box_loss: 0.0015 - reg_l2_loss: 0.1098 - loss: 0.3498 - learning_rate: 0.0061 - gradient_norm: 1.6410 - val_det_loss: 0.2828 - val_cls_loss: 0.1751 - val_box_loss: 0.0022 - val_reg_l2_loss: 0.1098 - val_loss: 0.3926\n",
            "Epoch 56/500\n",
            "18/18 [==============================] - 17s 983ms/step - det_loss: 0.2327 - cls_loss: 0.1602 - box_loss: 0.0014 - reg_l2_loss: 0.1098 - loss: 0.3425 - learning_rate: 0.0061 - gradient_norm: 1.8007 - val_det_loss: 0.2851 - val_cls_loss: 0.1770 - val_box_loss: 0.0022 - val_reg_l2_loss: 0.1098 - val_loss: 0.3949\n",
            "Epoch 57/500\n",
            "18/18 [==============================] - 17s 970ms/step - det_loss: 0.2338 - cls_loss: 0.1623 - box_loss: 0.0014 - reg_l2_loss: 0.1098 - loss: 0.3437 - learning_rate: 0.0061 - gradient_norm: 1.8426 - val_det_loss: 0.2734 - val_cls_loss: 0.1671 - val_box_loss: 0.0021 - val_reg_l2_loss: 0.1098 - val_loss: 0.3832\n",
            "Epoch 58/500\n",
            "18/18 [==============================] - 17s 983ms/step - det_loss: 0.2511 - cls_loss: 0.1700 - box_loss: 0.0016 - reg_l2_loss: 0.1098 - loss: 0.3609 - learning_rate: 0.0060 - gradient_norm: 1.9291 - val_det_loss: 0.2838 - val_cls_loss: 0.1760 - val_box_loss: 0.0022 - val_reg_l2_loss: 0.1098 - val_loss: 0.3937\n",
            "Epoch 59/500\n",
            "18/18 [==============================] - 17s 986ms/step - det_loss: 0.2565 - cls_loss: 0.1846 - box_loss: 0.0014 - reg_l2_loss: 0.1098 - loss: 0.3663 - learning_rate: 0.0060 - gradient_norm: 2.0497 - val_det_loss: 0.2744 - val_cls_loss: 0.1734 - val_box_loss: 0.0020 - val_reg_l2_loss: 0.1098 - val_loss: 0.3842\n",
            "Epoch 60/500\n",
            "18/18 [==============================] - 19s 1s/step - det_loss: 0.2727 - cls_loss: 0.1917 - box_loss: 0.0016 - reg_l2_loss: 0.1098 - loss: 0.3825 - learning_rate: 0.0060 - gradient_norm: 2.4609 - val_det_loss: 0.3170 - val_cls_loss: 0.2059 - val_box_loss: 0.0022 - val_reg_l2_loss: 0.1098 - val_loss: 0.4268\n",
            "Epoch 61/500\n",
            "18/18 [==============================] - 18s 1s/step - det_loss: 0.2478 - cls_loss: 0.1764 - box_loss: 0.0014 - reg_l2_loss: 0.1098 - loss: 0.3577 - learning_rate: 0.0060 - gradient_norm: 1.8599 - val_det_loss: 0.2821 - val_cls_loss: 0.1747 - val_box_loss: 0.0021 - val_reg_l2_loss: 0.1098 - val_loss: 0.3920\n",
            "Epoch 62/500\n",
            "18/18 [==============================] - 17s 971ms/step - det_loss: 0.2386 - cls_loss: 0.1623 - box_loss: 0.0015 - reg_l2_loss: 0.1098 - loss: 0.3484 - learning_rate: 0.0060 - gradient_norm: 1.8425 - val_det_loss: 0.2831 - val_cls_loss: 0.1813 - val_box_loss: 0.0020 - val_reg_l2_loss: 0.1098 - val_loss: 0.3930\n",
            "Epoch 63/500\n",
            "18/18 [==============================] - 17s 974ms/step - det_loss: 0.2657 - cls_loss: 0.1782 - box_loss: 0.0017 - reg_l2_loss: 0.1098 - loss: 0.3755 - learning_rate: 0.0060 - gradient_norm: 2.2948 - val_det_loss: 0.2894 - val_cls_loss: 0.1882 - val_box_loss: 0.0020 - val_reg_l2_loss: 0.1098 - val_loss: 0.3992\n",
            "Epoch 64/500\n",
            "18/18 [==============================] - 17s 972ms/step - det_loss: 0.2367 - cls_loss: 0.1629 - box_loss: 0.0015 - reg_l2_loss: 0.1098 - loss: 0.3465 - learning_rate: 0.0060 - gradient_norm: 1.8441 - val_det_loss: 0.2696 - val_cls_loss: 0.1723 - val_box_loss: 0.0019 - val_reg_l2_loss: 0.1098 - val_loss: 0.3795\n",
            "Epoch 65/500\n",
            "18/18 [==============================] - 19s 1s/step - det_loss: 0.2273 - cls_loss: 0.1539 - box_loss: 0.0015 - reg_l2_loss: 0.1098 - loss: 0.3371 - learning_rate: 0.0060 - gradient_norm: 1.7457 - val_det_loss: 0.2657 - val_cls_loss: 0.1685 - val_box_loss: 0.0019 - val_reg_l2_loss: 0.1098 - val_loss: 0.3755\n",
            "Epoch 66/500\n",
            "18/18 [==============================] - 18s 1s/step - det_loss: 0.2493 - cls_loss: 0.1672 - box_loss: 0.0016 - reg_l2_loss: 0.1098 - loss: 0.3591 - learning_rate: 0.0060 - gradient_norm: 2.1002 - val_det_loss: 0.2977 - val_cls_loss: 0.1849 - val_box_loss: 0.0023 - val_reg_l2_loss: 0.1098 - val_loss: 0.4075\n",
            "Epoch 67/500\n",
            "18/18 [==============================] - 17s 975ms/step - det_loss: 0.2179 - cls_loss: 0.1477 - box_loss: 0.0014 - reg_l2_loss: 0.1098 - loss: 0.3277 - learning_rate: 0.0060 - gradient_norm: 1.6760 - val_det_loss: 0.2691 - val_cls_loss: 0.1651 - val_box_loss: 0.0021 - val_reg_l2_loss: 0.1098 - val_loss: 0.3789\n",
            "Epoch 68/500\n",
            "18/18 [==============================] - 18s 1s/step - det_loss: 0.2227 - cls_loss: 0.1510 - box_loss: 0.0014 - reg_l2_loss: 0.1098 - loss: 0.3326 - learning_rate: 0.0060 - gradient_norm: 1.6822 - val_det_loss: 0.2686 - val_cls_loss: 0.1652 - val_box_loss: 0.0021 - val_reg_l2_loss: 0.1098 - val_loss: 0.3784\n",
            "Epoch 69/500\n",
            "18/18 [==============================] - 17s 982ms/step - det_loss: 0.2370 - cls_loss: 0.1634 - box_loss: 0.0015 - reg_l2_loss: 0.1098 - loss: 0.3468 - learning_rate: 0.0060 - gradient_norm: 1.7764 - val_det_loss: 0.2767 - val_cls_loss: 0.1709 - val_box_loss: 0.0021 - val_reg_l2_loss: 0.1098 - val_loss: 0.3865\n",
            "Epoch 70/500\n",
            "18/18 [==============================] - 19s 1s/step - det_loss: 0.2184 - cls_loss: 0.1516 - box_loss: 0.0013 - reg_l2_loss: 0.1098 - loss: 0.3282 - learning_rate: 0.0060 - gradient_norm: 1.6766 - val_det_loss: 0.2666 - val_cls_loss: 0.1681 - val_box_loss: 0.0020 - val_reg_l2_loss: 0.1098 - val_loss: 0.3764\n",
            "Epoch 71/500\n",
            "18/18 [==============================] - 17s 985ms/step - det_loss: 0.2330 - cls_loss: 0.1621 - box_loss: 0.0014 - reg_l2_loss: 0.1098 - loss: 0.3428 - learning_rate: 0.0059 - gradient_norm: 1.7521 - val_det_loss: 0.2802 - val_cls_loss: 0.1702 - val_box_loss: 0.0022 - val_reg_l2_loss: 0.1098 - val_loss: 0.3900\n",
            "Epoch 72/500\n",
            "18/18 [==============================] - 19s 1s/step - det_loss: 0.2205 - cls_loss: 0.1498 - box_loss: 0.0014 - reg_l2_loss: 0.1098 - loss: 0.3303 - learning_rate: 0.0059 - gradient_norm: 1.8032 - val_det_loss: 0.2751 - val_cls_loss: 0.1741 - val_box_loss: 0.0020 - val_reg_l2_loss: 0.1098 - val_loss: 0.3849\n",
            "Epoch 73/500\n",
            "18/18 [==============================] - 17s 975ms/step - det_loss: 0.2080 - cls_loss: 0.1491 - box_loss: 0.0012 - reg_l2_loss: 0.1098 - loss: 0.3178 - learning_rate: 0.0059 - gradient_norm: 1.6114 - val_det_loss: 0.2837 - val_cls_loss: 0.1761 - val_box_loss: 0.0022 - val_reg_l2_loss: 0.1098 - val_loss: 0.3935\n",
            "Epoch 74/500\n",
            "18/18 [==============================] - 17s 975ms/step - det_loss: 0.2293 - cls_loss: 0.1580 - box_loss: 0.0014 - reg_l2_loss: 0.1098 - loss: 0.3391 - learning_rate: 0.0059 - gradient_norm: 1.9274 - val_det_loss: 0.2674 - val_cls_loss: 0.1667 - val_box_loss: 0.0020 - val_reg_l2_loss: 0.1098 - val_loss: 0.3772\n",
            "Epoch 75/500\n",
            "18/18 [==============================] - 19s 1s/step - det_loss: 0.2176 - cls_loss: 0.1546 - box_loss: 0.0013 - reg_l2_loss: 0.1098 - loss: 0.3274 - learning_rate: 0.0059 - gradient_norm: 1.8739 - val_det_loss: 0.2554 - val_cls_loss: 0.1599 - val_box_loss: 0.0019 - val_reg_l2_loss: 0.1098 - val_loss: 0.3652\n",
            "Epoch 76/500\n",
            "18/18 [==============================] - 17s 967ms/step - det_loss: 0.2292 - cls_loss: 0.1587 - box_loss: 0.0014 - reg_l2_loss: 0.1098 - loss: 0.3390 - learning_rate: 0.0059 - gradient_norm: 1.7330 - val_det_loss: 0.2619 - val_cls_loss: 0.1696 - val_box_loss: 0.0018 - val_reg_l2_loss: 0.1098 - val_loss: 0.3716\n",
            "Epoch 77/500\n",
            "18/18 [==============================] - 19s 1s/step - det_loss: 0.2309 - cls_loss: 0.1603 - box_loss: 0.0014 - reg_l2_loss: 0.1098 - loss: 0.3407 - learning_rate: 0.0059 - gradient_norm: 1.8675 - val_det_loss: 0.2508 - val_cls_loss: 0.1570 - val_box_loss: 0.0019 - val_reg_l2_loss: 0.1098 - val_loss: 0.3606\n",
            "Epoch 78/500\n",
            "18/18 [==============================] - 17s 971ms/step - det_loss: 0.2147 - cls_loss: 0.1487 - box_loss: 0.0013 - reg_l2_loss: 0.1098 - loss: 0.3245 - learning_rate: 0.0059 - gradient_norm: 1.7660 - val_det_loss: 0.2763 - val_cls_loss: 0.1716 - val_box_loss: 0.0021 - val_reg_l2_loss: 0.1098 - val_loss: 0.3861\n",
            "Epoch 79/500\n",
            "18/18 [==============================] - 18s 1s/step - det_loss: 0.2252 - cls_loss: 0.1569 - box_loss: 0.0014 - reg_l2_loss: 0.1098 - loss: 0.3350 - learning_rate: 0.0059 - gradient_norm: 2.2348 - val_det_loss: 0.2654 - val_cls_loss: 0.1626 - val_box_loss: 0.0021 - val_reg_l2_loss: 0.1098 - val_loss: 0.3752\n",
            "Epoch 80/500\n",
            "18/18 [==============================] - 19s 1s/step - det_loss: 0.2378 - cls_loss: 0.1629 - box_loss: 0.0015 - reg_l2_loss: 0.1098 - loss: 0.3475 - learning_rate: 0.0059 - gradient_norm: 1.9693 - val_det_loss: 0.2730 - val_cls_loss: 0.1743 - val_box_loss: 0.0020 - val_reg_l2_loss: 0.1098 - val_loss: 0.3828\n",
            "Epoch 81/500\n",
            "18/18 [==============================] - 18s 989ms/step - det_loss: 0.2269 - cls_loss: 0.1557 - box_loss: 0.0014 - reg_l2_loss: 0.1098 - loss: 0.3366 - learning_rate: 0.0059 - gradient_norm: 1.8207 - val_det_loss: 0.2701 - val_cls_loss: 0.1639 - val_box_loss: 0.0021 - val_reg_l2_loss: 0.1098 - val_loss: 0.3799\n",
            "Epoch 82/500\n",
            "18/18 [==============================] - 19s 1s/step - det_loss: 0.2135 - cls_loss: 0.1430 - box_loss: 0.0014 - reg_l2_loss: 0.1098 - loss: 0.3232 - learning_rate: 0.0058 - gradient_norm: 1.9568 - val_det_loss: 0.2628 - val_cls_loss: 0.1613 - val_box_loss: 0.0020 - val_reg_l2_loss: 0.1098 - val_loss: 0.3725\n",
            "Epoch 83/500\n",
            "18/18 [==============================] - 17s 971ms/step - det_loss: 0.2016 - cls_loss: 0.1384 - box_loss: 0.0013 - reg_l2_loss: 0.1098 - loss: 0.3114 - learning_rate: 0.0058 - gradient_norm: 1.6909 - val_det_loss: 0.2790 - val_cls_loss: 0.1741 - val_box_loss: 0.0021 - val_reg_l2_loss: 0.1098 - val_loss: 0.3888\n",
            "Epoch 84/500\n",
            "18/18 [==============================] - 17s 982ms/step - det_loss: 0.2160 - cls_loss: 0.1461 - box_loss: 0.0014 - reg_l2_loss: 0.1098 - loss: 0.3257 - learning_rate: 0.0058 - gradient_norm: 1.8970 - val_det_loss: 0.2625 - val_cls_loss: 0.1658 - val_box_loss: 0.0019 - val_reg_l2_loss: 0.1098 - val_loss: 0.3723\n",
            "Epoch 85/500\n",
            "18/18 [==============================] - 19s 1s/step - det_loss: 0.1955 - cls_loss: 0.1363 - box_loss: 0.0012 - reg_l2_loss: 0.1098 - loss: 0.3052 - learning_rate: 0.0058 - gradient_norm: 1.5844 - val_det_loss: 0.2806 - val_cls_loss: 0.1820 - val_box_loss: 0.0020 - val_reg_l2_loss: 0.1098 - val_loss: 0.3904\n",
            "Epoch 86/500\n",
            "18/18 [==============================] - 17s 980ms/step - det_loss: 0.1995 - cls_loss: 0.1410 - box_loss: 0.0012 - reg_l2_loss: 0.1098 - loss: 0.3092 - learning_rate: 0.0058 - gradient_norm: 1.8675 - val_det_loss: 0.2580 - val_cls_loss: 0.1654 - val_box_loss: 0.0019 - val_reg_l2_loss: 0.1098 - val_loss: 0.3678\n",
            "Epoch 87/500\n",
            "18/18 [==============================] - 18s 993ms/step - det_loss: 0.2079 - cls_loss: 0.1450 - box_loss: 0.0013 - reg_l2_loss: 0.1097 - loss: 0.3177 - learning_rate: 0.0058 - gradient_norm: 1.8622 - val_det_loss: 0.2715 - val_cls_loss: 0.1638 - val_box_loss: 0.0022 - val_reg_l2_loss: 0.1097 - val_loss: 0.3812\n",
            "Epoch 88/500\n",
            "18/18 [==============================] - 19s 1s/step - det_loss: 0.2024 - cls_loss: 0.1419 - box_loss: 0.0012 - reg_l2_loss: 0.1097 - loss: 0.3122 - learning_rate: 0.0058 - gradient_norm: 1.6724 - val_det_loss: 0.2632 - val_cls_loss: 0.1593 - val_box_loss: 0.0021 - val_reg_l2_loss: 0.1097 - val_loss: 0.3730\n",
            "Epoch 89/500\n",
            "18/18 [==============================] - 18s 994ms/step - det_loss: 0.2507 - cls_loss: 0.1855 - box_loss: 0.0013 - reg_l2_loss: 0.1097 - loss: 0.3605 - learning_rate: 0.0058 - gradient_norm: 2.0828 - val_det_loss: 0.3228 - val_cls_loss: 0.2131 - val_box_loss: 0.0022 - val_reg_l2_loss: 0.1097 - val_loss: 0.4325\n",
            "Epoch 90/500\n",
            "18/18 [==============================] - 19s 1s/step - det_loss: 0.2364 - cls_loss: 0.1653 - box_loss: 0.0014 - reg_l2_loss: 0.1097 - loss: 0.3462 - learning_rate: 0.0058 - gradient_norm: 2.3147 - val_det_loss: 0.2828 - val_cls_loss: 0.1715 - val_box_loss: 0.0022 - val_reg_l2_loss: 0.1097 - val_loss: 0.3926\n",
            "Epoch 91/500\n",
            "18/18 [==============================] - 18s 991ms/step - det_loss: 0.2020 - cls_loss: 0.1409 - box_loss: 0.0012 - reg_l2_loss: 0.1097 - loss: 0.3118 - learning_rate: 0.0058 - gradient_norm: 1.6202 - val_det_loss: 0.2676 - val_cls_loss: 0.1577 - val_box_loss: 0.0022 - val_reg_l2_loss: 0.1097 - val_loss: 0.3774\n",
            "Epoch 92/500\n",
            "18/18 [==============================] - 17s 973ms/step - det_loss: 0.2048 - cls_loss: 0.1421 - box_loss: 0.0013 - reg_l2_loss: 0.1097 - loss: 0.3145 - learning_rate: 0.0057 - gradient_norm: 1.7045 - val_det_loss: 0.2815 - val_cls_loss: 0.1741 - val_box_loss: 0.0021 - val_reg_l2_loss: 0.1097 - val_loss: 0.3912\n",
            "Epoch 93/500\n",
            "18/18 [==============================] - 19s 1s/step - det_loss: 0.1838 - cls_loss: 0.1314 - box_loss: 0.0010 - reg_l2_loss: 0.1097 - loss: 0.2936 - learning_rate: 0.0057 - gradient_norm: 1.6984 - val_det_loss: 0.2901 - val_cls_loss: 0.1822 - val_box_loss: 0.0022 - val_reg_l2_loss: 0.1097 - val_loss: 0.3998\n",
            "Epoch 94/500\n",
            "18/18 [==============================] - 17s 975ms/step - det_loss: 0.2067 - cls_loss: 0.1400 - box_loss: 0.0013 - reg_l2_loss: 0.1097 - loss: 0.3164 - learning_rate: 0.0057 - gradient_norm: 1.7880 - val_det_loss: 0.2912 - val_cls_loss: 0.1750 - val_box_loss: 0.0023 - val_reg_l2_loss: 0.1097 - val_loss: 0.4010\n",
            "Epoch 95/500\n",
            "18/18 [==============================] - 19s 1s/step - det_loss: 0.2025 - cls_loss: 0.1417 - box_loss: 0.0012 - reg_l2_loss: 0.1097 - loss: 0.3122 - learning_rate: 0.0057 - gradient_norm: 1.7042 - val_det_loss: 0.2651 - val_cls_loss: 0.1598 - val_box_loss: 0.0021 - val_reg_l2_loss: 0.1097 - val_loss: 0.3748\n",
            "Epoch 96/500\n",
            "18/18 [==============================] - 17s 964ms/step - det_loss: 0.2032 - cls_loss: 0.1385 - box_loss: 0.0013 - reg_l2_loss: 0.1097 - loss: 0.3129 - learning_rate: 0.0057 - gradient_norm: 1.8737 - val_det_loss: 0.2709 - val_cls_loss: 0.1687 - val_box_loss: 0.0020 - val_reg_l2_loss: 0.1097 - val_loss: 0.3806\n",
            "Epoch 97/500\n",
            "18/18 [==============================] - 17s 984ms/step - det_loss: 0.2333 - cls_loss: 0.1609 - box_loss: 0.0014 - reg_l2_loss: 0.1097 - loss: 0.3431 - learning_rate: 0.0057 - gradient_norm: 2.5723 - val_det_loss: 0.2784 - val_cls_loss: 0.1709 - val_box_loss: 0.0021 - val_reg_l2_loss: 0.1097 - val_loss: 0.3881\n",
            "Epoch 98/500\n",
            "18/18 [==============================] - 19s 1s/step - det_loss: 0.2052 - cls_loss: 0.1499 - box_loss: 0.0011 - reg_l2_loss: 0.1097 - loss: 0.3149 - learning_rate: 0.0057 - gradient_norm: 1.9636 - val_det_loss: 0.2665 - val_cls_loss: 0.1629 - val_box_loss: 0.0021 - val_reg_l2_loss: 0.1097 - val_loss: 0.3762\n",
            "Epoch 99/500\n",
            "18/18 [==============================] - 18s 999ms/step - det_loss: 0.2172 - cls_loss: 0.1445 - box_loss: 0.0015 - reg_l2_loss: 0.1097 - loss: 0.3269 - learning_rate: 0.0057 - gradient_norm: 1.7388 - val_det_loss: 0.2571 - val_cls_loss: 0.1498 - val_box_loss: 0.0021 - val_reg_l2_loss: 0.1097 - val_loss: 0.3668\n",
            "Epoch 100/500\n",
            "18/18 [==============================] - 20s 1s/step - det_loss: 0.2016 - cls_loss: 0.1413 - box_loss: 0.0012 - reg_l2_loss: 0.1097 - loss: 0.3113 - learning_rate: 0.0057 - gradient_norm: 1.7368 - val_det_loss: 0.2632 - val_cls_loss: 0.1589 - val_box_loss: 0.0021 - val_reg_l2_loss: 0.1097 - val_loss: 0.3729\n",
            "Epoch 101/500\n",
            "18/18 [==============================] - 18s 990ms/step - det_loss: 0.2207 - cls_loss: 0.1494 - box_loss: 0.0014 - reg_l2_loss: 0.1097 - loss: 0.3304 - learning_rate: 0.0056 - gradient_norm: 2.1152 - val_det_loss: 0.2538 - val_cls_loss: 0.1527 - val_box_loss: 0.0020 - val_reg_l2_loss: 0.1097 - val_loss: 0.3635\n",
            "Epoch 102/500\n",
            "18/18 [==============================] - 19s 1s/step - det_loss: 0.1947 - cls_loss: 0.1339 - box_loss: 0.0012 - reg_l2_loss: 0.1097 - loss: 0.3044 - learning_rate: 0.0056 - gradient_norm: 1.6595 - val_det_loss: 0.2521 - val_cls_loss: 0.1521 - val_box_loss: 0.0020 - val_reg_l2_loss: 0.1097 - val_loss: 0.3618\n",
            "Epoch 103/500\n",
            "18/18 [==============================] - 18s 998ms/step - det_loss: 0.1939 - cls_loss: 0.1345 - box_loss: 0.0012 - reg_l2_loss: 0.1097 - loss: 0.3036 - learning_rate: 0.0056 - gradient_norm: 1.6721 - val_det_loss: 0.2522 - val_cls_loss: 0.1513 - val_box_loss: 0.0020 - val_reg_l2_loss: 0.1097 - val_loss: 0.3619\n",
            "Epoch 104/500\n",
            "18/18 [==============================] - 19s 1s/step - det_loss: 0.2211 - cls_loss: 0.1567 - box_loss: 0.0013 - reg_l2_loss: 0.1097 - loss: 0.3308 - learning_rate: 0.0056 - gradient_norm: 2.0322 - val_det_loss: 0.2598 - val_cls_loss: 0.1551 - val_box_loss: 0.0021 - val_reg_l2_loss: 0.1097 - val_loss: 0.3695\n",
            "Epoch 105/500\n",
            "18/18 [==============================] - 19s 1s/step - det_loss: 0.2167 - cls_loss: 0.1487 - box_loss: 0.0014 - reg_l2_loss: 0.1097 - loss: 0.3264 - learning_rate: 0.0056 - gradient_norm: 1.9650 - val_det_loss: 0.2655 - val_cls_loss: 0.1644 - val_box_loss: 0.0020 - val_reg_l2_loss: 0.1097 - val_loss: 0.3752\n",
            "Epoch 106/500\n",
            "18/18 [==============================] - 17s 965ms/step - det_loss: 0.2145 - cls_loss: 0.1463 - box_loss: 0.0014 - reg_l2_loss: 0.1097 - loss: 0.3242 - learning_rate: 0.0056 - gradient_norm: 1.9508 - val_det_loss: 0.2595 - val_cls_loss: 0.1605 - val_box_loss: 0.0020 - val_reg_l2_loss: 0.1097 - val_loss: 0.3692\n",
            "Epoch 107/500\n",
            "18/18 [==============================] - 18s 997ms/step - det_loss: 0.1946 - cls_loss: 0.1347 - box_loss: 0.0012 - reg_l2_loss: 0.1097 - loss: 0.3042 - learning_rate: 0.0056 - gradient_norm: 1.7185 - val_det_loss: 0.2371 - val_cls_loss: 0.1466 - val_box_loss: 0.0018 - val_reg_l2_loss: 0.1097 - val_loss: 0.3468\n",
            "Epoch 108/500\n",
            "18/18 [==============================] - 18s 997ms/step - det_loss: 0.1985 - cls_loss: 0.1444 - box_loss: 0.0011 - reg_l2_loss: 0.1097 - loss: 0.3082 - learning_rate: 0.0056 - gradient_norm: 1.8307 - val_det_loss: 0.2604 - val_cls_loss: 0.1616 - val_box_loss: 0.0020 - val_reg_l2_loss: 0.1097 - val_loss: 0.3701\n",
            "Epoch 109/500\n",
            "18/18 [==============================] - 19s 1s/step - det_loss: 0.2011 - cls_loss: 0.1391 - box_loss: 0.0012 - reg_l2_loss: 0.1097 - loss: 0.3108 - learning_rate: 0.0055 - gradient_norm: 1.7145 - val_det_loss: 0.2533 - val_cls_loss: 0.1578 - val_box_loss: 0.0019 - val_reg_l2_loss: 0.1097 - val_loss: 0.3630\n",
            "Epoch 110/500\n",
            "18/18 [==============================] - 19s 1s/step - det_loss: 0.2041 - cls_loss: 0.1447 - box_loss: 0.0012 - reg_l2_loss: 0.1097 - loss: 0.3138 - learning_rate: 0.0055 - gradient_norm: 1.7543 - val_det_loss: 0.2445 - val_cls_loss: 0.1537 - val_box_loss: 0.0018 - val_reg_l2_loss: 0.1097 - val_loss: 0.3542\n",
            "Epoch 111/500\n",
            "18/18 [==============================] - 18s 996ms/step - det_loss: 0.1934 - cls_loss: 0.1350 - box_loss: 0.0012 - reg_l2_loss: 0.1097 - loss: 0.3031 - learning_rate: 0.0055 - gradient_norm: 1.6341 - val_det_loss: 0.2485 - val_cls_loss: 0.1518 - val_box_loss: 0.0019 - val_reg_l2_loss: 0.1097 - val_loss: 0.3582\n",
            "Epoch 112/500\n",
            "18/18 [==============================] - 18s 990ms/step - det_loss: 0.1921 - cls_loss: 0.1387 - box_loss: 0.0011 - reg_l2_loss: 0.1097 - loss: 0.3017 - learning_rate: 0.0055 - gradient_norm: 1.6180 - val_det_loss: 0.2554 - val_cls_loss: 0.1587 - val_box_loss: 0.0019 - val_reg_l2_loss: 0.1097 - val_loss: 0.3651\n",
            "Epoch 113/500\n",
            "18/18 [==============================] - 18s 997ms/step - det_loss: 0.2035 - cls_loss: 0.1399 - box_loss: 0.0013 - reg_l2_loss: 0.1097 - loss: 0.3132 - learning_rate: 0.0055 - gradient_norm: 1.7836 - val_det_loss: 0.2418 - val_cls_loss: 0.1489 - val_box_loss: 0.0019 - val_reg_l2_loss: 0.1097 - val_loss: 0.3514\n",
            "Epoch 114/500\n",
            "18/18 [==============================] - 19s 1s/step - det_loss: 0.1906 - cls_loss: 0.1309 - box_loss: 0.0012 - reg_l2_loss: 0.1097 - loss: 0.3002 - learning_rate: 0.0055 - gradient_norm: 1.6827 - val_det_loss: 0.2434 - val_cls_loss: 0.1528 - val_box_loss: 0.0018 - val_reg_l2_loss: 0.1097 - val_loss: 0.3530\n",
            "Epoch 115/500\n",
            "18/18 [==============================] - 20s 1s/step - det_loss: 0.1865 - cls_loss: 0.1304 - box_loss: 0.0011 - reg_l2_loss: 0.1097 - loss: 0.2962 - learning_rate: 0.0055 - gradient_norm: 1.6102 - val_det_loss: 0.2557 - val_cls_loss: 0.1616 - val_box_loss: 0.0019 - val_reg_l2_loss: 0.1097 - val_loss: 0.3654\n",
            "Epoch 116/500\n",
            "18/18 [==============================] - 18s 989ms/step - det_loss: 0.1732 - cls_loss: 0.1206 - box_loss: 0.0011 - reg_l2_loss: 0.1096 - loss: 0.2829 - learning_rate: 0.0055 - gradient_norm: 1.6011 - val_det_loss: 0.2525 - val_cls_loss: 0.1592 - val_box_loss: 0.0019 - val_reg_l2_loss: 0.1096 - val_loss: 0.3622\n",
            "Epoch 117/500\n",
            "18/18 [==============================] - 18s 993ms/step - det_loss: 0.1772 - cls_loss: 0.1283 - box_loss: 9.7696e-04 - reg_l2_loss: 0.1096 - loss: 0.2868 - learning_rate: 0.0054 - gradient_norm: 1.5969 - val_det_loss: 0.2469 - val_cls_loss: 0.1519 - val_box_loss: 0.0019 - val_reg_l2_loss: 0.1096 - val_loss: 0.3566\n",
            "Epoch 118/500\n",
            "18/18 [==============================] - 18s 986ms/step - det_loss: 0.1838 - cls_loss: 0.1304 - box_loss: 0.0011 - reg_l2_loss: 0.1096 - loss: 0.2935 - learning_rate: 0.0054 - gradient_norm: 1.7476 - val_det_loss: 0.2658 - val_cls_loss: 0.1664 - val_box_loss: 0.0020 - val_reg_l2_loss: 0.1096 - val_loss: 0.3754\n",
            "Epoch 119/500\n",
            "18/18 [==============================] - 18s 1s/step - det_loss: 0.1890 - cls_loss: 0.1326 - box_loss: 0.0011 - reg_l2_loss: 0.1096 - loss: 0.2986 - learning_rate: 0.0054 - gradient_norm: 1.7971 - val_det_loss: 0.2584 - val_cls_loss: 0.1571 - val_box_loss: 0.0020 - val_reg_l2_loss: 0.1096 - val_loss: 0.3681\n",
            "Epoch 120/500\n",
            "18/18 [==============================] - 21s 1s/step - det_loss: 0.1963 - cls_loss: 0.1382 - box_loss: 0.0012 - reg_l2_loss: 0.1096 - loss: 0.3059 - learning_rate: 0.0054 - gradient_norm: 1.7901 - val_det_loss: 0.2623 - val_cls_loss: 0.1638 - val_box_loss: 0.0020 - val_reg_l2_loss: 0.1096 - val_loss: 0.3719\n",
            "Epoch 121/500\n",
            "18/18 [==============================] - 17s 977ms/step - det_loss: 0.1902 - cls_loss: 0.1317 - box_loss: 0.0012 - reg_l2_loss: 0.1096 - loss: 0.2999 - learning_rate: 0.0054 - gradient_norm: 1.7676 - val_det_loss: 0.2435 - val_cls_loss: 0.1509 - val_box_loss: 0.0019 - val_reg_l2_loss: 0.1096 - val_loss: 0.3531\n",
            "Epoch 122/500\n",
            "18/18 [==============================] - 18s 1s/step - det_loss: 0.1837 - cls_loss: 0.1283 - box_loss: 0.0011 - reg_l2_loss: 0.1096 - loss: 0.2934 - learning_rate: 0.0054 - gradient_norm: 1.8728 - val_det_loss: 0.2731 - val_cls_loss: 0.1805 - val_box_loss: 0.0019 - val_reg_l2_loss: 0.1096 - val_loss: 0.3828\n",
            "Epoch 123/500\n",
            "18/18 [==============================] - 18s 1000ms/step - det_loss: 0.1751 - cls_loss: 0.1219 - box_loss: 0.0011 - reg_l2_loss: 0.1096 - loss: 0.2847 - learning_rate: 0.0054 - gradient_norm: 1.5514 - val_det_loss: 0.2502 - val_cls_loss: 0.1528 - val_box_loss: 0.0019 - val_reg_l2_loss: 0.1096 - val_loss: 0.3598\n",
            "Epoch 124/500\n",
            "18/18 [==============================] - 17s 969ms/step - det_loss: 0.2199 - cls_loss: 0.1567 - box_loss: 0.0013 - reg_l2_loss: 0.1096 - loss: 0.3295 - learning_rate: 0.0054 - gradient_norm: 2.1200 - val_det_loss: 0.2664 - val_cls_loss: 0.1662 - val_box_loss: 0.0020 - val_reg_l2_loss: 0.1096 - val_loss: 0.3760\n",
            "Epoch 125/500\n",
            "18/18 [==============================] - 19s 1s/step - det_loss: 0.2086 - cls_loss: 0.1423 - box_loss: 0.0013 - reg_l2_loss: 0.1096 - loss: 0.3182 - learning_rate: 0.0053 - gradient_norm: 2.1584 - val_det_loss: 0.2754 - val_cls_loss: 0.1726 - val_box_loss: 0.0021 - val_reg_l2_loss: 0.1096 - val_loss: 0.3850\n",
            "Epoch 126/500\n",
            "18/18 [==============================] - 19s 1s/step - det_loss: 0.1882 - cls_loss: 0.1346 - box_loss: 0.0011 - reg_l2_loss: 0.1096 - loss: 0.2978 - learning_rate: 0.0053 - gradient_norm: 1.7275 - val_det_loss: 0.2539 - val_cls_loss: 0.1581 - val_box_loss: 0.0019 - val_reg_l2_loss: 0.1096 - val_loss: 0.3635\n",
            "Epoch 127/500\n",
            "18/18 [==============================] - 18s 987ms/step - det_loss: 0.1971 - cls_loss: 0.1365 - box_loss: 0.0012 - reg_l2_loss: 0.1096 - loss: 0.3067 - learning_rate: 0.0053 - gradient_norm: 1.7922 - val_det_loss: 0.2741 - val_cls_loss: 0.1679 - val_box_loss: 0.0021 - val_reg_l2_loss: 0.1096 - val_loss: 0.3837\n",
            "Epoch 128/500\n",
            "18/18 [==============================] - 17s 980ms/step - det_loss: 0.1969 - cls_loss: 0.1387 - box_loss: 0.0012 - reg_l2_loss: 0.1096 - loss: 0.3065 - learning_rate: 0.0053 - gradient_norm: 1.8257 - val_det_loss: 0.2627 - val_cls_loss: 0.1646 - val_box_loss: 0.0020 - val_reg_l2_loss: 0.1096 - val_loss: 0.3723\n",
            "Epoch 129/500\n",
            "18/18 [==============================] - 17s 976ms/step - det_loss: 0.1790 - cls_loss: 0.1298 - box_loss: 9.8472e-04 - reg_l2_loss: 0.1096 - loss: 0.2886 - learning_rate: 0.0053 - gradient_norm: 1.5145 - val_det_loss: 0.2580 - val_cls_loss: 0.1584 - val_box_loss: 0.0020 - val_reg_l2_loss: 0.1096 - val_loss: 0.3676\n",
            "Epoch 130/500\n",
            "18/18 [==============================] - 19s 1s/step - det_loss: 0.1743 - cls_loss: 0.1217 - box_loss: 0.0011 - reg_l2_loss: 0.1096 - loss: 0.2839 - learning_rate: 0.0053 - gradient_norm: 1.5799 - val_det_loss: 0.2585 - val_cls_loss: 0.1590 - val_box_loss: 0.0020 - val_reg_l2_loss: 0.1096 - val_loss: 0.3681\n",
            "Epoch 131/500\n",
            "18/18 [==============================] - 19s 1s/step - det_loss: 0.1854 - cls_loss: 0.1339 - box_loss: 0.0010 - reg_l2_loss: 0.1096 - loss: 0.2950 - learning_rate: 0.0053 - gradient_norm: 1.7544 - val_det_loss: 0.2589 - val_cls_loss: 0.1592 - val_box_loss: 0.0020 - val_reg_l2_loss: 0.1096 - val_loss: 0.3685\n",
            "Epoch 132/500\n",
            "18/18 [==============================] - 18s 1s/step - det_loss: 0.1658 - cls_loss: 0.1162 - box_loss: 9.9315e-04 - reg_l2_loss: 0.1096 - loss: 0.2754 - learning_rate: 0.0052 - gradient_norm: 1.6059 - val_det_loss: 0.2515 - val_cls_loss: 0.1545 - val_box_loss: 0.0019 - val_reg_l2_loss: 0.1096 - val_loss: 0.3611\n",
            "Epoch 133/500\n",
            "18/18 [==============================] - 19s 1s/step - det_loss: 0.2115 - cls_loss: 0.1473 - box_loss: 0.0013 - reg_l2_loss: 0.1096 - loss: 0.3211 - learning_rate: 0.0052 - gradient_norm: 1.9390 - val_det_loss: 0.2486 - val_cls_loss: 0.1538 - val_box_loss: 0.0019 - val_reg_l2_loss: 0.1096 - val_loss: 0.3582\n",
            "Epoch 134/500\n",
            "18/18 [==============================] - 18s 996ms/step - det_loss: 0.1836 - cls_loss: 0.1294 - box_loss: 0.0011 - reg_l2_loss: 0.1096 - loss: 0.2932 - learning_rate: 0.0052 - gradient_norm: 1.6400 - val_det_loss: 0.2559 - val_cls_loss: 0.1586 - val_box_loss: 0.0019 - val_reg_l2_loss: 0.1096 - val_loss: 0.3655\n",
            "Epoch 135/500\n",
            "18/18 [==============================] - 19s 1s/step - det_loss: 0.1883 - cls_loss: 0.1355 - box_loss: 0.0011 - reg_l2_loss: 0.1096 - loss: 0.2979 - learning_rate: 0.0052 - gradient_norm: 1.9243 - val_det_loss: 0.2437 - val_cls_loss: 0.1482 - val_box_loss: 0.0019 - val_reg_l2_loss: 0.1096 - val_loss: 0.3532\n",
            "Epoch 136/500\n",
            "18/18 [==============================] - 18s 992ms/step - det_loss: 0.1894 - cls_loss: 0.1318 - box_loss: 0.0012 - reg_l2_loss: 0.1096 - loss: 0.2990 - learning_rate: 0.0052 - gradient_norm: 1.8094 - val_det_loss: 0.2507 - val_cls_loss: 0.1499 - val_box_loss: 0.0020 - val_reg_l2_loss: 0.1096 - val_loss: 0.3603\n",
            "Epoch 137/500\n",
            "18/18 [==============================] - 19s 1s/step - det_loss: 0.1796 - cls_loss: 0.1256 - box_loss: 0.0011 - reg_l2_loss: 0.1096 - loss: 0.2891 - learning_rate: 0.0052 - gradient_norm: 1.6161 - val_det_loss: 0.2553 - val_cls_loss: 0.1539 - val_box_loss: 0.0020 - val_reg_l2_loss: 0.1096 - val_loss: 0.3649\n",
            "Epoch 138/500\n",
            "18/18 [==============================] - 17s 965ms/step - det_loss: 0.1800 - cls_loss: 0.1262 - box_loss: 0.0011 - reg_l2_loss: 0.1096 - loss: 0.2895 - learning_rate: 0.0052 - gradient_norm: 1.7103 - val_det_loss: 0.2472 - val_cls_loss: 0.1539 - val_box_loss: 0.0019 - val_reg_l2_loss: 0.1096 - val_loss: 0.3568\n",
            "Epoch 139/500\n",
            "18/18 [==============================] - 18s 1s/step - det_loss: 0.1895 - cls_loss: 0.1307 - box_loss: 0.0012 - reg_l2_loss: 0.1096 - loss: 0.2990 - learning_rate: 0.0051 - gradient_norm: 1.8787 - val_det_loss: 0.2733 - val_cls_loss: 0.1683 - val_box_loss: 0.0021 - val_reg_l2_loss: 0.1096 - val_loss: 0.3828\n",
            "Epoch 140/500\n",
            "18/18 [==============================] - 20s 1s/step - det_loss: 0.1885 - cls_loss: 0.1359 - box_loss: 0.0011 - reg_l2_loss: 0.1096 - loss: 0.2981 - learning_rate: 0.0051 - gradient_norm: 1.7666 - val_det_loss: 0.2607 - val_cls_loss: 0.1584 - val_box_loss: 0.0020 - val_reg_l2_loss: 0.1096 - val_loss: 0.3703\n",
            "Epoch 141/500\n",
            "18/18 [==============================] - 17s 983ms/step - det_loss: 0.2177 - cls_loss: 0.1625 - box_loss: 0.0011 - reg_l2_loss: 0.1096 - loss: 0.3273 - learning_rate: 0.0051 - gradient_norm: 2.2060 - val_det_loss: 0.2623 - val_cls_loss: 0.1676 - val_box_loss: 0.0019 - val_reg_l2_loss: 0.1096 - val_loss: 0.3719\n",
            "Epoch 142/500\n",
            "18/18 [==============================] - 19s 1s/step - det_loss: 0.2010 - cls_loss: 0.1426 - box_loss: 0.0012 - reg_l2_loss: 0.1096 - loss: 0.3106 - learning_rate: 0.0051 - gradient_norm: 1.8375 - val_det_loss: 0.2550 - val_cls_loss: 0.1602 - val_box_loss: 0.0019 - val_reg_l2_loss: 0.1096 - val_loss: 0.3646\n",
            "Epoch 143/500\n",
            "18/18 [==============================] - 18s 989ms/step - det_loss: 0.1711 - cls_loss: 0.1202 - box_loss: 0.0010 - reg_l2_loss: 0.1096 - loss: 0.2806 - learning_rate: 0.0051 - gradient_norm: 1.4921 - val_det_loss: 0.2488 - val_cls_loss: 0.1575 - val_box_loss: 0.0018 - val_reg_l2_loss: 0.1095 - val_loss: 0.3583\n",
            "Epoch 144/500\n",
            "18/18 [==============================] - 17s 974ms/step - det_loss: 0.1750 - cls_loss: 0.1253 - box_loss: 9.9349e-04 - reg_l2_loss: 0.1095 - loss: 0.2845 - learning_rate: 0.0051 - gradient_norm: 1.5820 - val_det_loss: 0.2502 - val_cls_loss: 0.1509 - val_box_loss: 0.0020 - val_reg_l2_loss: 0.1095 - val_loss: 0.3598\n",
            "Epoch 145/500\n",
            "18/18 [==============================] - 19s 1s/step - det_loss: 0.2260 - cls_loss: 0.1433 - box_loss: 0.0017 - reg_l2_loss: 0.1095 - loss: 0.3356 - learning_rate: 0.0050 - gradient_norm: 2.0604 - val_det_loss: 0.2612 - val_cls_loss: 0.1597 - val_box_loss: 0.0020 - val_reg_l2_loss: 0.1095 - val_loss: 0.3707\n",
            "Epoch 146/500\n",
            "18/18 [==============================] - 17s 985ms/step - det_loss: 0.1797 - cls_loss: 0.1243 - box_loss: 0.0011 - reg_l2_loss: 0.1095 - loss: 0.2892 - learning_rate: 0.0050 - gradient_norm: 1.7214 - val_det_loss: 0.2464 - val_cls_loss: 0.1477 - val_box_loss: 0.0020 - val_reg_l2_loss: 0.1095 - val_loss: 0.3559\n",
            "Epoch 147/500\n",
            "18/18 [==============================] - 19s 1s/step - det_loss: 0.1738 - cls_loss: 0.1210 - box_loss: 0.0011 - reg_l2_loss: 0.1095 - loss: 0.2833 - learning_rate: 0.0050 - gradient_norm: 1.7357 - val_det_loss: 0.2505 - val_cls_loss: 0.1559 - val_box_loss: 0.0019 - val_reg_l2_loss: 0.1095 - val_loss: 0.3601\n",
            "Epoch 148/500\n",
            "18/18 [==============================] - 18s 1s/step - det_loss: 0.1803 - cls_loss: 0.1276 - box_loss: 0.0011 - reg_l2_loss: 0.1095 - loss: 0.2898 - learning_rate: 0.0050 - gradient_norm: 1.7213 - val_det_loss: 0.2499 - val_cls_loss: 0.1549 - val_box_loss: 0.0019 - val_reg_l2_loss: 0.1095 - val_loss: 0.3595\n",
            "Epoch 149/500\n",
            "18/18 [==============================] - 17s 984ms/step - det_loss: 0.1968 - cls_loss: 0.1353 - box_loss: 0.0012 - reg_l2_loss: 0.1095 - loss: 0.3064 - learning_rate: 0.0050 - gradient_norm: 1.9747 - val_det_loss: 0.2255 - val_cls_loss: 0.1375 - val_box_loss: 0.0018 - val_reg_l2_loss: 0.1095 - val_loss: 0.3351\n",
            "Epoch 150/500\n",
            "18/18 [==============================] - 19s 1s/step - det_loss: 0.1720 - cls_loss: 0.1196 - box_loss: 0.0010 - reg_l2_loss: 0.1095 - loss: 0.2816 - learning_rate: 0.0050 - gradient_norm: 1.6372 - val_det_loss: 0.2341 - val_cls_loss: 0.1474 - val_box_loss: 0.0017 - val_reg_l2_loss: 0.1095 - val_loss: 0.3436\n",
            "Epoch 151/500\n",
            "18/18 [==============================] - 17s 975ms/step - det_loss: 0.1756 - cls_loss: 0.1208 - box_loss: 0.0011 - reg_l2_loss: 0.1095 - loss: 0.2851 - learning_rate: 0.0049 - gradient_norm: 1.7364 - val_det_loss: 0.2426 - val_cls_loss: 0.1506 - val_box_loss: 0.0018 - val_reg_l2_loss: 0.1095 - val_loss: 0.3521\n",
            "Epoch 152/500\n",
            "18/18 [==============================] - 17s 965ms/step - det_loss: 0.1606 - cls_loss: 0.1137 - box_loss: 9.3760e-04 - reg_l2_loss: 0.1095 - loss: 0.2701 - learning_rate: 0.0049 - gradient_norm: 1.4381 - val_det_loss: 0.2440 - val_cls_loss: 0.1508 - val_box_loss: 0.0019 - val_reg_l2_loss: 0.1095 - val_loss: 0.3535\n",
            "Epoch 153/500\n",
            "18/18 [==============================] - 18s 1s/step - det_loss: 0.1840 - cls_loss: 0.1336 - box_loss: 0.0010 - reg_l2_loss: 0.1095 - loss: 0.2935 - learning_rate: 0.0049 - gradient_norm: 1.8584 - val_det_loss: 0.2585 - val_cls_loss: 0.1604 - val_box_loss: 0.0020 - val_reg_l2_loss: 0.1095 - val_loss: 0.3680\n",
            "Epoch 154/500\n",
            "18/18 [==============================] - 17s 986ms/step - det_loss: 0.1646 - cls_loss: 0.1190 - box_loss: 9.1142e-04 - reg_l2_loss: 0.1095 - loss: 0.2741 - learning_rate: 0.0049 - gradient_norm: 1.5101 - val_det_loss: 0.2391 - val_cls_loss: 0.1466 - val_box_loss: 0.0019 - val_reg_l2_loss: 0.1095 - val_loss: 0.3486\n",
            "Epoch 155/500\n",
            "18/18 [==============================] - 20s 1s/step - det_loss: 0.1755 - cls_loss: 0.1234 - box_loss: 0.0010 - reg_l2_loss: 0.1095 - loss: 0.2850 - learning_rate: 0.0049 - gradient_norm: 1.6462 - val_det_loss: 0.2531 - val_cls_loss: 0.1564 - val_box_loss: 0.0019 - val_reg_l2_loss: 0.1095 - val_loss: 0.3626\n",
            "Epoch 156/500\n",
            "18/18 [==============================] - 18s 989ms/step - det_loss: 0.1679 - cls_loss: 0.1204 - box_loss: 9.4976e-04 - reg_l2_loss: 0.1095 - loss: 0.2774 - learning_rate: 0.0049 - gradient_norm: 1.6337 - val_det_loss: 0.2550 - val_cls_loss: 0.1585 - val_box_loss: 0.0019 - val_reg_l2_loss: 0.1095 - val_loss: 0.3645\n",
            "Epoch 157/500\n",
            "18/18 [==============================] - 18s 992ms/step - det_loss: 0.1630 - cls_loss: 0.1143 - box_loss: 9.7295e-04 - reg_l2_loss: 0.1095 - loss: 0.2725 - learning_rate: 0.0049 - gradient_norm: 1.6312 - val_det_loss: 0.2576 - val_cls_loss: 0.1582 - val_box_loss: 0.0020 - val_reg_l2_loss: 0.1095 - val_loss: 0.3671\n",
            "Epoch 158/500\n",
            "18/18 [==============================] - 19s 1s/step - det_loss: 0.1738 - cls_loss: 0.1242 - box_loss: 9.9305e-04 - reg_l2_loss: 0.1095 - loss: 0.2833 - learning_rate: 0.0048 - gradient_norm: 1.6169 - val_det_loss: 0.2653 - val_cls_loss: 0.1613 - val_box_loss: 0.0021 - val_reg_l2_loss: 0.1095 - val_loss: 0.3748\n",
            "Epoch 159/500\n",
            "18/18 [==============================] - 17s 985ms/step - det_loss: 0.1745 - cls_loss: 0.1240 - box_loss: 0.0010 - reg_l2_loss: 0.1095 - loss: 0.2840 - learning_rate: 0.0048 - gradient_norm: 1.8090 - val_det_loss: 0.2649 - val_cls_loss: 0.1625 - val_box_loss: 0.0020 - val_reg_l2_loss: 0.1095 - val_loss: 0.3744\n",
            "Epoch 160/500\n",
            "18/18 [==============================] - 19s 1s/step - det_loss: 0.1959 - cls_loss: 0.1285 - box_loss: 0.0013 - reg_l2_loss: 0.1095 - loss: 0.3054 - learning_rate: 0.0048 - gradient_norm: 1.8581 - val_det_loss: 0.2700 - val_cls_loss: 0.1634 - val_box_loss: 0.0021 - val_reg_l2_loss: 0.1095 - val_loss: 0.3795\n",
            "Epoch 161/500\n",
            "18/18 [==============================] - 17s 967ms/step - det_loss: 0.1645 - cls_loss: 0.1160 - box_loss: 9.7007e-04 - reg_l2_loss: 0.1095 - loss: 0.2740 - learning_rate: 0.0048 - gradient_norm: 1.6157 - val_det_loss: 0.2600 - val_cls_loss: 0.1616 - val_box_loss: 0.0020 - val_reg_l2_loss: 0.1095 - val_loss: 0.3695\n",
            "Epoch 162/500\n",
            "18/18 [==============================] - 18s 994ms/step - det_loss: 0.1690 - cls_loss: 0.1226 - box_loss: 9.2754e-04 - reg_l2_loss: 0.1095 - loss: 0.2785 - learning_rate: 0.0048 - gradient_norm: 1.5290 - val_det_loss: 0.2511 - val_cls_loss: 0.1510 - val_box_loss: 0.0020 - val_reg_l2_loss: 0.1095 - val_loss: 0.3605\n",
            "Epoch 163/500\n",
            "18/18 [==============================] - 18s 989ms/step - det_loss: 0.1672 - cls_loss: 0.1169 - box_loss: 0.0010 - reg_l2_loss: 0.1095 - loss: 0.2767 - learning_rate: 0.0048 - gradient_norm: 1.6649 - val_det_loss: 0.2426 - val_cls_loss: 0.1483 - val_box_loss: 0.0019 - val_reg_l2_loss: 0.1095 - val_loss: 0.3520\n",
            "Epoch 164/500\n",
            "18/18 [==============================] - 19s 1s/step - det_loss: 0.1694 - cls_loss: 0.1204 - box_loss: 9.7953e-04 - reg_l2_loss: 0.1095 - loss: 0.2788 - learning_rate: 0.0047 - gradient_norm: 1.6224 - val_det_loss: 0.2498 - val_cls_loss: 0.1547 - val_box_loss: 0.0019 - val_reg_l2_loss: 0.1095 - val_loss: 0.3593\n",
            "Epoch 165/500\n",
            "18/18 [==============================] - 19s 1s/step - det_loss: 0.1669 - cls_loss: 0.1191 - box_loss: 9.5719e-04 - reg_l2_loss: 0.1095 - loss: 0.2764 - learning_rate: 0.0047 - gradient_norm: 1.5586 - val_det_loss: 0.2528 - val_cls_loss: 0.1585 - val_box_loss: 0.0019 - val_reg_l2_loss: 0.1095 - val_loss: 0.3622\n",
            "Epoch 166/500\n",
            "18/18 [==============================] - 18s 991ms/step - det_loss: 0.1680 - cls_loss: 0.1163 - box_loss: 0.0010 - reg_l2_loss: 0.1095 - loss: 0.2775 - learning_rate: 0.0047 - gradient_norm: 1.7665 - val_det_loss: 0.2573 - val_cls_loss: 0.1583 - val_box_loss: 0.0020 - val_reg_l2_loss: 0.1095 - val_loss: 0.3667\n",
            "Epoch 167/500\n",
            "18/18 [==============================] - 18s 984ms/step - det_loss: 0.1687 - cls_loss: 0.1199 - box_loss: 9.7795e-04 - reg_l2_loss: 0.1095 - loss: 0.2782 - learning_rate: 0.0047 - gradient_norm: 1.6569 - val_det_loss: 0.2685 - val_cls_loss: 0.1639 - val_box_loss: 0.0021 - val_reg_l2_loss: 0.1095 - val_loss: 0.3780\n",
            "Epoch 168/500\n",
            "18/18 [==============================] - 18s 989ms/step - det_loss: 0.1733 - cls_loss: 0.1210 - box_loss: 0.0010 - reg_l2_loss: 0.1095 - loss: 0.2828 - learning_rate: 0.0047 - gradient_norm: 1.7002 - val_det_loss: 0.2619 - val_cls_loss: 0.1593 - val_box_loss: 0.0021 - val_reg_l2_loss: 0.1094 - val_loss: 0.3713\n",
            "Epoch 169/500\n",
            "18/18 [==============================] - 19s 1s/step - det_loss: 0.1644 - cls_loss: 0.1160 - box_loss: 9.6839e-04 - reg_l2_loss: 0.1094 - loss: 0.2739 - learning_rate: 0.0047 - gradient_norm: 1.6749 - val_det_loss: 0.2684 - val_cls_loss: 0.1674 - val_box_loss: 0.0020 - val_reg_l2_loss: 0.1094 - val_loss: 0.3778\n",
            "Epoch 170/500\n",
            "18/18 [==============================] - 19s 1s/step - det_loss: 0.1695 - cls_loss: 0.1209 - box_loss: 9.7177e-04 - reg_l2_loss: 0.1094 - loss: 0.2790 - learning_rate: 0.0046 - gradient_norm: 1.6441 - val_det_loss: 0.2460 - val_cls_loss: 0.1525 - val_box_loss: 0.0019 - val_reg_l2_loss: 0.1094 - val_loss: 0.3555\n",
            "Epoch 171/500\n",
            "18/18 [==============================] - 17s 980ms/step - det_loss: 0.1703 - cls_loss: 0.1160 - box_loss: 0.0011 - reg_l2_loss: 0.1094 - loss: 0.2797 - learning_rate: 0.0046 - gradient_norm: 1.7541 - val_det_loss: 0.2745 - val_cls_loss: 0.1635 - val_box_loss: 0.0022 - val_reg_l2_loss: 0.1094 - val_loss: 0.3839\n",
            "Epoch 172/500\n",
            "18/18 [==============================] - 18s 1s/step - det_loss: 0.1645 - cls_loss: 0.1124 - box_loss: 0.0010 - reg_l2_loss: 0.1094 - loss: 0.2740 - learning_rate: 0.0046 - gradient_norm: 1.7102 - val_det_loss: 0.2844 - val_cls_loss: 0.1646 - val_box_loss: 0.0024 - val_reg_l2_loss: 0.1094 - val_loss: 0.3938\n",
            "Epoch 173/500\n",
            "18/18 [==============================] - 17s 974ms/step - det_loss: 0.1618 - cls_loss: 0.1137 - box_loss: 9.6074e-04 - reg_l2_loss: 0.1094 - loss: 0.2712 - learning_rate: 0.0046 - gradient_norm: 1.6498 - val_det_loss: 0.2563 - val_cls_loss: 0.1538 - val_box_loss: 0.0021 - val_reg_l2_loss: 0.1094 - val_loss: 0.3658\n",
            "Epoch 174/500\n",
            "18/18 [==============================] - 19s 1s/step - det_loss: 0.1552 - cls_loss: 0.1125 - box_loss: 8.5338e-04 - reg_l2_loss: 0.1094 - loss: 0.2646 - learning_rate: 0.0046 - gradient_norm: 1.6477 - val_det_loss: 0.2649 - val_cls_loss: 0.1605 - val_box_loss: 0.0021 - val_reg_l2_loss: 0.1094 - val_loss: 0.3744\n",
            "Epoch 175/500\n",
            "18/18 [==============================] - 19s 1s/step - det_loss: 0.1586 - cls_loss: 0.1133 - box_loss: 9.0534e-04 - reg_l2_loss: 0.1094 - loss: 0.2680 - learning_rate: 0.0045 - gradient_norm: 1.5428 - val_det_loss: 0.2550 - val_cls_loss: 0.1549 - val_box_loss: 0.0020 - val_reg_l2_loss: 0.1094 - val_loss: 0.3644\n",
            "Epoch 176/500\n",
            "18/18 [==============================] - 17s 969ms/step - det_loss: 0.1729 - cls_loss: 0.1268 - box_loss: 9.2146e-04 - reg_l2_loss: 0.1094 - loss: 0.2823 - learning_rate: 0.0045 - gradient_norm: 1.8444 - val_det_loss: 0.2457 - val_cls_loss: 0.1471 - val_box_loss: 0.0020 - val_reg_l2_loss: 0.1094 - val_loss: 0.3551\n",
            "Epoch 177/500\n",
            "18/18 [==============================] - 18s 992ms/step - det_loss: 0.1718 - cls_loss: 0.1227 - box_loss: 9.8178e-04 - reg_l2_loss: 0.1094 - loss: 0.2812 - learning_rate: 0.0045 - gradient_norm: 1.8289 - val_det_loss: 0.2424 - val_cls_loss: 0.1449 - val_box_loss: 0.0019 - val_reg_l2_loss: 0.1094 - val_loss: 0.3518\n",
            "Epoch 178/500\n",
            "18/18 [==============================] - 18s 1s/step - det_loss: 0.1625 - cls_loss: 0.1173 - box_loss: 9.0302e-04 - reg_l2_loss: 0.1094 - loss: 0.2719 - learning_rate: 0.0045 - gradient_norm: 1.6776 - val_det_loss: 0.2537 - val_cls_loss: 0.1520 - val_box_loss: 0.0020 - val_reg_l2_loss: 0.1094 - val_loss: 0.3631\n",
            "Epoch 179/500\n",
            "18/18 [==============================] - 18s 992ms/step - det_loss: 0.1703 - cls_loss: 0.1229 - box_loss: 9.4815e-04 - reg_l2_loss: 0.1094 - loss: 0.2798 - learning_rate: 0.0045 - gradient_norm: 1.8216 - val_det_loss: 0.2461 - val_cls_loss: 0.1472 - val_box_loss: 0.0020 - val_reg_l2_loss: 0.1094 - val_loss: 0.3555\n",
            "Epoch 180/500\n",
            "18/18 [==============================] - 21s 1s/step - det_loss: 0.1765 - cls_loss: 0.1224 - box_loss: 0.0011 - reg_l2_loss: 0.1094 - loss: 0.2859 - learning_rate: 0.0045 - gradient_norm: 1.9094 - val_det_loss: 0.2616 - val_cls_loss: 0.1623 - val_box_loss: 0.0020 - val_reg_l2_loss: 0.1094 - val_loss: 0.3710\n",
            "Epoch 181/500\n",
            "18/18 [==============================] - 17s 961ms/step - det_loss: 0.1571 - cls_loss: 0.1103 - box_loss: 9.3559e-04 - reg_l2_loss: 0.1094 - loss: 0.2665 - learning_rate: 0.0044 - gradient_norm: 1.7319 - val_det_loss: 0.2632 - val_cls_loss: 0.1623 - val_box_loss: 0.0020 - val_reg_l2_loss: 0.1094 - val_loss: 0.3725\n",
            "Epoch 182/500\n",
            "18/18 [==============================] - 17s 972ms/step - det_loss: 0.1711 - cls_loss: 0.1196 - box_loss: 0.0010 - reg_l2_loss: 0.1094 - loss: 0.2805 - learning_rate: 0.0044 - gradient_norm: 1.8776 - val_det_loss: 0.2681 - val_cls_loss: 0.1633 - val_box_loss: 0.0021 - val_reg_l2_loss: 0.1094 - val_loss: 0.3775\n",
            "Epoch 183/500\n",
            "18/18 [==============================] - 17s 966ms/step - det_loss: 0.1700 - cls_loss: 0.1200 - box_loss: 9.9999e-04 - reg_l2_loss: 0.1094 - loss: 0.2794 - learning_rate: 0.0044 - gradient_norm: 1.7775 - val_det_loss: 0.2693 - val_cls_loss: 0.1626 - val_box_loss: 0.0021 - val_reg_l2_loss: 0.1094 - val_loss: 0.3787\n",
            "Epoch 184/500\n",
            "18/18 [==============================] - 17s 972ms/step - det_loss: 0.1580 - cls_loss: 0.1112 - box_loss: 9.3500e-04 - reg_l2_loss: 0.1094 - loss: 0.2674 - learning_rate: 0.0044 - gradient_norm: 1.4637 - val_det_loss: 0.2704 - val_cls_loss: 0.1607 - val_box_loss: 0.0022 - val_reg_l2_loss: 0.1094 - val_loss: 0.3798\n",
            "Epoch 185/500\n",
            "18/18 [==============================] - 20s 1s/step - det_loss: 0.1656 - cls_loss: 0.1201 - box_loss: 9.1054e-04 - reg_l2_loss: 0.1094 - loss: 0.2750 - learning_rate: 0.0044 - gradient_norm: 1.6608 - val_det_loss: 0.2582 - val_cls_loss: 0.1570 - val_box_loss: 0.0020 - val_reg_l2_loss: 0.1094 - val_loss: 0.3675\n",
            "Epoch 186/500\n",
            "18/18 [==============================] - 18s 992ms/step - det_loss: 0.1552 - cls_loss: 0.1098 - box_loss: 9.0856e-04 - reg_l2_loss: 0.1094 - loss: 0.2646 - learning_rate: 0.0044 - gradient_norm: 1.4687 - val_det_loss: 0.2350 - val_cls_loss: 0.1423 - val_box_loss: 0.0019 - val_reg_l2_loss: 0.1094 - val_loss: 0.3443\n",
            "Epoch 187/500\n",
            "18/18 [==============================] - 18s 1s/step - det_loss: 0.1840 - cls_loss: 0.1385 - box_loss: 9.1007e-04 - reg_l2_loss: 0.1094 - loss: 0.2934 - learning_rate: 0.0043 - gradient_norm: 2.2015 - val_det_loss: 0.2602 - val_cls_loss: 0.1614 - val_box_loss: 0.0020 - val_reg_l2_loss: 0.1094 - val_loss: 0.3696\n",
            "Epoch 188/500\n",
            "18/18 [==============================] - 18s 996ms/step - det_loss: 0.1759 - cls_loss: 0.1286 - box_loss: 9.4555e-04 - reg_l2_loss: 0.1094 - loss: 0.2853 - learning_rate: 0.0043 - gradient_norm: 1.7489 - val_det_loss: 0.2538 - val_cls_loss: 0.1579 - val_box_loss: 0.0019 - val_reg_l2_loss: 0.1094 - val_loss: 0.3632\n",
            "Epoch 189/500\n",
            "18/18 [==============================] - 18s 983ms/step - det_loss: 0.1663 - cls_loss: 0.1215 - box_loss: 8.9638e-04 - reg_l2_loss: 0.1094 - loss: 0.2757 - learning_rate: 0.0043 - gradient_norm: 1.7708 - val_det_loss: 0.2484 - val_cls_loss: 0.1513 - val_box_loss: 0.0019 - val_reg_l2_loss: 0.1094 - val_loss: 0.3578\n",
            "Epoch 190/500\n",
            "18/18 [==============================] - 19s 1s/step - det_loss: 0.1586 - cls_loss: 0.1168 - box_loss: 8.3525e-04 - reg_l2_loss: 0.1094 - loss: 0.2679 - learning_rate: 0.0043 - gradient_norm: 1.5231 - val_det_loss: 0.2525 - val_cls_loss: 0.1540 - val_box_loss: 0.0020 - val_reg_l2_loss: 0.1094 - val_loss: 0.3618\n",
            "Epoch 191/500\n",
            "18/18 [==============================] - 19s 1s/step - det_loss: 0.1597 - cls_loss: 0.1149 - box_loss: 8.9442e-04 - reg_l2_loss: 0.1094 - loss: 0.2690 - learning_rate: 0.0043 - gradient_norm: 1.7376 - val_det_loss: 0.2502 - val_cls_loss: 0.1576 - val_box_loss: 0.0019 - val_reg_l2_loss: 0.1094 - val_loss: 0.3595\n",
            "Epoch 192/500\n",
            "18/18 [==============================] - 18s 988ms/step - det_loss: 0.1529 - cls_loss: 0.1091 - box_loss: 8.7676e-04 - reg_l2_loss: 0.1094 - loss: 0.2623 - learning_rate: 0.0042 - gradient_norm: 1.5678 - val_det_loss: 0.2467 - val_cls_loss: 0.1551 - val_box_loss: 0.0018 - val_reg_l2_loss: 0.1094 - val_loss: 0.3561\n",
            "Epoch 193/500\n",
            "18/18 [==============================] - 18s 999ms/step - det_loss: 0.1786 - cls_loss: 0.1319 - box_loss: 9.3404e-04 - reg_l2_loss: 0.1094 - loss: 0.2879 - learning_rate: 0.0042 - gradient_norm: 2.0737 - val_det_loss: 0.2488 - val_cls_loss: 0.1557 - val_box_loss: 0.0019 - val_reg_l2_loss: 0.1093 - val_loss: 0.3581\n",
            "Epoch 194/500\n",
            "18/18 [==============================] - 18s 1s/step - det_loss: 0.1527 - cls_loss: 0.1108 - box_loss: 8.3768e-04 - reg_l2_loss: 0.1093 - loss: 0.2620 - learning_rate: 0.0042 - gradient_norm: 1.4946 - val_det_loss: 0.2396 - val_cls_loss: 0.1480 - val_box_loss: 0.0018 - val_reg_l2_loss: 0.1093 - val_loss: 0.3489\n",
            "Epoch 195/500\n",
            "18/18 [==============================] - 19s 1s/step - det_loss: 0.1570 - cls_loss: 0.1118 - box_loss: 9.0391e-04 - reg_l2_loss: 0.1093 - loss: 0.2664 - learning_rate: 0.0042 - gradient_norm: 1.5795 - val_det_loss: 0.2417 - val_cls_loss: 0.1466 - val_box_loss: 0.0019 - val_reg_l2_loss: 0.1093 - val_loss: 0.3511\n",
            "Epoch 196/500\n",
            "18/18 [==============================] - 19s 1s/step - det_loss: 0.1513 - cls_loss: 0.1112 - box_loss: 8.0178e-04 - reg_l2_loss: 0.1093 - loss: 0.2607 - learning_rate: 0.0042 - gradient_norm: 1.5999 - val_det_loss: 0.2450 - val_cls_loss: 0.1493 - val_box_loss: 0.0019 - val_reg_l2_loss: 0.1093 - val_loss: 0.3543\n",
            "Epoch 197/500\n",
            "18/18 [==============================] - 17s 980ms/step - det_loss: 0.1587 - cls_loss: 0.1141 - box_loss: 8.9132e-04 - reg_l2_loss: 0.1093 - loss: 0.2680 - learning_rate: 0.0041 - gradient_norm: 1.6745 - val_det_loss: 0.2680 - val_cls_loss: 0.1663 - val_box_loss: 0.0020 - val_reg_l2_loss: 0.1093 - val_loss: 0.3774\n",
            "Epoch 198/500\n",
            "18/18 [==============================] - 17s 982ms/step - det_loss: 0.1550 - cls_loss: 0.1101 - box_loss: 8.9929e-04 - reg_l2_loss: 0.1093 - loss: 0.2644 - learning_rate: 0.0041 - gradient_norm: 1.5768 - val_det_loss: 0.2580 - val_cls_loss: 0.1610 - val_box_loss: 0.0019 - val_reg_l2_loss: 0.1093 - val_loss: 0.3674\n",
            "Epoch 199/500\n",
            "18/18 [==============================] - 17s 979ms/step - det_loss: 0.1475 - cls_loss: 0.1020 - box_loss: 9.1076e-04 - reg_l2_loss: 0.1093 - loss: 0.2568 - learning_rate: 0.0041 - gradient_norm: 1.6427 - val_det_loss: 0.2604 - val_cls_loss: 0.1607 - val_box_loss: 0.0020 - val_reg_l2_loss: 0.1093 - val_loss: 0.3697\n",
            "Epoch 200/500\n",
            "18/18 [==============================] - 19s 1s/step - det_loss: 0.1517 - cls_loss: 0.1064 - box_loss: 9.0619e-04 - reg_l2_loss: 0.1093 - loss: 0.2611 - learning_rate: 0.0041 - gradient_norm: 1.5471 - val_det_loss: 0.2550 - val_cls_loss: 0.1559 - val_box_loss: 0.0020 - val_reg_l2_loss: 0.1093 - val_loss: 0.3644\n",
            "Epoch 201/500\n",
            "18/18 [==============================] - 18s 1s/step - det_loss: 0.1534 - cls_loss: 0.1103 - box_loss: 8.6159e-04 - reg_l2_loss: 0.1093 - loss: 0.2627 - learning_rate: 0.0041 - gradient_norm: 1.5811 - val_det_loss: 0.2481 - val_cls_loss: 0.1542 - val_box_loss: 0.0019 - val_reg_l2_loss: 0.1093 - val_loss: 0.3574\n",
            "Epoch 202/500\n",
            "18/18 [==============================] - 19s 1s/step - det_loss: 0.1541 - cls_loss: 0.1067 - box_loss: 9.4838e-04 - reg_l2_loss: 0.1093 - loss: 0.2634 - learning_rate: 0.0041 - gradient_norm: 1.5833 - val_det_loss: 0.2626 - val_cls_loss: 0.1623 - val_box_loss: 0.0020 - val_reg_l2_loss: 0.1093 - val_loss: 0.3719\n",
            "Epoch 203/500\n",
            "18/18 [==============================] - 18s 992ms/step - det_loss: 0.1615 - cls_loss: 0.1117 - box_loss: 9.9652e-04 - reg_l2_loss: 0.1093 - loss: 0.2708 - learning_rate: 0.0040 - gradient_norm: 1.8694 - val_det_loss: 0.2706 - val_cls_loss: 0.1686 - val_box_loss: 0.0020 - val_reg_l2_loss: 0.1093 - val_loss: 0.3799\n",
            "Epoch 204/500\n",
            "18/18 [==============================] - 18s 987ms/step - det_loss: 0.1607 - cls_loss: 0.1148 - box_loss: 9.1830e-04 - reg_l2_loss: 0.1093 - loss: 0.2700 - learning_rate: 0.0040 - gradient_norm: 1.7942 - val_det_loss: 0.2669 - val_cls_loss: 0.1691 - val_box_loss: 0.0020 - val_reg_l2_loss: 0.1093 - val_loss: 0.3763\n",
            "Epoch 205/500\n",
            "18/18 [==============================] - 19s 1s/step - det_loss: 0.1515 - cls_loss: 0.1087 - box_loss: 8.5627e-04 - reg_l2_loss: 0.1093 - loss: 0.2608 - learning_rate: 0.0040 - gradient_norm: 1.5910 - val_det_loss: 0.2744 - val_cls_loss: 0.1699 - val_box_loss: 0.0021 - val_reg_l2_loss: 0.1093 - val_loss: 0.3837\n",
            "Epoch 206/500\n",
            "18/18 [==============================] - 17s 983ms/step - det_loss: 0.1542 - cls_loss: 0.1110 - box_loss: 8.6319e-04 - reg_l2_loss: 0.1093 - loss: 0.2635 - learning_rate: 0.0040 - gradient_norm: 1.6898 - val_det_loss: 0.2578 - val_cls_loss: 0.1605 - val_box_loss: 0.0019 - val_reg_l2_loss: 0.1093 - val_loss: 0.3671\n",
            "Epoch 207/500\n",
            "18/18 [==============================] - 19s 1s/step - det_loss: 0.1544 - cls_loss: 0.1115 - box_loss: 8.5820e-04 - reg_l2_loss: 0.1093 - loss: 0.2637 - learning_rate: 0.0040 - gradient_norm: 1.5649 - val_det_loss: 0.2750 - val_cls_loss: 0.1737 - val_box_loss: 0.0020 - val_reg_l2_loss: 0.1093 - val_loss: 0.3843\n",
            "Epoch 208/500\n",
            "18/18 [==============================] - 18s 998ms/step - det_loss: 0.1468 - cls_loss: 0.1058 - box_loss: 8.1922e-04 - reg_l2_loss: 0.1093 - loss: 0.2561 - learning_rate: 0.0039 - gradient_norm: 1.5248 - val_det_loss: 0.2869 - val_cls_loss: 0.1786 - val_box_loss: 0.0022 - val_reg_l2_loss: 0.1093 - val_loss: 0.3962\n",
            "Epoch 209/500\n",
            "18/18 [==============================] - 18s 1s/step - det_loss: 0.1464 - cls_loss: 0.1059 - box_loss: 8.0952e-04 - reg_l2_loss: 0.1093 - loss: 0.2557 - learning_rate: 0.0039 - gradient_norm: 1.5946 - val_det_loss: 0.2830 - val_cls_loss: 0.1736 - val_box_loss: 0.0022 - val_reg_l2_loss: 0.1093 - val_loss: 0.3923\n",
            "Epoch 210/500\n",
            "18/18 [==============================] - 20s 1s/step - det_loss: 0.1588 - cls_loss: 0.1151 - box_loss: 8.7446e-04 - reg_l2_loss: 0.1093 - loss: 0.2681 - learning_rate: 0.0039 - gradient_norm: 1.6986 - val_det_loss: 0.2820 - val_cls_loss: 0.1665 - val_box_loss: 0.0023 - val_reg_l2_loss: 0.1093 - val_loss: 0.3913\n",
            "Epoch 211/500\n",
            "18/18 [==============================] - 18s 1s/step - det_loss: 0.1554 - cls_loss: 0.1104 - box_loss: 8.9931e-04 - reg_l2_loss: 0.1093 - loss: 0.2647 - learning_rate: 0.0039 - gradient_norm: 1.6083 - val_det_loss: 0.2765 - val_cls_loss: 0.1683 - val_box_loss: 0.0022 - val_reg_l2_loss: 0.1093 - val_loss: 0.3858\n",
            "Epoch 212/500\n",
            "18/18 [==============================] - 19s 1s/step - det_loss: 0.1403 - cls_loss: 0.1025 - box_loss: 7.5422e-04 - reg_l2_loss: 0.1093 - loss: 0.2495 - learning_rate: 0.0039 - gradient_norm: 1.6265 - val_det_loss: 0.2827 - val_cls_loss: 0.1724 - val_box_loss: 0.0022 - val_reg_l2_loss: 0.1093 - val_loss: 0.3920\n",
            "Epoch 213/500\n",
            "18/18 [==============================] - 18s 1s/step - det_loss: 0.1516 - cls_loss: 0.1116 - box_loss: 8.0134e-04 - reg_l2_loss: 0.1093 - loss: 0.2609 - learning_rate: 0.0038 - gradient_norm: 1.6357 - val_det_loss: 0.2766 - val_cls_loss: 0.1684 - val_box_loss: 0.0022 - val_reg_l2_loss: 0.1093 - val_loss: 0.3859\n",
            "Epoch 214/500\n",
            "18/18 [==============================] - 18s 1s/step - det_loss: 0.1546 - cls_loss: 0.1106 - box_loss: 8.7942e-04 - reg_l2_loss: 0.1093 - loss: 0.2639 - learning_rate: 0.0038 - gradient_norm: 1.6653 - val_det_loss: 0.2702 - val_cls_loss: 0.1695 - val_box_loss: 0.0020 - val_reg_l2_loss: 0.1093 - val_loss: 0.3795\n",
            "Epoch 215/500\n",
            "18/18 [==============================] - 19s 1s/step - det_loss: 0.1445 - cls_loss: 0.1026 - box_loss: 8.3854e-04 - reg_l2_loss: 0.1093 - loss: 0.2538 - learning_rate: 0.0038 - gradient_norm: 1.5652 - val_det_loss: 0.2718 - val_cls_loss: 0.1670 - val_box_loss: 0.0021 - val_reg_l2_loss: 0.1093 - val_loss: 0.3811\n",
            "Epoch 216/500\n",
            "18/18 [==============================] - 18s 991ms/step - det_loss: 0.1445 - cls_loss: 0.1045 - box_loss: 7.9994e-04 - reg_l2_loss: 0.1093 - loss: 0.2537 - learning_rate: 0.0038 - gradient_norm: 1.5584 - val_det_loss: 0.2868 - val_cls_loss: 0.1745 - val_box_loss: 0.0022 - val_reg_l2_loss: 0.1093 - val_loss: 0.3961\n",
            "Epoch 217/500\n",
            "18/18 [==============================] - 18s 993ms/step - det_loss: 0.1501 - cls_loss: 0.1046 - box_loss: 9.0906e-04 - reg_l2_loss: 0.1093 - loss: 0.2594 - learning_rate: 0.0038 - gradient_norm: 1.6770 - val_det_loss: 0.2687 - val_cls_loss: 0.1655 - val_box_loss: 0.0021 - val_reg_l2_loss: 0.1093 - val_loss: 0.3780\n",
            "Epoch 218/500\n",
            "18/18 [==============================] - 19s 1s/step - det_loss: 0.1586 - cls_loss: 0.1197 - box_loss: 7.7694e-04 - reg_l2_loss: 0.1093 - loss: 0.2678 - learning_rate: 0.0038 - gradient_norm: 1.8559 - val_det_loss: 0.2687 - val_cls_loss: 0.1643 - val_box_loss: 0.0021 - val_reg_l2_loss: 0.1093 - val_loss: 0.3779\n",
            "Epoch 219/500\n",
            "18/18 [==============================] - 18s 984ms/step - det_loss: 0.1685 - cls_loss: 0.1179 - box_loss: 0.0010 - reg_l2_loss: 0.1093 - loss: 0.2777 - learning_rate: 0.0037 - gradient_norm: 1.6953 - val_det_loss: 0.2695 - val_cls_loss: 0.1618 - val_box_loss: 0.0022 - val_reg_l2_loss: 0.1093 - val_loss: 0.3788\n",
            "Epoch 220/500\n",
            "18/18 [==============================] - 19s 1s/step - det_loss: 0.1482 - cls_loss: 0.1097 - box_loss: 7.6982e-04 - reg_l2_loss: 0.1093 - loss: 0.2574 - learning_rate: 0.0037 - gradient_norm: 1.5879 - val_det_loss: 0.2676 - val_cls_loss: 0.1623 - val_box_loss: 0.0021 - val_reg_l2_loss: 0.1092 - val_loss: 0.3768\n",
            "Epoch 221/500\n",
            "18/18 [==============================] - 17s 980ms/step - det_loss: 0.1507 - cls_loss: 0.1076 - box_loss: 8.6187e-04 - reg_l2_loss: 0.1092 - loss: 0.2600 - learning_rate: 0.0037 - gradient_norm: 1.5279 - val_det_loss: 0.2603 - val_cls_loss: 0.1574 - val_box_loss: 0.0021 - val_reg_l2_loss: 0.1092 - val_loss: 0.3696\n",
            "Epoch 222/500\n",
            "18/18 [==============================] - 18s 1s/step - det_loss: 0.1492 - cls_loss: 0.1085 - box_loss: 8.1290e-04 - reg_l2_loss: 0.1092 - loss: 0.2584 - learning_rate: 0.0037 - gradient_norm: 1.5310 - val_det_loss: 0.2700 - val_cls_loss: 0.1637 - val_box_loss: 0.0021 - val_reg_l2_loss: 0.1092 - val_loss: 0.3792\n",
            "Epoch 223/500\n",
            "18/18 [==============================] - 19s 1s/step - det_loss: 0.1486 - cls_loss: 0.1094 - box_loss: 7.8406e-04 - reg_l2_loss: 0.1092 - loss: 0.2578 - learning_rate: 0.0037 - gradient_norm: 1.6639 - val_det_loss: 0.2755 - val_cls_loss: 0.1690 - val_box_loss: 0.0021 - val_reg_l2_loss: 0.1092 - val_loss: 0.3848\n",
            "Epoch 224/500\n",
            "18/18 [==============================] - 18s 994ms/step - det_loss: 0.1630 - cls_loss: 0.1180 - box_loss: 9.0079e-04 - reg_l2_loss: 0.1092 - loss: 0.2723 - learning_rate: 0.0036 - gradient_norm: 1.7409 - val_det_loss: 0.2773 - val_cls_loss: 0.1728 - val_box_loss: 0.0021 - val_reg_l2_loss: 0.1092 - val_loss: 0.3865\n",
            "Epoch 225/500\n",
            "18/18 [==============================] - 19s 1s/step - det_loss: 0.1573 - cls_loss: 0.1171 - box_loss: 8.0486e-04 - reg_l2_loss: 0.1092 - loss: 0.2666 - learning_rate: 0.0036 - gradient_norm: 1.7576 - val_det_loss: 0.2550 - val_cls_loss: 0.1523 - val_box_loss: 0.0021 - val_reg_l2_loss: 0.1092 - val_loss: 0.3642\n",
            "Epoch 226/500\n",
            "18/18 [==============================] - 17s 982ms/step - det_loss: 0.1660 - cls_loss: 0.1198 - box_loss: 9.2489e-04 - reg_l2_loss: 0.1092 - loss: 0.2752 - learning_rate: 0.0036 - gradient_norm: 1.6564 - val_det_loss: 0.2616 - val_cls_loss: 0.1599 - val_box_loss: 0.0020 - val_reg_l2_loss: 0.1092 - val_loss: 0.3709\n",
            "Epoch 227/500\n",
            "18/18 [==============================] - 18s 989ms/step - det_loss: 0.1576 - cls_loss: 0.1138 - box_loss: 8.7547e-04 - reg_l2_loss: 0.1092 - loss: 0.2668 - learning_rate: 0.0036 - gradient_norm: 1.5737 - val_det_loss: 0.2645 - val_cls_loss: 0.1636 - val_box_loss: 0.0020 - val_reg_l2_loss: 0.1092 - val_loss: 0.3738\n",
            "Epoch 228/500\n",
            "18/18 [==============================] - 18s 988ms/step - det_loss: 0.1426 - cls_loss: 0.1069 - box_loss: 7.1306e-04 - reg_l2_loss: 0.1092 - loss: 0.2518 - learning_rate: 0.0036 - gradient_norm: 1.5079 - val_det_loss: 0.2564 - val_cls_loss: 0.1578 - val_box_loss: 0.0020 - val_reg_l2_loss: 0.1092 - val_loss: 0.3657\n",
            "Epoch 229/500\n",
            "18/18 [==============================] - 19s 1s/step - det_loss: 0.1417 - cls_loss: 0.1025 - box_loss: 7.8230e-04 - reg_l2_loss: 0.1092 - loss: 0.2509 - learning_rate: 0.0035 - gradient_norm: 1.5723 - val_det_loss: 0.2667 - val_cls_loss: 0.1648 - val_box_loss: 0.0020 - val_reg_l2_loss: 0.1092 - val_loss: 0.3759\n",
            "Epoch 230/500\n",
            "18/18 [==============================] - 19s 1s/step - det_loss: 0.1426 - cls_loss: 0.1044 - box_loss: 7.6375e-04 - reg_l2_loss: 0.1092 - loss: 0.2518 - learning_rate: 0.0035 - gradient_norm: 1.6043 - val_det_loss: 0.2746 - val_cls_loss: 0.1712 - val_box_loss: 0.0021 - val_reg_l2_loss: 0.1092 - val_loss: 0.3838\n",
            "Epoch 231/500\n",
            "18/18 [==============================] - 18s 985ms/step - det_loss: 0.1505 - cls_loss: 0.1131 - box_loss: 7.4833e-04 - reg_l2_loss: 0.1092 - loss: 0.2598 - learning_rate: 0.0035 - gradient_norm: 1.6929 - val_det_loss: 0.2751 - val_cls_loss: 0.1731 - val_box_loss: 0.0020 - val_reg_l2_loss: 0.1092 - val_loss: 0.3843\n",
            "Epoch 232/500\n",
            "18/18 [==============================] - 18s 986ms/step - det_loss: 0.1499 - cls_loss: 0.1095 - box_loss: 8.0721e-04 - reg_l2_loss: 0.1092 - loss: 0.2591 - learning_rate: 0.0035 - gradient_norm: 1.9426 - val_det_loss: 0.2625 - val_cls_loss: 0.1635 - val_box_loss: 0.0020 - val_reg_l2_loss: 0.1092 - val_loss: 0.3717\n",
            "Epoch 233/500\n",
            "18/18 [==============================] - 18s 994ms/step - det_loss: 0.1418 - cls_loss: 0.1034 - box_loss: 7.6798e-04 - reg_l2_loss: 0.1092 - loss: 0.2510 - learning_rate: 0.0035 - gradient_norm: 1.5208 - val_det_loss: 0.2759 - val_cls_loss: 0.1702 - val_box_loss: 0.0021 - val_reg_l2_loss: 0.1092 - val_loss: 0.3851\n",
            "Epoch 234/500\n",
            "18/18 [==============================] - 19s 1s/step - det_loss: 0.1528 - cls_loss: 0.1135 - box_loss: 7.8611e-04 - reg_l2_loss: 0.1092 - loss: 0.2621 - learning_rate: 0.0034 - gradient_norm: 1.6537 - val_det_loss: 0.2708 - val_cls_loss: 0.1642 - val_box_loss: 0.0021 - val_reg_l2_loss: 0.1092 - val_loss: 0.3800\n",
            "Epoch 235/500\n",
            "18/18 [==============================] - 20s 1s/step - det_loss: 0.1547 - cls_loss: 0.1142 - box_loss: 8.1022e-04 - reg_l2_loss: 0.1092 - loss: 0.2639 - learning_rate: 0.0034 - gradient_norm: 1.5798 - val_det_loss: 0.2640 - val_cls_loss: 0.1615 - val_box_loss: 0.0021 - val_reg_l2_loss: 0.1092 - val_loss: 0.3732\n",
            "Epoch 236/500\n",
            "18/18 [==============================] - 18s 991ms/step - det_loss: 0.1527 - cls_loss: 0.1119 - box_loss: 8.1490e-04 - reg_l2_loss: 0.1092 - loss: 0.2619 - learning_rate: 0.0034 - gradient_norm: 1.6376 - val_det_loss: 0.2629 - val_cls_loss: 0.1631 - val_box_loss: 0.0020 - val_reg_l2_loss: 0.1092 - val_loss: 0.3721\n",
            "Epoch 237/500\n",
            "18/18 [==============================] - 18s 1s/step - det_loss: 0.1483 - cls_loss: 0.1073 - box_loss: 8.2038e-04 - reg_l2_loss: 0.1092 - loss: 0.2575 - learning_rate: 0.0034 - gradient_norm: 1.7849 - val_det_loss: 0.2749 - val_cls_loss: 0.1730 - val_box_loss: 0.0020 - val_reg_l2_loss: 0.1092 - val_loss: 0.3841\n",
            "Epoch 238/500\n",
            "18/18 [==============================] - 17s 983ms/step - det_loss: 0.1480 - cls_loss: 0.1087 - box_loss: 7.8571e-04 - reg_l2_loss: 0.1092 - loss: 0.2572 - learning_rate: 0.0034 - gradient_norm: 1.7717 - val_det_loss: 0.2761 - val_cls_loss: 0.1714 - val_box_loss: 0.0021 - val_reg_l2_loss: 0.1092 - val_loss: 0.3853\n",
            "Epoch 239/500\n",
            "18/18 [==============================] - 18s 1s/step - det_loss: 0.1301 - cls_loss: 0.0962 - box_loss: 6.7814e-04 - reg_l2_loss: 0.1092 - loss: 0.2393 - learning_rate: 0.0033 - gradient_norm: 1.4150 - val_det_loss: 0.2761 - val_cls_loss: 0.1694 - val_box_loss: 0.0021 - val_reg_l2_loss: 0.1092 - val_loss: 0.3853\n",
            "Epoch 240/500\n",
            "18/18 [==============================] - 20s 1s/step - det_loss: 0.1361 - cls_loss: 0.1000 - box_loss: 7.2150e-04 - reg_l2_loss: 0.1092 - loss: 0.2452 - learning_rate: 0.0033 - gradient_norm: 1.4252 - val_det_loss: 0.2716 - val_cls_loss: 0.1682 - val_box_loss: 0.0021 - val_reg_l2_loss: 0.1092 - val_loss: 0.3807\n",
            "Epoch 241/500\n",
            "18/18 [==============================] - 17s 982ms/step - det_loss: 0.1400 - cls_loss: 0.1021 - box_loss: 7.5770e-04 - reg_l2_loss: 0.1092 - loss: 0.2491 - learning_rate: 0.0033 - gradient_norm: 1.4394 - val_det_loss: 0.2668 - val_cls_loss: 0.1656 - val_box_loss: 0.0020 - val_reg_l2_loss: 0.1092 - val_loss: 0.3760\n",
            "Epoch 242/500\n",
            "18/18 [==============================] - ETA: 0s - det_loss: 0.1425 - cls_loss: 0.1024 - box_loss: 8.0231e-04 - reg_l2_loss: 0.1092 - loss: 0.2517 - learning_rate: 0.0033 - gradient_norm: 1.6210"
          ]
        },
        {
          "output_type": "error",
          "ename": "ResourceExhaustedError",
          "evalue": "ignored",
          "traceback": [
            "\u001b[0;31m---------------------------------------------------------------------------\u001b[0m",
            "\u001b[0;31mResourceExhaustedError\u001b[0m                    Traceback (most recent call last)",
            "\u001b[0;32m<ipython-input-34-7ae149ece16b>\u001b[0m in \u001b[0;36m<cell line: 1>\u001b[0;34m()\u001b[0m\n\u001b[0;32m----> 1\u001b[0;31m \u001b[0mmodel\u001b[0m \u001b[0;34m=\u001b[0m \u001b[0mobject_detector\u001b[0m\u001b[0;34m.\u001b[0m\u001b[0mcreate\u001b[0m\u001b[0;34m(\u001b[0m\u001b[0mtrain_data\u001b[0m\u001b[0;34m,\u001b[0m \u001b[0mmodel_spec\u001b[0m\u001b[0;34m=\u001b[0m\u001b[0mspec\u001b[0m\u001b[0;34m,\u001b[0m \u001b[0mbatch_size\u001b[0m\u001b[0;34m=\u001b[0m\u001b[0;36m5\u001b[0m\u001b[0;34m,\u001b[0m \u001b[0mtrain_whole_model\u001b[0m\u001b[0;34m=\u001b[0m\u001b[0;32mTrue\u001b[0m\u001b[0;34m,\u001b[0m \u001b[0mepochs\u001b[0m\u001b[0;34m=\u001b[0m\u001b[0;36m500\u001b[0m\u001b[0;34m,\u001b[0m \u001b[0mvalidation_data\u001b[0m\u001b[0;34m=\u001b[0m\u001b[0mval_data\u001b[0m\u001b[0;34m)\u001b[0m\u001b[0;34m\u001b[0m\u001b[0;34m\u001b[0m\u001b[0m\n\u001b[0m",
            "\u001b[0;32m/usr/local/lib/python3.9/dist-packages/tensorflow_examples/lite/model_maker/core/task/object_detector.py\u001b[0m in \u001b[0;36mcreate\u001b[0;34m(cls, train_data, model_spec, validation_data, epochs, batch_size, train_whole_model, do_train)\u001b[0m\n\u001b[1;32m    258\u001b[0m     \u001b[0;32mif\u001b[0m \u001b[0mdo_train\u001b[0m\u001b[0;34m:\u001b[0m\u001b[0;34m\u001b[0m\u001b[0;34m\u001b[0m\u001b[0m\n\u001b[1;32m    259\u001b[0m       \u001b[0mtf\u001b[0m\u001b[0;34m.\u001b[0m\u001b[0mcompat\u001b[0m\u001b[0;34m.\u001b[0m\u001b[0mv1\u001b[0m\u001b[0;34m.\u001b[0m\u001b[0mlogging\u001b[0m\u001b[0;34m.\u001b[0m\u001b[0minfo\u001b[0m\u001b[0;34m(\u001b[0m\u001b[0;34m'Retraining the models...'\u001b[0m\u001b[0;34m)\u001b[0m\u001b[0;34m\u001b[0m\u001b[0;34m\u001b[0m\u001b[0m\n\u001b[0;32m--> 260\u001b[0;31m       \u001b[0mobject_detector\u001b[0m\u001b[0;34m.\u001b[0m\u001b[0mtrain\u001b[0m\u001b[0;34m(\u001b[0m\u001b[0mtrain_data\u001b[0m\u001b[0;34m,\u001b[0m \u001b[0mvalidation_data\u001b[0m\u001b[0;34m,\u001b[0m \u001b[0mepochs\u001b[0m\u001b[0;34m,\u001b[0m \u001b[0mbatch_size\u001b[0m\u001b[0;34m)\u001b[0m\u001b[0;34m\u001b[0m\u001b[0;34m\u001b[0m\u001b[0m\n\u001b[0m\u001b[1;32m    261\u001b[0m     \u001b[0;32melse\u001b[0m\u001b[0;34m:\u001b[0m\u001b[0;34m\u001b[0m\u001b[0;34m\u001b[0m\u001b[0m\n\u001b[1;32m    262\u001b[0m       \u001b[0mobject_detector\u001b[0m\u001b[0;34m.\u001b[0m\u001b[0mcreate_model\u001b[0m\u001b[0;34m(\u001b[0m\u001b[0;34m)\u001b[0m\u001b[0;34m\u001b[0m\u001b[0;34m\u001b[0m\u001b[0m\n",
            "\u001b[0;32m/usr/local/lib/python3.9/dist-packages/tensorflow_examples/lite/model_maker/core/task/object_detector.py\u001b[0m in \u001b[0;36mtrain\u001b[0;34m(self, train_data, validation_data, epochs, batch_size)\u001b[0m\n\u001b[1;32m    121\u001b[0m       validation_ds, validation_steps, val_json_file = self._get_dataset_and_steps(\n\u001b[1;32m    122\u001b[0m           validation_data, batch_size, is_training=False)\n\u001b[0;32m--> 123\u001b[0;31m       return self.model_spec.train(self.model, train_ds, steps_per_epoch,\n\u001b[0m\u001b[1;32m    124\u001b[0m                                    \u001b[0mvalidation_ds\u001b[0m\u001b[0;34m,\u001b[0m \u001b[0mvalidation_steps\u001b[0m\u001b[0;34m,\u001b[0m \u001b[0mepochs\u001b[0m\u001b[0;34m,\u001b[0m\u001b[0;34m\u001b[0m\u001b[0;34m\u001b[0m\u001b[0m\n\u001b[1;32m    125\u001b[0m                                    batch_size, val_json_file)\n",
            "\u001b[0;32m/usr/local/lib/python3.9/dist-packages/tensorflow_examples/lite/model_maker/core/task/model_spec/object_detector_spec.py\u001b[0m in \u001b[0;36mtrain\u001b[0;34m(self, model, train_dataset, steps_per_epoch, val_dataset, validation_steps, epochs, batch_size, val_json_file)\u001b[0m\n\u001b[1;32m    263\u001b[0m     \u001b[0mtrain\u001b[0m\u001b[0;34m.\u001b[0m\u001b[0msetup_model\u001b[0m\u001b[0;34m(\u001b[0m\u001b[0mmodel\u001b[0m\u001b[0;34m,\u001b[0m \u001b[0mconfig\u001b[0m\u001b[0;34m)\u001b[0m\u001b[0;34m\u001b[0m\u001b[0;34m\u001b[0m\u001b[0m\n\u001b[1;32m    264\u001b[0m     \u001b[0mtrain\u001b[0m\u001b[0;34m.\u001b[0m\u001b[0minit_experimental\u001b[0m\u001b[0;34m(\u001b[0m\u001b[0mconfig\u001b[0m\u001b[0;34m)\u001b[0m\u001b[0;34m\u001b[0m\u001b[0;34m\u001b[0m\u001b[0m\n\u001b[0;32m--> 265\u001b[0;31m     model.fit(\n\u001b[0m\u001b[1;32m    266\u001b[0m         \u001b[0mtrain_dataset\u001b[0m\u001b[0;34m,\u001b[0m\u001b[0;34m\u001b[0m\u001b[0;34m\u001b[0m\u001b[0m\n\u001b[1;32m    267\u001b[0m         \u001b[0mepochs\u001b[0m\u001b[0;34m=\u001b[0m\u001b[0mepochs\u001b[0m\u001b[0;34m,\u001b[0m\u001b[0;34m\u001b[0m\u001b[0;34m\u001b[0m\u001b[0m\n",
            "\u001b[0;32m/usr/local/lib/python3.9/dist-packages/keras/utils/traceback_utils.py\u001b[0m in \u001b[0;36merror_handler\u001b[0;34m(*args, **kwargs)\u001b[0m\n\u001b[1;32m     65\u001b[0m     \u001b[0;32mexcept\u001b[0m \u001b[0mException\u001b[0m \u001b[0;32mas\u001b[0m \u001b[0me\u001b[0m\u001b[0;34m:\u001b[0m  \u001b[0;31m# pylint: disable=broad-except\u001b[0m\u001b[0;34m\u001b[0m\u001b[0;34m\u001b[0m\u001b[0m\n\u001b[1;32m     66\u001b[0m       \u001b[0mfiltered_tb\u001b[0m \u001b[0;34m=\u001b[0m \u001b[0m_process_traceback_frames\u001b[0m\u001b[0;34m(\u001b[0m\u001b[0me\u001b[0m\u001b[0;34m.\u001b[0m\u001b[0m__traceback__\u001b[0m\u001b[0;34m)\u001b[0m\u001b[0;34m\u001b[0m\u001b[0;34m\u001b[0m\u001b[0m\n\u001b[0;32m---> 67\u001b[0;31m       \u001b[0;32mraise\u001b[0m \u001b[0me\u001b[0m\u001b[0;34m.\u001b[0m\u001b[0mwith_traceback\u001b[0m\u001b[0;34m(\u001b[0m\u001b[0mfiltered_tb\u001b[0m\u001b[0;34m)\u001b[0m \u001b[0;32mfrom\u001b[0m \u001b[0;32mNone\u001b[0m\u001b[0;34m\u001b[0m\u001b[0;34m\u001b[0m\u001b[0m\n\u001b[0m\u001b[1;32m     68\u001b[0m     \u001b[0;32mfinally\u001b[0m\u001b[0;34m:\u001b[0m\u001b[0;34m\u001b[0m\u001b[0;34m\u001b[0m\u001b[0m\n\u001b[1;32m     69\u001b[0m       \u001b[0;32mdel\u001b[0m \u001b[0mfiltered_tb\u001b[0m\u001b[0;34m\u001b[0m\u001b[0;34m\u001b[0m\u001b[0m\n",
            "\u001b[0;32m/usr/local/lib/python3.9/dist-packages/tensorflow/python/eager/execute.py\u001b[0m in \u001b[0;36mquick_execute\u001b[0;34m(op_name, num_outputs, inputs, attrs, ctx, name)\u001b[0m\n\u001b[1;32m     52\u001b[0m   \u001b[0;32mtry\u001b[0m\u001b[0;34m:\u001b[0m\u001b[0;34m\u001b[0m\u001b[0;34m\u001b[0m\u001b[0m\n\u001b[1;32m     53\u001b[0m     \u001b[0mctx\u001b[0m\u001b[0;34m.\u001b[0m\u001b[0mensure_initialized\u001b[0m\u001b[0;34m(\u001b[0m\u001b[0;34m)\u001b[0m\u001b[0;34m\u001b[0m\u001b[0;34m\u001b[0m\u001b[0m\n\u001b[0;32m---> 54\u001b[0;31m     tensors = pywrap_tfe.TFE_Py_Execute(ctx._handle, device_name, op_name,\n\u001b[0m\u001b[1;32m     55\u001b[0m                                         inputs, attrs, num_outputs)\n\u001b[1;32m     56\u001b[0m   \u001b[0;32mexcept\u001b[0m \u001b[0mcore\u001b[0m\u001b[0;34m.\u001b[0m\u001b[0m_NotOkStatusException\u001b[0m \u001b[0;32mas\u001b[0m \u001b[0me\u001b[0m\u001b[0;34m:\u001b[0m\u001b[0;34m\u001b[0m\u001b[0;34m\u001b[0m\u001b[0m\n",
            "\u001b[0;31mResourceExhaustedError\u001b[0m: /tmp/tmp9yat6pkq/ckpt-242_temp/part-00000-of-00001.data-00000-of-00001.tempstate14229235348858834496; No space left on device [Op:SaveV2]"
          ]
        }
      ],
      "source": [
        "model = object_detector.create(train_data, model_spec=spec, batch_size=5, train_whole_model=True, epochs=500, validation_data=val_data)"
      ]
    },
    {
      "cell_type": "markdown",
      "metadata": {
        "id": "L4aqS4gSDl3G"
      },
      "source": [
        "# Section 5: Evaluate the model with the validation data.\n",
        "\n",
        "After training the object detection model using the images in the training dataset, use the 10 images in the validation dataset to evaluate how the model performs against new data it has never seen before.\n",
        "\n",
        "As the default batch size is 64, it will take 1 step to go through the 10 images in the validation dataset.\n",
        "\n",
        "The evaluation metrics are same as [COCO](https://cocodataset.org/#detection-eval)."
      ]
    },
    {
      "cell_type": "code",
      "execution_count": null,
      "metadata": {
        "id": "GZSOoESdDo1u",
        "vscode": {
          "languageId": "python"
        }
      },
      "outputs": [],
      "source": [
        "model.evaluate(val_data)"
      ]
    },
    {
      "cell_type": "markdown",
      "metadata": {
        "id": "m5wljd0aDxjk"
      },
      "source": [
        "# Section 6: Export as a TensorFlow Lite model.\n",
        "\n",
        "Export the trained object detection model to the TensorFlow Lite format by specifying which folder you want to export the quantized model to. The default post-training quantization technique is [full integer quantization](https://www.tensorflow.org/lite/performance/post_training_integer_quant). This allows the TensorFlow Lite model to be smaller, run faster on Raspberry Pi CPU and also compatible with the Google Coral EdgeTPU."
      ]
    },
    {
      "cell_type": "code",
      "execution_count": null,
      "metadata": {
        "id": "MiijzHHhD8Gs",
        "vscode": {
          "languageId": "python"
        }
      },
      "outputs": [],
      "source": [
        "model.export(export_dir='.', tflite_filename=f'{output_name}.tflite')"
      ]
    },
    {
      "cell_type": "markdown",
      "metadata": {
        "id": "Eg90emK1ECMe"
      },
      "source": [
        "# Section 7:  Evaluate the TensorFlow Lite model.\n",
        "\n",
        "Several factors can affect the model accuracy when exporting to TFLite:\n",
        "* [Quantization](https://www.tensorflow.org/lite/performance/model_optimization) helps shrinking the model size by 4 times at the expense of some accuracy drop.\n",
        "* The original TensorFlow model uses per-class [non-max supression (NMS)](https://www.coursera.org/lecture/convolutional-neural-networks/non-max-suppression-dvrjH) for post-processing, while the TFLite model uses global NMS that's much faster but less accurate.\n",
        "Keras outputs maximum 100 detections while tflite outputs maximum 25 detections.\n",
        "\n",
        "Therefore you'll have to evaluate the exported TFLite model and compare its accuracy with the original TensorFlow model."
      ]
    },
    {
      "cell_type": "code",
      "execution_count": null,
      "metadata": {
        "id": "QOVxiPk_EO-w",
        "vscode": {
          "languageId": "python"
        }
      },
      "outputs": [],
      "source": [
        "model.evaluate_tflite(f'{output_name}.tflite', val_data)"
      ]
    },
    {
      "cell_type": "markdown",
      "metadata": {
        "id": "9OnXkNFuFNsr"
      },
      "source": [
        "# Section 9: Visual validation"
      ]
    },
    {
      "cell_type": "code",
      "execution_count": null,
      "metadata": {
        "id": "un6msowWFQ_H",
        "vscode": {
          "languageId": "python"
        }
      },
      "outputs": [],
      "source": [
        "#@title Load the trained TFLite model and define some visualization functions\n",
        "\n",
        "#@markdown This code comes from the TFLite Object Detection [Raspberry Pi sample](https://github.com/tensorflow/examples/tree/master/lite/examples/object_detection/raspberry_pi).\n",
        "\n",
        "import platform\n",
        "from typing import List, NamedTuple\n",
        "import json\n",
        "\n",
        "import cv2\n",
        "\n",
        "Interpreter = tf.lite.Interpreter\n",
        "load_delegate = tf.lite.experimental.load_delegate\n",
        "\n",
        "# pylint: enable=g-import-not-at-top\n",
        "\n",
        "\n",
        "class ObjectDetectorOptions(NamedTuple):\n",
        "  \"\"\"A config to initialize an object detector.\"\"\"\n",
        "\n",
        "  enable_edgetpu: bool = False\n",
        "  \"\"\"Enable the model to run on EdgeTPU.\"\"\"\n",
        "\n",
        "  label_allow_list: List[str] = None\n",
        "  \"\"\"The optional allow list of labels.\"\"\"\n",
        "\n",
        "  label_deny_list: List[str] = None\n",
        "  \"\"\"The optional deny list of labels.\"\"\"\n",
        "\n",
        "  max_results: int = -1\n",
        "  \"\"\"The maximum number of top-scored detection results to return.\"\"\"\n",
        "\n",
        "  num_threads: int = 1\n",
        "  \"\"\"The number of CPU threads to be used.\"\"\"\n",
        "\n",
        "  score_threshold: float = 0.0\n",
        "  \"\"\"The score threshold of detection results to return.\"\"\"\n",
        "\n",
        "\n",
        "class Rect(NamedTuple):\n",
        "  \"\"\"A rectangle in 2D space.\"\"\"\n",
        "  left: float\n",
        "  top: float\n",
        "  right: float\n",
        "  bottom: float\n",
        "\n",
        "\n",
        "class Category(NamedTuple):\n",
        "  \"\"\"A result of a classification task.\"\"\"\n",
        "  label: str\n",
        "  score: float\n",
        "  index: int\n",
        "\n",
        "\n",
        "class Detection(NamedTuple):\n",
        "  \"\"\"A detected object as the result of an ObjectDetector.\"\"\"\n",
        "  bounding_box: Rect\n",
        "  categories: List[Category]\n",
        "\n",
        "\n",
        "def edgetpu_lib_name():\n",
        "  \"\"\"Returns the library name of EdgeTPU in the current platform.\"\"\"\n",
        "  return {\n",
        "      'Darwin': 'libedgetpu.1.dylib',\n",
        "      'Linux': 'libedgetpu.so.1',\n",
        "      'Windows': 'edgetpu.dll',\n",
        "  }.get(platform.system(), None)\n",
        "\n",
        "\n",
        "class ObjectDetector:\n",
        "  \"\"\"A wrapper class for a TFLite object detection model.\"\"\"\n",
        "\n",
        "  _OUTPUT_LOCATION_NAME = 'location'\n",
        "  _OUTPUT_CATEGORY_NAME = 'category'\n",
        "  _OUTPUT_SCORE_NAME = 'score'\n",
        "  _OUTPUT_NUMBER_NAME = 'number of detections'\n",
        "\n",
        "  def __init__(\n",
        "      self,\n",
        "      model_path: str,\n",
        "      options: ObjectDetectorOptions = ObjectDetectorOptions()\n",
        "  ) -> None:\n",
        "    \"\"\"Initialize a TFLite object detection model.\n",
        "    Args:\n",
        "        model_path: Path to the TFLite model.\n",
        "        options: The config to initialize an object detector. (Optional)\n",
        "    Raises:\n",
        "        ValueError: If the TFLite model is invalid.\n",
        "        OSError: If the current OS isn't supported by EdgeTPU.\n",
        "    \"\"\"\n",
        "\n",
        "    # Load metadata from model.\n",
        "    displayer = metadata.MetadataDisplayer.with_model_file(model_path)\n",
        "\n",
        "    # Save model metadata for preprocessing later.\n",
        "    model_metadata = json.loads(displayer.get_metadata_json())\n",
        "    process_units = model_metadata['subgraph_metadata'][0]['input_tensor_metadata'][0]['process_units']\n",
        "    mean = 0.0\n",
        "    std = 1.0\n",
        "    for option in process_units:\n",
        "      if option['options_type'] == 'NormalizationOptions':\n",
        "        mean = option['options']['mean'][0]\n",
        "        std = option['options']['std'][0]\n",
        "    self._mean = mean\n",
        "    self._std = std\n",
        "\n",
        "    # Load label list from metadata.\n",
        "    file_name = displayer.get_packed_associated_file_list()[0]\n",
        "    label_map_file = displayer.get_associated_file_buffer(file_name).decode()\n",
        "    label_list = list(filter(lambda x: len(x) > 0, label_map_file.splitlines()))\n",
        "    self._label_list = label_list\n",
        "\n",
        "    # Initialize TFLite model.\n",
        "    if options.enable_edgetpu:\n",
        "      if edgetpu_lib_name() is None:\n",
        "        raise OSError(\"The current OS isn't supported by Coral EdgeTPU.\")\n",
        "      interpreter = Interpreter(\n",
        "          model_path=model_path,\n",
        "          experimental_delegates=[load_delegate(edgetpu_lib_name())],\n",
        "          num_threads=options.num_threads)\n",
        "    else:\n",
        "      interpreter = Interpreter(\n",
        "          model_path=model_path, num_threads=options.num_threads)\n",
        "\n",
        "    interpreter.allocate_tensors()\n",
        "    input_detail = interpreter.get_input_details()[0]\n",
        "\n",
        "    # From TensorFlow 2.6, the order of the outputs become undefined.\n",
        "    # Therefore we need to sort the tensor indices of TFLite outputs and to know\n",
        "    # exactly the meaning of each output tensor. For example, if\n",
        "    # output indices are [601, 599, 598, 600], tensor names and indices aligned\n",
        "    # are:\n",
        "    #   - location: 598\n",
        "    #   - category: 599\n",
        "    #   - score: 600\n",
        "    #   - detection_count: 601\n",
        "    # because of the op's ports of TFLITE_DETECTION_POST_PROCESS\n",
        "    # (https://github.com/tensorflow/tensorflow/blob/a4fe268ea084e7d323133ed7b986e0ae259a2bc7/tensorflow/lite/kernels/detection_postprocess.cc#L47-L50).\n",
        "    sorted_output_indices = sorted(\n",
        "        [output['index'] for output in interpreter.get_output_details()])\n",
        "    self._output_indices = {\n",
        "        self._OUTPUT_LOCATION_NAME: sorted_output_indices[0],\n",
        "        self._OUTPUT_CATEGORY_NAME: sorted_output_indices[1],\n",
        "        self._OUTPUT_SCORE_NAME: sorted_output_indices[2],\n",
        "        self._OUTPUT_NUMBER_NAME: sorted_output_indices[3],\n",
        "    }\n",
        "\n",
        "    self._input_size = input_detail['shape'][2], input_detail['shape'][1]\n",
        "    self._is_quantized_input = input_detail['dtype'] == np.uint8\n",
        "    self._interpreter = interpreter\n",
        "    self._options = options\n",
        "\n",
        "  def detect(self, input_image: np.ndarray) -> List[Detection]:\n",
        "    \"\"\"Run detection on an input image.\n",
        "    Args:\n",
        "        input_image: A [height, width, 3] RGB image. Note that height and width\n",
        "          can be anything since the image will be immediately resized according\n",
        "          to the needs of the model within this function.\n",
        "    Returns:\n",
        "        A Person instance.\n",
        "    \"\"\"\n",
        "    image_height, image_width, _ = input_image.shape\n",
        "\n",
        "    input_tensor = self._preprocess(input_image)\n",
        "\n",
        "    self._set_input_tensor(input_tensor)\n",
        "    self._interpreter.invoke()\n",
        "\n",
        "    # Get all output details\n",
        "    boxes = self._get_output_tensor(self._OUTPUT_LOCATION_NAME)\n",
        "    classes = self._get_output_tensor(self._OUTPUT_CATEGORY_NAME)\n",
        "    scores = self._get_output_tensor(self._OUTPUT_SCORE_NAME)\n",
        "    count = int(self._get_output_tensor(self._OUTPUT_NUMBER_NAME))\n",
        "\n",
        "    return self._postprocess(boxes, classes, scores, count, image_width,\n",
        "                             image_height)\n",
        "\n",
        "  def _preprocess(self, input_image: np.ndarray) -> np.ndarray:\n",
        "    \"\"\"Preprocess the input image as required by the TFLite model.\"\"\"\n",
        "\n",
        "    # Resize the input\n",
        "    input_tensor = cv2.resize(input_image, self._input_size)\n",
        "\n",
        "    # Normalize the input if it's a float model (aka. not quantized)\n",
        "    if not self._is_quantized_input:\n",
        "      input_tensor = (np.float32(input_tensor) - self._mean) / self._std\n",
        "\n",
        "    # Add batch dimension\n",
        "    input_tensor = np.expand_dims(input_tensor, axis=0)\n",
        "\n",
        "    return input_tensor\n",
        "\n",
        "  def _set_input_tensor(self, image):\n",
        "    \"\"\"Sets the input tensor.\"\"\"\n",
        "    tensor_index = self._interpreter.get_input_details()[0]['index']\n",
        "    input_tensor = self._interpreter.tensor(tensor_index)()[0]\n",
        "    input_tensor[:, :] = image\n",
        "\n",
        "  def _get_output_tensor(self, name):\n",
        "    \"\"\"Returns the output tensor at the given index.\"\"\"\n",
        "    output_index = self._output_indices[name]\n",
        "    tensor = np.squeeze(self._interpreter.get_tensor(output_index))\n",
        "    return tensor\n",
        "\n",
        "  def _postprocess(self, boxes: np.ndarray, classes: np.ndarray,\n",
        "                   scores: np.ndarray, count: int, image_width: int,\n",
        "                   image_height: int) -> List[Detection]:\n",
        "    \"\"\"Post-process the output of TFLite model into a list of Detection objects.\n",
        "    Args:\n",
        "        boxes: Bounding boxes of detected objects from the TFLite model.\n",
        "        classes: Class index of the detected objects from the TFLite model.\n",
        "        scores: Confidence scores of the detected objects from the TFLite model.\n",
        "        count: Number of detected objects from the TFLite model.\n",
        "        image_width: Width of the input image.\n",
        "        image_height: Height of the input image.\n",
        "    Returns:\n",
        "        A list of Detection objects detected by the TFLite model.\n",
        "    \"\"\"\n",
        "    results = []\n",
        "\n",
        "    # Parse the model output into a list of Detection entities.\n",
        "    for i in range(count):\n",
        "      if scores[i] >= self._options.score_threshold:\n",
        "        y_min, x_min, y_max, x_max = boxes[i]\n",
        "        bounding_box = Rect(\n",
        "            top=int(y_min * image_height),\n",
        "            left=int(x_min * image_width),\n",
        "            bottom=int(y_max * image_height),\n",
        "            right=int(x_max * image_width))\n",
        "        class_id = int(classes[i])\n",
        "        category = Category(\n",
        "            score=scores[i],\n",
        "            label=self._label_list[class_id],  # 0 is reserved for background\n",
        "            index=class_id)\n",
        "        result = Detection(bounding_box=bounding_box, categories=[category])\n",
        "        results.append(result)\n",
        "\n",
        "    # Sort detection results by score ascending\n",
        "    sorted_results = sorted(\n",
        "        results,\n",
        "        key=lambda detection: detection.categories[0].score,\n",
        "        reverse=True)\n",
        "\n",
        "    # Filter out detections in deny list\n",
        "    filtered_results = sorted_results\n",
        "    if self._options.label_deny_list is not None:\n",
        "      filtered_results = list(\n",
        "          filter(\n",
        "              lambda detection: detection.categories[0].label not in self.\n",
        "              _options.label_deny_list, filtered_results))\n",
        "\n",
        "    # Keep only detections in allow list\n",
        "    if self._options.label_allow_list is not None:\n",
        "      filtered_results = list(\n",
        "          filter(\n",
        "              lambda detection: detection.categories[0].label in self._options.\n",
        "              label_allow_list, filtered_results))\n",
        "\n",
        "    # Only return maximum of max_results detection.\n",
        "    if self._options.max_results > 0:\n",
        "      result_count = min(len(filtered_results), self._options.max_results)\n",
        "      filtered_results = filtered_results[:result_count]\n",
        "\n",
        "    return filtered_results\n",
        "\n",
        "\n",
        "_MARGIN = -15  # pixels\n",
        "_ROW_SIZE = 10  # pixels\n",
        "_FONT_SIZE = 1\n",
        "_FONT_THICKNESS = 1\n",
        "#_TEXT_COLOR = (0, 0, 255)  # blue\n",
        "_TEXT_COLOR = (255, 0, 0)  # red\n",
        "\n",
        "\n",
        "def visualize(\n",
        "    image: np.ndarray,\n",
        "    detections: List[Detection],\n",
        ") -> np.ndarray:\n",
        "  \"\"\"Draws bounding boxes on the input image and return it.\n",
        "  Args:\n",
        "    image: The input RGB image.\n",
        "    detections: The list of all \"Detection\" entities to be visualize.\n",
        "  Returns:\n",
        "    Image with bounding boxes.\n",
        "  \"\"\"\n",
        "  for detection in detections:\n",
        "    # Draw bounding_box\n",
        "    start_point = detection.bounding_box.left, detection.bounding_box.top\n",
        "    end_point = detection.bounding_box.right, detection.bounding_box.bottom\n",
        "    cv2.rectangle(image, start_point, end_point, _TEXT_COLOR, 2)\n",
        "\n",
        "    # Draw label and score\n",
        "    category = detection.categories[0]\n",
        "    class_name = category.label\n",
        "    probability = round(category.score, 2)\n",
        "    result_text = class_name + ' (' + str(probability) + ')'\n",
        "    text_location = (_MARGIN + detection.bounding_box.left,\n",
        "                     _MARGIN + _ROW_SIZE + detection.bounding_box.top)\n",
        "    cv2.putText(image, result_text, text_location, cv2.FONT_HERSHEY_PLAIN,\n",
        "                _FONT_SIZE, _TEXT_COLOR, _FONT_THICKNESS)\n",
        "\n",
        "  return image"
      ]
    },
    {
      "cell_type": "code",
      "execution_count": null,
      "metadata": {
        "id": "EJSdc2N6FqAA",
        "vscode": {
          "languageId": "python"
        }
      },
      "outputs": [],
      "source": [
        "#@title Run object detection and show the detection results\n",
        "from matplotlib import pyplot as plt\n",
        "from PIL import Image\n",
        "\n",
        "#INPUT_IMAGE_URL = \"http://download.tensorflow.org/example_images/android_figurine.jpg\" #@param {type:\"string\"}\n",
        "DETECTION_THRESHOLD = 0.7 #@param {type:\"number\"}\n",
        "TFLITE_MODEL_PATH = f'{output_name}.tflite' #@param {type:\"string\"}\n",
        "\n",
        "#TEMP_FILE = '/tmp/image.png'\n",
        "\n",
        "#!wget -q -O $TEMP_FILE $INPUT_IMAGE_URL\n",
        "\n",
        "PATH_TO_TEST_IMAGES_DIR =  os.path.join(repo_dir_path, \"data/images/test/\")\n",
        "\n",
        "# directory = os.fsencode(PATH_TO_TEST_IMAGES_DIR)\n",
        "# for input_file in os.listdir(directory):\n",
        "#   filename = os.fsdecode(input_file)\n",
        "#   #print(filename)\n",
        "#   #if filename.endswith(\".jpeg\") or filename.endswith(\".jpg\"):\n",
        "#   if filename == \"test_6.jpg\":\n",
        "#     print('Running inference for {}... '.format(filename), end='')\n",
        "\n",
        "image = Image.open(PATH_TO_TEST_IMAGES_DIR+\"test_17.jpg\").convert('RGB')\n",
        "image.thumbnail((512, 512), Image.ANTIALIAS)\n",
        "image_np = np.asarray(image)\n",
        "\n",
        "# Load the TFLite model\n",
        "options = ObjectDetectorOptions(\n",
        "    num_threads=4,\n",
        "    score_threshold=DETECTION_THRESHOLD,)\n",
        "detector = ObjectDetector(model_path=TFLITE_MODEL_PATH, options=options)\n",
        "# Run object detection estimation using the model.\n",
        "detections = detector.detect(image_np)\n",
        "\n",
        "# Draw keypoints and edges on input image\n",
        "image_np = visualize(image_np, detections)\n",
        "\n",
        "# Show the detection result\n",
        "Image.fromarray(image_np)"
      ]
    },
    {
      "cell_type": "markdown",
      "metadata": {
        "id": "NEPl01wMEXyX"
      },
      "source": [
        "# Section 10: Download the TFLite model to your local computer."
      ]
    },
    {
      "cell_type": "code",
      "execution_count": null,
      "metadata": {
        "id": "tC87EwwlET_k",
        "vscode": {
          "languageId": "python"
        }
      },
      "outputs": [],
      "source": [
        "from google.colab import files\n",
        "files.download(f'{output_name}.tflite')"
      ]
    },
    {
      "cell_type": "markdown",
      "source": [
        "# Section 11: Compile the model for EdgeTPU\n",
        "\n",
        "Finally, we'll compile the model using `edgetpu_compiler` so that the model can run on [Google Coral EdgeTPU](https://coral.ai/).\n",
        "\n",
        "We start with installing the EdgeTPU compiler on Colab."
      ],
      "metadata": {
        "id": "SUXNGOTua3aK"
      }
    },
    {
      "cell_type": "code",
      "source": [
        "!curl https://packages.cloud.google.com/apt/doc/apt-key.gpg | sudo apt-key add -\n",
        "!echo \"deb https://packages.cloud.google.com/apt coral-edgetpu-stable main\" | sudo tee /etc/apt/sources.list.d/coral-edgetpu.list\n",
        "!sudo apt-get update\n",
        "!sudo apt-get install edgetpu-compiler"
      ],
      "metadata": {
        "id": "O5xgflL-a-mt"
      },
      "execution_count": null,
      "outputs": []
    },
    {
      "cell_type": "markdown",
      "source": [
        "Note: When training the model using a custom dataset, beware that if your dataset includes more than 20 classes, you'll probably have slower inference speeds compared to if you have fewer classes. This is due to an aspect of the EfficientDet architecture in which a certain layer cannot compile for the Edge TPU when it carries more than 20 classes."
      ],
      "metadata": {
        "id": "Sm5YCKs0bF2Q"
      }
    },
    {
      "cell_type": "markdown",
      "source": [
        "Before compiling the `.tflite` file for the Edge TPU, it's important to consider whether your model will fit into the Edge TPU memory. \n",
        "\n",
        "The Edge TPU has approximately 8 MB of SRAM for [caching model paramaters](https://coral.ai/docs/edgetpu/compiler/#parameter-data-caching), so any model close to or over 8 MB will not fit onto the Edge TPU memory. That means the inference times are longer, because some model parameters must be fetched from the host system memory.\n",
        "\n",
        "One way to elimiate the extra latency is to use [model pipelining](https://coral.ai/docs/edgetpu/pipeline/), which splits the model into segments that can run on separate Edge TPUs in series. This can significantly reduce the latency for big models.\n",
        "\n",
        "The following table provides recommendations for the number of Edge TPUs to use with each EfficientDet-Lite model.\n",
        "\n",
        "| Model architecture | Minimum TPUs | Recommended TPUs\n",
        "|--------------------|-------|-------|\n",
        "| EfficientDet-Lite0 | 1     | 1     |\n",
        "| EfficientDet-Lite1 | 1     | 1     |\n",
        "| EfficientDet-Lite2 | 1     | 2     |\n",
        "| EfficientDet-Lite3 | 2     | 2     |\n",
        "| EfficientDet-Lite4 | 2     | 3     |\n",
        "\n",
        "If you need extra Edge TPUs for your model, then update `NUMBER_OF_TPUS` here:"
      ],
      "metadata": {
        "id": "Q1be4OukbMm_"
      }
    },
    {
      "cell_type": "code",
      "source": [
        "NUMBER_OF_TPUS = 1\n",
        "\n",
        "!edgetpu_compiler '{output_name}.tflite' --num_segments=$NUMBER_OF_TPUS"
      ],
      "metadata": {
        "id": "1u3gMuqmbGnf"
      },
      "execution_count": null,
      "outputs": []
    },
    {
      "cell_type": "code",
      "source": [
        "populator_dst = metadata.MetadataPopulator.with_model_file(f'{output_name}_edgetpu.tflite')\n",
        "\n",
        "with open(f'{output_name}.tflite', 'rb') as f:\n",
        "  populator_dst.load_metadata_and_associated_files(f.read())\n",
        "\n",
        "populator_dst.populate()\n",
        "updated_model_buf = populator_dst.get_model_buffer()"
      ],
      "metadata": {
        "id": "SZyW3Sg4bRjN"
      },
      "execution_count": null,
      "outputs": []
    },
    {
      "cell_type": "code",
      "source": [
        "# Download the TFLite model compiled for EdgeTPU to your local computer.\n",
        "from google.colab import files\n",
        "files.download(f'{output_name}_edgetpu.tflite')"
      ],
      "metadata": {
        "id": "htggm1CwbV8-"
      },
      "execution_count": null,
      "outputs": []
    },
    {
      "cell_type": "code",
      "source": [],
      "metadata": {
        "id": "3SYmMbwJpkLx"
      },
      "execution_count": null,
      "outputs": []
    }
  ],
  "metadata": {
    "accelerator": "GPU",
    "colab": {
      "name": "tensorflow_traffic_sign_detection.ipynb",
      "provenance": [],
      "include_colab_link": true
    },
    "gpuClass": "premium",
    "kernelspec": {
      "display_name": "Python 3",
      "name": "python3"
    }
  },
  "nbformat": 4,
  "nbformat_minor": 0
}